{
 "cells": [
  {
   "cell_type": "code",
   "execution_count": 1,
   "id": "06640257-ace9-4954-83dc-03ecc1205fda",
   "metadata": {},
   "outputs": [
    {
     "name": "stdout",
     "output_type": "stream",
     "text": [
      "This is my print\n"
     ]
    }
   ],
   "source": [
    "print(\"This is my print\")"
   ]
  },
  {
   "cell_type": "code",
   "execution_count": 2,
   "id": "1dd86254-cad2-4692-8742-5ed02a948c1d",
   "metadata": {},
   "outputs": [],
   "source": [
    "l=[324,45,45,45]"
   ]
  },
  {
   "cell_type": "code",
   "execution_count": 3,
   "id": "cecaf0e7-5f7b-4943-a96c-ddf10e5ce26b",
   "metadata": {},
   "outputs": [
    {
     "data": {
      "text/plain": [
       "4"
      ]
     },
     "execution_count": 3,
     "metadata": {},
     "output_type": "execute_result"
    }
   ],
   "source": [
    "len(l)"
   ]
  },
  {
   "cell_type": "code",
   "execution_count": 4,
   "id": "988e7587-db2b-4067-be93-625666bd498e",
   "metadata": {},
   "outputs": [
    {
     "data": {
      "text/plain": [
       "list"
      ]
     },
     "execution_count": 4,
     "metadata": {},
     "output_type": "execute_result"
    }
   ],
   "source": [
    "type(l)"
   ]
  },
  {
   "cell_type": "markdown",
   "id": "7d9128e7-902d-456e-b280-c630e9207ad8",
   "metadata": {},
   "source": [
    "## This are inbulit function"
   ]
  },
  {
   "cell_type": "code",
   "execution_count": 5,
   "id": "da9d420d-6fc9-4600-bb07-2aa014163781",
   "metadata": {},
   "outputs": [
    {
     "ename": "SyntaxError",
     "evalue": "incomplete input (3861551224.py, line 1)",
     "output_type": "error",
     "traceback": [
      "\u001b[0;36m  Cell \u001b[0;32mIn[5], line 1\u001b[0;36m\u001b[0m\n\u001b[0;31m    def test():\u001b[0m\n\u001b[0m               ^\u001b[0m\n\u001b[0;31mSyntaxError\u001b[0m\u001b[0;31m:\u001b[0m incomplete input\n"
     ]
    }
   ],
   "source": [
    "def test():"
   ]
  },
  {
   "cell_type": "code",
   "execution_count": 7,
   "id": "0d7d6518-652e-46ce-80c8-9d3718fcf8b4",
   "metadata": {},
   "outputs": [],
   "source": [
    "def test():\n",
    "    print(\"This is my first Function\")"
   ]
  },
  {
   "cell_type": "code",
   "execution_count": 8,
   "id": "44c9e814-a67e-420f-ac7e-f7eb8ed2bc08",
   "metadata": {},
   "outputs": [
    {
     "name": "stdout",
     "output_type": "stream",
     "text": [
      "This is my first Function\n"
     ]
    }
   ],
   "source": [
    "test()"
   ]
  },
  {
   "cell_type": "code",
   "execution_count": 9,
   "id": "8761bb09-2fe5-4f1c-afce-61d64e90d838",
   "metadata": {},
   "outputs": [
    {
     "name": "stdout",
     "output_type": "stream",
     "text": [
      "This is my first Function\n"
     ]
    },
    {
     "ename": "TypeError",
     "evalue": "unsupported operand type(s) for +: 'NoneType' and 'str'",
     "output_type": "error",
     "traceback": [
      "\u001b[0;31m---------------------------------------------------------------------------\u001b[0m",
      "\u001b[0;31mTypeError\u001b[0m                                 Traceback (most recent call last)",
      "Cell \u001b[0;32mIn[9], line 1\u001b[0m\n\u001b[0;32m----> 1\u001b[0m \u001b[43mtest\u001b[49m\u001b[43m(\u001b[49m\u001b[43m)\u001b[49m\u001b[38;5;241;43m+\u001b[39;49m\u001b[38;5;124;43m\"\u001b[39;49m\u001b[38;5;124;43mGaurav\u001b[39;49m\u001b[38;5;124;43m\"\u001b[39;49m\n",
      "\u001b[0;31mTypeError\u001b[0m: unsupported operand type(s) for +: 'NoneType' and 'str'"
     ]
    }
   ],
   "source": [
    "test()+\"Gaurav\""
   ]
  },
  {
   "cell_type": "code",
   "execution_count": 11,
   "id": "f7201378-fbb8-4e93-a182-1e60de27c4c3",
   "metadata": {},
   "outputs": [],
   "source": [
    "def test2():\n",
    "    return \"Thi is my very first return\""
   ]
  },
  {
   "cell_type": "code",
   "execution_count": 14,
   "id": "f33ae522-4c9c-401c-8bb5-12e4a739bb60",
   "metadata": {},
   "outputs": [
    {
     "data": {
      "text/plain": [
       "'Thi is my very first return'"
      ]
     },
     "execution_count": 14,
     "metadata": {},
     "output_type": "execute_result"
    }
   ],
   "source": [
    "test2()"
   ]
  },
  {
   "cell_type": "code",
   "execution_count": 17,
   "id": "c401356a-fc20-4067-8d14-492fa99be117",
   "metadata": {},
   "outputs": [
    {
     "data": {
      "text/plain": [
       "'Thi is my very first returnGaurav'"
      ]
     },
     "execution_count": 17,
     "metadata": {},
     "output_type": "execute_result"
    }
   ],
   "source": [
    "test2() + \"Gaurav\""
   ]
  },
  {
   "cell_type": "code",
   "execution_count": 19,
   "id": "d2c548d1-31a4-41ae-9172-2e99bae25d16",
   "metadata": {},
   "outputs": [],
   "source": [
    "def test3():\n",
    "    return \"Gaurav\",23,345.56,[1,2,3,3]"
   ]
  },
  {
   "cell_type": "code",
   "execution_count": 20,
   "id": "dfb67b3c-45ec-4c98-bcf7-9e2323555a13",
   "metadata": {},
   "outputs": [
    {
     "data": {
      "text/plain": [
       "('Gaurav', 23, 345.56, [1, 2, 3, 3])"
      ]
     },
     "execution_count": 20,
     "metadata": {},
     "output_type": "execute_result"
    }
   ],
   "source": [
    "test3()"
   ]
  },
  {
   "cell_type": "code",
   "execution_count": 21,
   "id": "82e3be7c-0ac6-430e-8d35-3fec0046608b",
   "metadata": {},
   "outputs": [],
   "source": [
    "a,b,c,d=test3()"
   ]
  },
  {
   "cell_type": "code",
   "execution_count": 22,
   "id": "25b39c91-9841-4e09-bd37-d3c5ff19ce44",
   "metadata": {},
   "outputs": [
    {
     "data": {
      "text/plain": [
       "'Gaurav'"
      ]
     },
     "execution_count": 22,
     "metadata": {},
     "output_type": "execute_result"
    }
   ],
   "source": [
    "a"
   ]
  },
  {
   "cell_type": "code",
   "execution_count": 23,
   "id": "eb66a134-b0e1-470e-ae18-b5f18219b42b",
   "metadata": {},
   "outputs": [
    {
     "data": {
      "text/plain": [
       "23"
      ]
     },
     "execution_count": 23,
     "metadata": {},
     "output_type": "execute_result"
    }
   ],
   "source": [
    "b"
   ]
  },
  {
   "cell_type": "code",
   "execution_count": 24,
   "id": "c3799a6e-dd67-4d7a-9aa0-08b44adff4ea",
   "metadata": {},
   "outputs": [
    {
     "data": {
      "text/plain": [
       "345.56"
      ]
     },
     "execution_count": 24,
     "metadata": {},
     "output_type": "execute_result"
    }
   ],
   "source": [
    "c"
   ]
  },
  {
   "cell_type": "code",
   "execution_count": 25,
   "id": "5c132b20-03a7-4932-a707-c57e7040e621",
   "metadata": {},
   "outputs": [
    {
     "data": {
      "text/plain": [
       "[1, 2, 3, 3]"
      ]
     },
     "execution_count": 25,
     "metadata": {},
     "output_type": "execute_result"
    }
   ],
   "source": [
    "d"
   ]
  },
  {
   "cell_type": "code",
   "execution_count": 26,
   "id": "a5f280f8-6b90-426a-9fa6-2f12e1d6579b",
   "metadata": {},
   "outputs": [],
   "source": [
    "a=1\n",
    "b=4"
   ]
  },
  {
   "cell_type": "code",
   "execution_count": 27,
   "id": "af2e9648-0c1c-4a64-9878-227ba91878e4",
   "metadata": {},
   "outputs": [],
   "source": [
    "def test4():\n",
    "    a=5+6/7\n",
    "    return a"
   ]
  },
  {
   "cell_type": "code",
   "execution_count": 28,
   "id": "362bfa14-fcf2-4508-a52f-0ce32490c504",
   "metadata": {},
   "outputs": [
    {
     "data": {
      "text/plain": [
       "5.857142857142857"
      ]
     },
     "execution_count": 28,
     "metadata": {},
     "output_type": "execute_result"
    }
   ],
   "source": [
    "test4()"
   ]
  },
  {
   "cell_type": "code",
   "execution_count": 29,
   "id": "bf5c63b8-7cd9-42a9-a89a-1c1f2d51c76b",
   "metadata": {},
   "outputs": [],
   "source": [
    "def test5(a,b,c):\n",
    "    d=a+b/c\n",
    "    return d "
   ]
  },
  {
   "cell_type": "code",
   "execution_count": 31,
   "id": "7bf1993e-664f-48a5-86c1-427b17161ff6",
   "metadata": {},
   "outputs": [
    {
     "data": {
      "text/plain": [
       "2.625"
      ]
     },
     "execution_count": 31,
     "metadata": {},
     "output_type": "execute_result"
    }
   ],
   "source": [
    "test5(2,5,8)"
   ]
  },
  {
   "cell_type": "code",
   "execution_count": 34,
   "id": "6ae39559-af82-45d0-99b9-c45a53daf1b5",
   "metadata": {},
   "outputs": [],
   "source": [
    "def test6(a,b):\n",
    "    return a+b"
   ]
  },
  {
   "cell_type": "code",
   "execution_count": 37,
   "id": "25429ef8-7dba-4342-bd91-640965a2d5f4",
   "metadata": {},
   "outputs": [
    {
     "data": {
      "text/plain": [
       "7"
      ]
     },
     "execution_count": 37,
     "metadata": {},
     "output_type": "execute_result"
    }
   ],
   "source": [
    "test6(3,4)"
   ]
  },
  {
   "cell_type": "code",
   "execution_count": 38,
   "id": "cdd8aaa6-0723-470f-b76c-c5011281e77a",
   "metadata": {},
   "outputs": [
    {
     "data": {
      "text/plain": [
       "'GauravSingh'"
      ]
     },
     "execution_count": 38,
     "metadata": {},
     "output_type": "execute_result"
    }
   ],
   "source": [
    "test6(\"Gaurav\",\"Singh\")"
   ]
  },
  {
   "cell_type": "code",
   "execution_count": 39,
   "id": "25a59926-3e76-40c1-b0e8-f7a142b33726",
   "metadata": {},
   "outputs": [
    {
     "data": {
      "text/plain": [
       "[1, 2, 3, 4, 5, 4, 5, 6]"
      ]
     },
     "execution_count": 39,
     "metadata": {},
     "output_type": "execute_result"
    }
   ],
   "source": [
    "test6([1,2,3,4,5],[4,5,6])"
   ]
  },
  {
   "cell_type": "code",
   "execution_count": 40,
   "id": "5dbd8ed5-64ef-42ee-b6f5-ffd429562c66",
   "metadata": {},
   "outputs": [],
   "source": [
    "l=[1,2,3,4,5,\"Gaurav\",\"Singh\",[1,2,3,4,6]]"
   ]
  },
  {
   "cell_type": "code",
   "execution_count": 51,
   "id": "0ed0f507-dad2-4e8b-ac92-e4720e7d6139",
   "metadata": {},
   "outputs": [],
   "source": [
    "def test7(l): ## Take l a s input\n",
    "    l1=[]\n",
    "    for i in l:\n",
    "        if type(i)==int or type(i)==float:\n",
    "            l1.append(i)\n",
    "    return l1\n",
    "        "
   ]
  },
  {
   "cell_type": "code",
   "execution_count": 50,
   "id": "ff686da1-9544-48fd-968f-c18fd8f9ae77",
   "metadata": {},
   "outputs": [
    {
     "data": {
      "text/plain": [
       "[1, 2, 3, 4, 5]"
      ]
     },
     "execution_count": 50,
     "metadata": {},
     "output_type": "execute_result"
    }
   ],
   "source": [
    "test7(l)"
   ]
  },
  {
   "cell_type": "code",
   "execution_count": 54,
   "id": "a31d8a07-4f20-45d0-89bd-99bb9c2c6d69",
   "metadata": {},
   "outputs": [],
   "source": [
    "def test8(a):\n",
    "    l=[]\n",
    "    for i in a:\n",
    "        if type(i)==list:\n",
    "            for j in i:\n",
    "                l.append(j)\n",
    "        else:\n",
    "            if type(i)==int or type(i)==float:\n",
    "                l.append(i)\n",
    "    return l\n",
    "            "
   ]
  },
  {
   "cell_type": "code",
   "execution_count": 55,
   "id": "7d70cf25-e599-460b-8b53-9ffef15c60b2",
   "metadata": {},
   "outputs": [
    {
     "data": {
      "text/plain": [
       "[1, 2, 3, 4, 5, 1, 2, 3, 4, 6]"
      ]
     },
     "execution_count": 55,
     "metadata": {},
     "output_type": "execute_result"
    }
   ],
   "source": [
    "test8(l)"
   ]
  },
  {
   "cell_type": "code",
   "execution_count": null,
   "id": "d699946b-4dd2-496a-a429-e98a57c5b407",
   "metadata": {},
   "outputs": [],
   "source": [
    "test8()"
   ]
  },
  {
   "cell_type": "code",
   "execution_count": 1,
   "id": "f23a1b81-cdf8-4257-9fad-404a19d33287",
   "metadata": {},
   "outputs": [],
   "source": [
    "def test9(a):\n",
    "    \"\"\" This is my Function to extract num data from list \"\"\"\n",
    "    l=[]\n",
    "    for i in a:\n",
    "        if type(i)==list:\n",
    "            for j in i:\n",
    "                l.append(j)\n",
    "        else:\n",
    "            if type(i)==int or type(i)==float:\n",
    "                l.append(i)\n",
    "    return l\n",
    "            "
   ]
  },
  {
   "cell_type": "code",
   "execution_count": 2,
   "id": "0867607e-90d4-491a-80b7-3c23113b43ee",
   "metadata": {},
   "outputs": [
    {
     "ename": "TypeError",
     "evalue": "test9() missing 1 required positional argument: 'a'",
     "output_type": "error",
     "traceback": [
      "\u001b[0;31m---------------------------------------------------------------------------\u001b[0m",
      "\u001b[0;31mTypeError\u001b[0m                                 Traceback (most recent call last)",
      "Cell \u001b[0;32mIn[2], line 1\u001b[0m\n\u001b[0;32m----> 1\u001b[0m \u001b[43mtest9\u001b[49m\u001b[43m(\u001b[49m\u001b[43m)\u001b[49m\n",
      "\u001b[0;31mTypeError\u001b[0m: test9() missing 1 required positional argument: 'a'"
     ]
    }
   ],
   "source": [
    "test9()"
   ]
  },
  {
   "cell_type": "code",
   "execution_count": 59,
   "id": "021c7bd0-9c20-4bf0-ab16-3a016f16e9a0",
   "metadata": {},
   "outputs": [],
   "source": [
    "def test10(a,b):\n",
    "    return a+b"
   ]
  },
  {
   "cell_type": "code",
   "execution_count": 60,
   "id": "50d214a2-8f49-4f68-a85c-51213791ffdf",
   "metadata": {},
   "outputs": [],
   "source": [
    "def test11(*args): ## * is used to pass n argument in function\n",
    "    return args"
   ]
  },
  {
   "cell_type": "code",
   "execution_count": 61,
   "id": "43ab5662-c114-41e3-9182-6da0f7971bd3",
   "metadata": {},
   "outputs": [
    {
     "data": {
      "text/plain": [
       "tuple"
      ]
     },
     "execution_count": 61,
     "metadata": {},
     "output_type": "execute_result"
    }
   ],
   "source": [
    "type(test11())"
   ]
  },
  {
   "cell_type": "code",
   "execution_count": 62,
   "id": "627c01da-76cf-43c8-b3ba-e9b1c88ad79b",
   "metadata": {},
   "outputs": [
    {
     "data": {
      "text/plain": [
       "(1, 2, 3, 'Gaurav', 'Singh', [1, 2, 3, 4, 5])"
      ]
     },
     "execution_count": 62,
     "metadata": {},
     "output_type": "execute_result"
    }
   ],
   "source": [
    "test11(1,2,3,\"Gaurav\",\"Singh\",[1,2,3,4,5])"
   ]
  },
  {
   "cell_type": "code",
   "execution_count": 63,
   "id": "c11361f6-8709-4e8d-a5f9-49561a89605a",
   "metadata": {},
   "outputs": [],
   "source": [
    "def test12(*args,a) :\n",
    "    return args , a"
   ]
  },
  {
   "cell_type": "code",
   "execution_count": 64,
   "id": "52d23830-e65c-45da-b4af-23e0ac98899e",
   "metadata": {},
   "outputs": [
    {
     "ename": "TypeError",
     "evalue": "test12() missing 1 required keyword-only argument: 'a'",
     "output_type": "error",
     "traceback": [
      "\u001b[0;31m---------------------------------------------------------------------------\u001b[0m",
      "\u001b[0;31mTypeError\u001b[0m                                 Traceback (most recent call last)",
      "Cell \u001b[0;32mIn[64], line 1\u001b[0m\n\u001b[0;32m----> 1\u001b[0m \u001b[43mtest12\u001b[49m\u001b[43m(\u001b[49m\u001b[38;5;241;43m1\u001b[39;49m\u001b[43m,\u001b[49m\u001b[38;5;241;43m2\u001b[39;49m\u001b[43m,\u001b[49m\u001b[38;5;241;43m3\u001b[39;49m\u001b[43m,\u001b[49m\u001b[38;5;241;43m4\u001b[39;49m\u001b[43m)\u001b[49m\n",
      "\u001b[0;31mTypeError\u001b[0m: test12() missing 1 required keyword-only argument: 'a'"
     ]
    }
   ],
   "source": [
    "test12(1,2,3,4)"
   ]
  },
  {
   "cell_type": "code",
   "execution_count": 65,
   "id": "0acf101e-a626-4bae-b3a6-1eb3c5601f84",
   "metadata": {},
   "outputs": [
    {
     "data": {
      "text/plain": [
       "((1, 2, 34), 23)"
      ]
     },
     "execution_count": 65,
     "metadata": {},
     "output_type": "execute_result"
    }
   ],
   "source": [
    "test12(1,2,34,a=23)"
   ]
  },
  {
   "cell_type": "code",
   "execution_count": 66,
   "id": "e077248a-a543-4164-b665-07603c2a0857",
   "metadata": {},
   "outputs": [],
   "source": [
    "def test13(c,d,a=23,b=1):\n",
    "    return a,b,c,d\n",
    "    "
   ]
  },
  {
   "cell_type": "code",
   "execution_count": 69,
   "id": "5a3cde52-291c-44f6-9d9a-cc6e19784126",
   "metadata": {},
   "outputs": [
    {
     "ename": "TypeError",
     "evalue": "test13() missing 2 required positional arguments: 'c' and 'd'",
     "output_type": "error",
     "traceback": [
      "\u001b[0;31m---------------------------------------------------------------------------\u001b[0m",
      "\u001b[0;31mTypeError\u001b[0m                                 Traceback (most recent call last)",
      "Cell \u001b[0;32mIn[69], line 1\u001b[0m\n\u001b[0;32m----> 1\u001b[0m \u001b[43mtest13\u001b[49m\u001b[43m(\u001b[49m\u001b[43m)\u001b[49m\n",
      "\u001b[0;31mTypeError\u001b[0m: test13() missing 2 required positional arguments: 'c' and 'd'"
     ]
    }
   ],
   "source": [
    "test13()"
   ]
  },
  {
   "cell_type": "code",
   "execution_count": 70,
   "id": "b233a940-f80e-48a9-9419-50b4a41d1be9",
   "metadata": {},
   "outputs": [
    {
     "data": {
      "text/plain": [
       "(23, 1, 3, 4)"
      ]
     },
     "execution_count": 70,
     "metadata": {},
     "output_type": "execute_result"
    }
   ],
   "source": [
    "test13(3,4)"
   ]
  },
  {
   "cell_type": "code",
   "execution_count": 73,
   "id": "cff31748-d2fe-4386-aeec-f4126bb6b1af",
   "metadata": {},
   "outputs": [
    {
     "data": {
      "text/plain": [
       "(2342, 1, 2, 4)"
      ]
     },
     "execution_count": 73,
     "metadata": {},
     "output_type": "execute_result"
    }
   ],
   "source": [
    "test13(2,4,a=2342)"
   ]
  },
  {
   "cell_type": "code",
   "execution_count": 76,
   "id": "572d5eb7-84d5-4d60-8637-7bdd34152e48",
   "metadata": {},
   "outputs": [],
   "source": [
    "def test14(**gaurva):\n",
    "    return gaurva"
   ]
  },
  {
   "cell_type": "code",
   "execution_count": 77,
   "id": "a56b1d1d-2897-4495-ba3a-6e44fa281dcd",
   "metadata": {},
   "outputs": [
    {
     "data": {
      "text/plain": [
       "{}"
      ]
     },
     "execution_count": 77,
     "metadata": {},
     "output_type": "execute_result"
    }
   ],
   "source": [
    "test14()"
   ]
  },
  {
   "cell_type": "code",
   "execution_count": 79,
   "id": "2f85c49e-c114-444b-8c05-0cb9a2faa5c7",
   "metadata": {},
   "outputs": [
    {
     "data": {
      "text/plain": [
       "dict"
      ]
     },
     "execution_count": 79,
     "metadata": {},
     "output_type": "execute_result"
    }
   ],
   "source": [
    "type(test14())"
   ]
  },
  {
   "cell_type": "code",
   "execution_count": 80,
   "id": "d3338eed-46a1-448f-ac50-904e234bda36",
   "metadata": {},
   "outputs": [
    {
     "data": {
      "text/plain": [
       "{'a': [1, 2, 3, 4], 'b': 'Gaurav', 'c': 23.45}"
      ]
     },
     "execution_count": 80,
     "metadata": {},
     "output_type": "execute_result"
    }
   ],
   "source": [
    "test14(a=[1,2,3,4],b='Gaurav',c=23.45)"
   ]
  },
  {
   "cell_type": "code",
   "execution_count": null,
   "id": "46c795b6-f0cf-46e3-8a69-3d2039e8f489",
   "metadata": {},
   "outputs": [],
   "source": []
  }
 ],
 "metadata": {
  "kernelspec": {
   "display_name": "Python 3 (ipykernel)",
   "language": "python",
   "name": "python3"
  },
  "language_info": {
   "codemirror_mode": {
    "name": "ipython",
    "version": 3
   },
   "file_extension": ".py",
   "mimetype": "text/x-python",
   "name": "python",
   "nbconvert_exporter": "python",
   "pygments_lexer": "ipython3",
   "version": "3.10.8"
  }
 },
 "nbformat": 4,
 "nbformat_minor": 5
}
