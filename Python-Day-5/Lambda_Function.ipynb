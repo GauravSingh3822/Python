{
 "cells": [
  {
   "cell_type": "code",
   "execution_count": 4,
   "id": "e299e7f1-eab5-4a2a-ad25-a4716e5f1059",
   "metadata": {},
   "outputs": [],
   "source": [
    "n=3\n",
    "p=2"
   ]
  },
  {
   "cell_type": "code",
   "execution_count": 5,
   "id": "f2693d3d-c26c-49c3-b555-ddf1c283019d",
   "metadata": {},
   "outputs": [],
   "source": [
    "def test(n,p):\n",
    "    return n**p"
   ]
  },
  {
   "cell_type": "code",
   "execution_count": 6,
   "id": "41a301e0-05c1-4d30-8b22-eec962e5628b",
   "metadata": {},
   "outputs": [
    {
     "data": {
      "text/plain": [
       "9"
      ]
     },
     "execution_count": 6,
     "metadata": {},
     "output_type": "execute_result"
    }
   ],
   "source": [
    "test(3,2)"
   ]
  },
  {
   "cell_type": "markdown",
   "id": "891eab3d-dacd-4cd3-bec4-fc1228d9a755",
   "metadata": {},
   "source": [
    "## Lambda_Function"
   ]
  },
  {
   "cell_type": "code",
   "execution_count": 3,
   "id": "4e36a95e-1dca-4628-a36a-f9bffb56ce33",
   "metadata": {},
   "outputs": [],
   "source": [
    "a=lambda n,p:n**p"
   ]
  },
  {
   "cell_type": "code",
   "execution_count": 4,
   "id": "1dc2201b-ace5-4f2a-9623-62175484c3d9",
   "metadata": {},
   "outputs": [
    {
     "data": {
      "text/plain": [
       "9"
      ]
     },
     "execution_count": 4,
     "metadata": {},
     "output_type": "execute_result"
    }
   ],
   "source": [
    "a(3,2)"
   ]
  },
  {
   "cell_type": "code",
   "execution_count": 5,
   "id": "4163fd3a-f39f-4395-9d55-8dacbffdcfcf",
   "metadata": {},
   "outputs": [],
   "source": [
    "add=lambda x,y:x+y"
   ]
  },
  {
   "cell_type": "code",
   "execution_count": 6,
   "id": "4c26bb42-f6b3-494b-a278-df1da08e47c1",
   "metadata": {},
   "outputs": [
    {
     "data": {
      "text/plain": [
       "9"
      ]
     },
     "execution_count": 6,
     "metadata": {},
     "output_type": "execute_result"
    }
   ],
   "source": [
    "add(4,5)"
   ]
  },
  {
   "cell_type": "code",
   "execution_count": 7,
   "id": "18f1cbfd-7007-4292-b784-352aaa3a54f0",
   "metadata": {},
   "outputs": [],
   "source": [
    "mult=lambda x,y:x*y"
   ]
  },
  {
   "cell_type": "code",
   "execution_count": 8,
   "id": "922f5637-3123-4900-aa8e-9eec9caad43d",
   "metadata": {},
   "outputs": [],
   "source": [
    "c_to_f=lambda c:(9/5)*c+32"
   ]
  },
  {
   "cell_type": "code",
   "execution_count": 9,
   "id": "f64fd1ff-cbaf-4f76-a793-636ae4da62d7",
   "metadata": {},
   "outputs": [
    {
     "data": {
      "text/plain": [
       "113.0"
      ]
     },
     "execution_count": 9,
     "metadata": {},
     "output_type": "execute_result"
    }
   ],
   "source": [
    "c_to_f(45)"
   ]
  },
  {
   "cell_type": "code",
   "execution_count": 11,
   "id": "07c1591f-06cd-4c5e-99bb-2bd5bd7e576f",
   "metadata": {},
   "outputs": [],
   "source": [
    "finding_max=lambda x,y: x if x>y else y"
   ]
  },
  {
   "cell_type": "code",
   "execution_count": 12,
   "id": "b58d80b2-641f-49b2-9cd4-7380bb0b44d6",
   "metadata": {},
   "outputs": [
    {
     "data": {
      "text/plain": [
       "5"
      ]
     },
     "execution_count": 12,
     "metadata": {},
     "output_type": "execute_result"
    }
   ],
   "source": [
    "finding_max(4,5)"
   ]
  },
  {
   "cell_type": "code",
   "execution_count": 13,
   "id": "64e0a2d3-1411-4fde-8db9-f0f911cba8e2",
   "metadata": {},
   "outputs": [
    {
     "data": {
      "text/plain": [
       "34"
      ]
     },
     "execution_count": 13,
     "metadata": {},
     "output_type": "execute_result"
    }
   ],
   "source": [
    "finding_max(34,34)"
   ]
  },
  {
   "cell_type": "code",
   "execution_count": 14,
   "id": "838fee27-26de-40a8-813f-16fd970dbe72",
   "metadata": {},
   "outputs": [],
   "source": [
    "s='pwskills'"
   ]
  },
  {
   "cell_type": "code",
   "execution_count": 15,
   "id": "814c5049-dbed-42a8-932d-067ba32eb60a",
   "metadata": {},
   "outputs": [],
   "source": [
    "find_lenght=lambda s:len(s)"
   ]
  },
  {
   "cell_type": "code",
   "execution_count": 16,
   "id": "39baf371-5958-4c04-ba46-d22343c68cfd",
   "metadata": {},
   "outputs": [
    {
     "data": {
      "text/plain": [
       "8"
      ]
     },
     "execution_count": 16,
     "metadata": {},
     "output_type": "execute_result"
    }
   ],
   "source": [
    "find_lenght(s)"
   ]
  },
  {
   "cell_type": "code",
   "execution_count": null,
   "id": "d2ebbb61-6637-45f9-8ff1-33c846dffbb7",
   "metadata": {},
   "outputs": [],
   "source": []
  }
 ],
 "metadata": {
  "kernelspec": {
   "display_name": "Python 3 (ipykernel)",
   "language": "python",
   "name": "python3"
  },
  "language_info": {
   "codemirror_mode": {
    "name": "ipython",
    "version": 3
   },
   "file_extension": ".py",
   "mimetype": "text/x-python",
   "name": "python",
   "nbconvert_exporter": "python",
   "pygments_lexer": "ipython3",
   "version": "3.10.8"
  }
 },
 "nbformat": 4,
 "nbformat_minor": 5
}
