{
 "cells": [
  {
   "cell_type": "code",
   "execution_count": 1,
   "id": "700b3a0d-69b1-4b90-b355-a4d474949533",
   "metadata": {},
   "outputs": [],
   "source": [
    "import threading"
   ]
  },
  {
   "cell_type": "code",
   "execution_count": 2,
   "id": "c8929da2-73f8-4c33-88a2-b99c3c8760ef",
   "metadata": {},
   "outputs": [],
   "source": [
    "def test(id) :\n",
    "    print(\"Program start %d\"% id)"
   ]
  },
  {
   "cell_type": "code",
   "execution_count": 3,
   "id": "c2a625dc-1e16-4e66-826d-0456e3fcd0b7",
   "metadata": {},
   "outputs": [
    {
     "name": "stdout",
     "output_type": "stream",
     "text": [
      "Program start 45\n"
     ]
    }
   ],
   "source": [
    "test(45)"
   ]
  },
  {
   "cell_type": "code",
   "execution_count": 4,
   "id": "a7e7b7ae-efa4-4a21-90f3-64dc9fb478ec",
   "metadata": {},
   "outputs": [],
   "source": [
    "thread=[threading.Thread(target=test,args=(i,) )for i in range(10)]"
   ]
  },
  {
   "cell_type": "code",
   "execution_count": 5,
   "id": "842a3c45-a285-4084-9856-4c7e37d4f888",
   "metadata": {},
   "outputs": [
    {
     "name": "stdout",
     "output_type": "stream",
     "text": [
      "Program start 0\n",
      "Program start 1\n",
      "Program start 2\n",
      "Program start 3\n",
      "Program start 4\n",
      "Program start 5\n",
      "Program start 6\n",
      "Program start 7\n",
      "Program start 8\n",
      "Program start 9\n"
     ]
    }
   ],
   "source": [
    "for t in thread :\n",
    "    t.start()"
   ]
  },
  {
   "cell_type": "code",
   "execution_count": 6,
   "id": "5989aad2-6b48-483a-b7d9-47b1d4044809",
   "metadata": {},
   "outputs": [
    {
     "data": {
      "text/plain": [
       "[0, 1, 2, 3, 4, 5, 6, 7, 8, 9]"
      ]
     },
     "execution_count": 6,
     "metadata": {},
     "output_type": "execute_result"
    }
   ],
   "source": [
    "list(range(10))"
   ]
  },
  {
   "cell_type": "code",
   "execution_count": 7,
   "id": "6c333955-1a60-4b60-8260-501a35dc15e9",
   "metadata": {},
   "outputs": [
    {
     "data": {
      "text/plain": [
       "[<Thread(Thread-5 (test), stopped 133454071055936)>,\n",
       " <Thread(Thread-6 (test), stopped 133454071055936)>,\n",
       " <Thread(Thread-7 (test), stopped 133454071055936)>,\n",
       " <Thread(Thread-8 (test), stopped 133454071055936)>,\n",
       " <Thread(Thread-9 (test), stopped 133454071055936)>,\n",
       " <Thread(Thread-10 (test), stopped 133454071055936)>,\n",
       " <Thread(Thread-11 (test), stopped 133454071055936)>,\n",
       " <Thread(Thread-12 (test), stopped 133454071055936)>,\n",
       " <Thread(Thread-13 (test), stopped 133454071055936)>,\n",
       " <Thread(Thread-14 (test), stopped 133454071055936)>]"
      ]
     },
     "execution_count": 7,
     "metadata": {},
     "output_type": "execute_result"
    }
   ],
   "source": [
    "thread"
   ]
  },
  {
   "cell_type": "code",
   "execution_count": 8,
   "id": "8b77da3c-25a7-4fc3-b9d0-cb463de193ba",
   "metadata": {},
   "outputs": [
    {
     "data": {
      "text/plain": [
       "133454438986624"
      ]
     },
     "execution_count": 8,
     "metadata": {},
     "output_type": "execute_result"
    }
   ],
   "source": [
    "id(thread)"
   ]
  },
  {
   "cell_type": "code",
   "execution_count": 9,
   "id": "8328af86-ca28-4d94-a673-4ba9f4ec59b8",
   "metadata": {},
   "outputs": [],
   "source": [
    "import threading\n",
    "import urllib.request\n",
    "\n",
    "def file_download(url,filename) :\n",
    "    urllib.request.urlretrieve(url,filename)\n",
    "    "
   ]
  },
  {
   "cell_type": "code",
   "execution_count": 10,
   "id": "7a66bd00-45d9-4945-8705-4c29e505f6bf",
   "metadata": {},
   "outputs": [],
   "source": [
    "file_download('https://raw.githubusercontent.com/itsfoss/text-files/master/agatha.txt' , \"test.txt\")"
   ]
  },
  {
   "cell_type": "code",
   "execution_count": 11,
   "id": "bd1abb00-ff7f-41b0-b6f2-0593fa6e4da2",
   "metadata": {},
   "outputs": [],
   "source": [
    "url_list  = ['https://raw.githubusercontent.com/itsfoss/text-files/master/agatha.txt','https://raw.githubusercontent.com/itsfoss/text-files/master/sherlock.txt','https://raw.githubusercontent.com/itsfoss/text-files/master/sample_log_file.txt']"
   ]
  },
  {
   "cell_type": "code",
   "execution_count": 12,
   "id": "103b1d9c-2085-416b-9a8f-cc27ec123559",
   "metadata": {},
   "outputs": [
    {
     "data": {
      "text/plain": [
       "['https://raw.githubusercontent.com/itsfoss/text-files/master/agatha.txt',\n",
       " 'https://raw.githubusercontent.com/itsfoss/text-files/master/sherlock.txt',\n",
       " 'https://raw.githubusercontent.com/itsfoss/text-files/master/sample_log_file.txt']"
      ]
     },
     "execution_count": 12,
     "metadata": {},
     "output_type": "execute_result"
    }
   ],
   "source": [
    "url_list"
   ]
  },
  {
   "cell_type": "code",
   "execution_count": 13,
   "id": "c028b65e-0f0c-478a-8025-f6ace6399cf2",
   "metadata": {},
   "outputs": [],
   "source": [
    "file_name_list=['data1.txt','data2.txt','data3.txt']"
   ]
  },
  {
   "cell_type": "code",
   "execution_count": 14,
   "id": "9f5686cb-2be5-4134-b465-09361c9cd4f8",
   "metadata": {},
   "outputs": [],
   "source": [
    "ther=[threading.Thread(target=file_download, args=(url_list[i],file_name_list[i]) ) for i in range(len(url_list))]"
   ]
  },
  {
   "cell_type": "code",
   "execution_count": 15,
   "id": "f8e1e7c1-ecfe-4e90-a442-bd9cb0607a9d",
   "metadata": {},
   "outputs": [
    {
     "data": {
      "text/plain": [
       "[<Thread(Thread-15 (file_download), initial)>,\n",
       " <Thread(Thread-16 (file_download), initial)>,\n",
       " <Thread(Thread-17 (file_download), initial)>]"
      ]
     },
     "execution_count": 15,
     "metadata": {},
     "output_type": "execute_result"
    }
   ],
   "source": [
    "ther"
   ]
  },
  {
   "cell_type": "code",
   "execution_count": 16,
   "id": "4bc1a453-7383-4b2d-89b3-859b9084b4f8",
   "metadata": {},
   "outputs": [],
   "source": [
    "for t in ther :\n",
    "    t.start()"
   ]
  },
  {
   "cell_type": "code",
   "execution_count": 17,
   "id": "62f39cae-8e89-4adf-8ed0-5e0b61c90ddc",
   "metadata": {},
   "outputs": [
    {
     "data": {
      "text/plain": [
       "[<Thread(Thread-15 (file_download), started 133454071055936)>,\n",
       " <Thread(Thread-16 (file_download), started 133454062663232)>,\n",
       " <Thread(Thread-17 (file_download), started 133454054270528)>]"
      ]
     },
     "execution_count": 17,
     "metadata": {},
     "output_type": "execute_result"
    }
   ],
   "source": [
    "ther"
   ]
  },
  {
   "cell_type": "code",
   "execution_count": 18,
   "id": "1a9a2045-8bcc-45bd-842f-51e4e78180d2",
   "metadata": {},
   "outputs": [],
   "source": [
    "import time"
   ]
  },
  {
   "cell_type": "code",
   "execution_count": 19,
   "id": "3f00c5b5-7899-46ba-bf45-2b82df112777",
   "metadata": {},
   "outputs": [],
   "source": [
    "def test1(id) :\n",
    "    for i in range(10) :\n",
    "        print(\"test1 %d printing %d\"%(id,i))\n",
    "        time.sleep(1) ## rest for 1 milisecond"
   ]
  },
  {
   "cell_type": "code",
   "execution_count": 20,
   "id": "dcee13d4-0ec8-4f78-9608-48a19ad20ab4",
   "metadata": {},
   "outputs": [
    {
     "name": "stdout",
     "output_type": "stream",
     "text": [
      "test1 0 printing 0\n",
      "test1 0 printing 1\n",
      "test1 0 printing 2\n",
      "test1 0 printing 3\n",
      "test1 0 printing 4\n",
      "test1 0 printing 5\n",
      "test1 0 printing 6\n",
      "test1 0 printing 7\n",
      "test1 0 printing 8\n",
      "test1 0 printing 9\n"
     ]
    }
   ],
   "source": [
    "test1(0)"
   ]
  },
  {
   "cell_type": "code",
   "execution_count": 21,
   "id": "9431bfba-8311-4062-8a2f-2521f9ecf1ed",
   "metadata": {},
   "outputs": [
    {
     "name": "stdout",
     "output_type": "stream",
     "text": [
      "test1 1 printing 0\n",
      "test1 1 printing 1\n",
      "test1 1 printing 2\n",
      "test1 1 printing 3\n",
      "test1 1 printing 4\n",
      "test1 1 printing 5\n",
      "test1 1 printing 6\n",
      "test1 1 printing 7\n",
      "test1 1 printing 8\n",
      "test1 1 printing 9\n"
     ]
    }
   ],
   "source": [
    "test1(1)"
   ]
  },
  {
   "cell_type": "code",
   "execution_count": 22,
   "id": "c9e4a475-3dd2-4684-a36e-fb40bfb947f9",
   "metadata": {},
   "outputs": [],
   "source": [
    "thread1 = [threading.Thread(target=test1 , args = (i,)) for i in range(3)]"
   ]
  },
  {
   "cell_type": "code",
   "execution_count": 23,
   "id": "ffac2f39-9990-4eb9-ba47-00ef820c1036",
   "metadata": {},
   "outputs": [
    {
     "name": "stdout",
     "output_type": "stream",
     "text": [
      "test1 0 printing 0\n",
      "test1 1 printing 0\n",
      "test1 2 printing 0\n"
     ]
    }
   ],
   "source": [
    "for t in thread1 :\n",
    "    t.start()"
   ]
  },
  {
   "cell_type": "code",
   "execution_count": 24,
   "id": "59665dd4-563b-4445-b5a5-ea55ec93b368",
   "metadata": {},
   "outputs": [],
   "source": [
    "def test1(id) :\n",
    "    for i in range(10) :\n",
    "        print(\"test1 %d printing %d\"%(id,i))\n",
    "        #time.sleep(1) ## rest for 1 milisecond"
   ]
  },
  {
   "cell_type": "code",
   "execution_count": 25,
   "id": "52fd7630-6e6f-4c21-b783-764ca711b4aa",
   "metadata": {},
   "outputs": [],
   "source": [
    "thread1 = [threading.Thread(target=test1 , args = (i,)) for i in range(3)]"
   ]
  },
  {
   "cell_type": "code",
   "execution_count": 26,
   "id": "da427033-b4ef-4256-8b53-85283a6f8ca4",
   "metadata": {},
   "outputs": [
    {
     "name": "stdout",
     "output_type": "stream",
     "text": [
      "test1 0 printing 0\n",
      "test1 0 printing 1\n",
      "test1 0 printing 2\n",
      "test1 0 printing 3\n",
      "test1 0 printing 4\n",
      "test1 0 printing 5\n",
      "test1 0 printing 6\n",
      "test1 0 printing 7\n",
      "test1 0 printing 8\n",
      "test1 0 printing 9\n",
      "test1 1 printing 0\n",
      "test1 1 printing 1\n",
      "test1 1 printing 2\n",
      "test1 1 printing 3\n",
      "test1 1 printing 4\n",
      "test1 1 printing 5\n",
      "test1 1 printing 6\n",
      "test1 1 printing 7\n",
      "test1 1 printing 8\n",
      "test1 1 printing 9\n",
      "test1 2 printing 0\n",
      "test1 2 printing 1\n",
      "test1 2 printing 2\n",
      "test1 2 printing 3\n",
      "test1 2 printing 4\n",
      "test1 2 printing 5\n",
      "test1 2 printing 6\n",
      "test1 2 printing 7\n",
      "test1 2 printing 8\n",
      "test1 2 printing 9\n"
     ]
    }
   ],
   "source": [
    "for t in thread1 :\n",
    "    t.start()"
   ]
  },
  {
   "cell_type": "code",
   "execution_count": 27,
   "id": "3dd8cb58-a472-4230-a245-866951dd67f1",
   "metadata": {},
   "outputs": [],
   "source": [
    "def test1(id) :\n",
    "    for i in range(10) :\n",
    "        print(\"test1 %d printing %d %s\"%(id,i,time.ctime()))\n",
    "        time.sleep(1) ## rest for 1 milisecond"
   ]
  },
  {
   "cell_type": "code",
   "execution_count": 28,
   "id": "0e50132b-7f7d-492b-93bf-70c4f8a6175f",
   "metadata": {},
   "outputs": [
    {
     "name": "stdout",
     "output_type": "stream",
     "text": [
      "test1 0 printing 0 Tue Aug 13 13:58:33 2024\n",
      "test1 1 printing 1\n",
      "test1 0 printing 1\n",
      "test1 2 printing 1\n",
      "test1 0 printing 1 Tue Aug 13 13:58:34 2024\n",
      "test1 1 printing 2test1 0 printing 2\n",
      "\n",
      "test1 2 printing 2\n",
      "test1 0 printing 2 Tue Aug 13 13:58:35 2024\n",
      "test1 0 printing 3test1 2 printing 3\n",
      "\n",
      "test1 1 printing 3\n",
      "test1 0 printing 3 Tue Aug 13 13:58:36 2024\n",
      "test1 2 printing 4\n",
      "test1 1 printing 4\n",
      "test1 0 printing 4\n",
      "test1 0 printing 4 Tue Aug 13 13:58:37 2024\n",
      "test1 2 printing 5test1 1 printing 5\n",
      "\n",
      "test1 0 printing 5\n",
      "test1 0 printing 5 Tue Aug 13 13:58:38 2024\n",
      "test1 1 printing 6test1 0 printing 6\n",
      "\n",
      "test1 2 printing 6\n",
      "test1 0 printing 6 Tue Aug 13 13:58:39 2024\n",
      "test1 0 printing 7test1 1 printing 7\n",
      "\n",
      "test1 2 printing 7\n",
      "test1 0 printing 7 Tue Aug 13 13:58:40 2024\n",
      "test1 1 printing 8\n",
      "test1 0 printing 8\n",
      "test1 2 printing 8\n",
      "test1 0 printing 8 Tue Aug 13 13:58:41 2024\n",
      "test1 1 printing 9\n",
      "test1 0 printing 9\n",
      "test1 2 printing 9\n",
      "test1 0 printing 9 Tue Aug 13 13:58:42 2024\n"
     ]
    }
   ],
   "source": [
    "test1(0)"
   ]
  },
  {
   "cell_type": "code",
   "execution_count": 29,
   "id": "0eb8669f-42b3-439f-9e39-b270472254c5",
   "metadata": {},
   "outputs": [],
   "source": [
    "thread1 = [threading.Thread(target=test1 , args = (i,)) for i in range(3)]"
   ]
  },
  {
   "cell_type": "code",
   "execution_count": 30,
   "id": "e0263302-f5a6-4fd1-8532-c1ee4b66f581",
   "metadata": {},
   "outputs": [
    {
     "name": "stdout",
     "output_type": "stream",
     "text": [
      "test1 0 printing 0 Tue Aug 13 13:58:45 2024\n",
      "test1 1 printing 0 Tue Aug 13 13:58:45 2024\n",
      "test1 2 printing 0 Tue Aug 13 13:58:45 2024\n",
      "test1 0 printing 1 Tue Aug 13 13:58:46 2024\n",
      "test1 2 printing 1 Tue Aug 13 13:58:46 2024\n",
      "test1 1 printing 1 Tue Aug 13 13:58:46 2024\n",
      "test1 1 printing 2 Tue Aug 13 13:58:47 2024\n",
      "test1 2 printing 2 Tue Aug 13 13:58:47 2024\n",
      "test1 0 printing 2 Tue Aug 13 13:58:47 2024\n",
      "test1 1 printing 3 Tue Aug 13 13:58:48 2024test1 2 printing 3 Tue Aug 13 13:58:48 2024\n",
      "test1 0 printing 3 Tue Aug 13 13:58:48 2024\n",
      "\n",
      "test1 2 printing 4 Tue Aug 13 13:58:49 2024\n",
      "test1 0 printing 4 Tue Aug 13 13:58:49 2024\n",
      "test1 1 printing 4 Tue Aug 13 13:58:49 2024\n",
      "test1 1 printing 5 Tue Aug 13 13:58:50 2024test1 0 printing 5 Tue Aug 13 13:58:50 2024\n",
      "\n",
      "test1 2 printing 5 Tue Aug 13 13:58:50 2024\n",
      "test1 0 printing 6 Tue Aug 13 13:58:51 2024\n",
      "test1 1 printing 6 Tue Aug 13 13:58:51 2024\n",
      "test1 2 printing 6 Tue Aug 13 13:58:51 2024\n",
      "test1 0 printing 7 Tue Aug 13 13:58:52 2024\n",
      "test1 1 printing 7 Tue Aug 13 13:58:52 2024\n",
      "test1 2 printing 7 Tue Aug 13 13:58:52 2024\n",
      "test1 0 printing 8 Tue Aug 13 13:58:53 2024test1 2 printing 8 Tue Aug 13 13:58:53 2024\n",
      "\n",
      "test1 1 printing 8 Tue Aug 13 13:58:53 2024\n",
      "test1 0 printing 9 Tue Aug 13 13:58:54 2024test1 2 printing 9 Tue Aug 13 13:58:54 2024\n",
      "\n",
      "test1 1 printing 9 Tue Aug 13 13:58:54 2024\n"
     ]
    }
   ],
   "source": [
    "for t in thread1 :\n",
    "    t.start()"
   ]
  },
  {
   "cell_type": "code",
   "execution_count": 31,
   "id": "1753853a-1057-418c-8185-be7eb34ff615",
   "metadata": {},
   "outputs": [],
   "source": []
  },
  {
   "cell_type": "code",
   "execution_count": 43,
   "id": "f068f958-95c0-43c6-ac99-763c504b6954",
   "metadata": {},
   "outputs": [
    {
     "name": "stdout",
     "output_type": "stream",
     "text": [
      "test 2 id is 0 has increaded the shared variable by 1\n",
      "test 2 id is 1 has increaded the shared variable by 2\n",
      "test 2 id is 2 has increaded the shared variable by 3\n"
     ]
    }
   ],
   "source": [
    "shared_var = 0\n",
    "lock_var = threading.Lock()\n",
    "def test2(id) :\n",
    "    global shared_var\n",
    "    with lock_var :\n",
    "        shared_var = shared_var+1\n",
    "        print(\"test 2 id is %d has increaded the shared variable by %d\" %(id ,shared_var) )\n",
    "        time.sleep(1)\n",
    "ther3 = [threading.Thread(target=test2 , args = (i,)) for i in range(3)]\n",
    "for t in ther3:\n",
    "    t.start()"
   ]
  },
  {
   "cell_type": "code",
   "execution_count": 42,
   "id": "6c15f095-62e9-4131-9a3a-f094e13d79b9",
   "metadata": {},
   "outputs": [
    {
     "name": "stdout",
     "output_type": "stream",
     "text": [
      "test 2 id is 0 has increaded the shared variable by 4\n"
     ]
    }
   ],
   "source": [
    "test2(0)"
   ]
  }
 ],
 "metadata": {
  "kernelspec": {
   "display_name": "Python 3 (ipykernel)",
   "language": "python",
   "name": "python3"
  },
  "language_info": {
   "codemirror_mode": {
    "name": "ipython",
    "version": 3
   },
   "file_extension": ".py",
   "mimetype": "text/x-python",
   "name": "python",
   "nbconvert_exporter": "python",
   "pygments_lexer": "ipython3",
   "version": "3.10.8"
  }
 },
 "nbformat": 4,
 "nbformat_minor": 5
}
