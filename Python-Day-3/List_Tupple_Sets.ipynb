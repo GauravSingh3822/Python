{
 "cells": [
  {
   "cell_type": "markdown",
   "id": "21b798d2-e4eb-47dd-ad6b-1fd044cc0007",
   "metadata": {},
   "source": [
    "# List"
   ]
  },
  {
   "cell_type": "code",
   "execution_count": 1,
   "id": "f900b9f7-9327-488b-86e9-b8ca08fe0573",
   "metadata": {},
   "outputs": [],
   "source": [
    "## List is a mutable and in list we store many datatype in single and list is denoted by []\n",
    "l=[1,345,45,\"Gaurav\",True,5+7j,345.456]"
   ]
  },
  {
   "cell_type": "code",
   "execution_count": 2,
   "id": "0ec6cdf8-5386-47f5-ac16-e34858f8bb5e",
   "metadata": {},
   "outputs": [
    {
     "data": {
      "text/plain": [
       "list"
      ]
     },
     "execution_count": 2,
     "metadata": {},
     "output_type": "execute_result"
    }
   ],
   "source": [
    "type(l)"
   ]
  },
  {
   "cell_type": "code",
   "execution_count": 7,
   "id": "ab992a3e-8415-46b4-8d0f-35bae32d3b8d",
   "metadata": {},
   "outputs": [
    {
     "data": {
      "text/plain": [
       "(345, 45, 'Gaurav', True, (5+7j), 345.456)"
      ]
     },
     "execution_count": 7,
     "metadata": {},
     "output_type": "execute_result"
    }
   ],
   "source": [
    "## find each element in list\n",
    "l[1],l[2],l[3],l[4],l[5],l[6]"
   ]
  },
  {
   "cell_type": "code",
   "execution_count": 13,
   "id": "9b4b98cd-b1de-49ad-b19e-dfc8c4498f6f",
   "metadata": {},
   "outputs": [
    {
     "ename": "IndexError",
     "evalue": "list index out of range",
     "output_type": "error",
     "traceback": [
      "\u001b[0;31m---------------------------------------------------------------------------\u001b[0m",
      "\u001b[0;31mIndexError\u001b[0m                                Traceback (most recent call last)",
      "Cell \u001b[0;32mIn[13], line 1\u001b[0m\n\u001b[0;32m----> 1\u001b[0m \u001b[43ml\u001b[49m\u001b[43m[\u001b[49m\u001b[38;5;241;43m90\u001b[39;49m\u001b[43m]\u001b[49m\n",
      "\u001b[0;31mIndexError\u001b[0m: list index out of range"
     ]
    }
   ],
   "source": [
    "l[90]"
   ]
  },
  {
   "cell_type": "code",
   "execution_count": 9,
   "id": "1c5f43e5-b7e1-47b1-a088-3cffd666f5c4",
   "metadata": {},
   "outputs": [
    {
     "data": {
      "text/plain": [
       "[1, 45, True, 345.456]"
      ]
     },
     "execution_count": 9,
     "metadata": {},
     "output_type": "execute_result"
    }
   ],
   "source": [
    "l[::2]"
   ]
  },
  {
   "cell_type": "code",
   "execution_count": 10,
   "id": "538d3137-2379-402b-8098-d905d2c70dfb",
   "metadata": {},
   "outputs": [
    {
     "data": {
      "text/plain": [
       "[1, 345, 45, 'Gaurav']"
      ]
     },
     "execution_count": 10,
     "metadata": {},
     "output_type": "execute_result"
    }
   ],
   "source": [
    "l[0:4]"
   ]
  },
  {
   "cell_type": "code",
   "execution_count": 11,
   "id": "80722f60-4f10-4755-9129-39d9a24664d5",
   "metadata": {},
   "outputs": [
    {
     "data": {
      "text/plain": [
       "[1, 45, True]"
      ]
     },
     "execution_count": 11,
     "metadata": {},
     "output_type": "execute_result"
    }
   ],
   "source": [
    "l[0:6:2]"
   ]
  },
  {
   "cell_type": "code",
   "execution_count": 12,
   "id": "f2a05bfa-f1e3-41ab-82b8-a4138a3ef933",
   "metadata": {},
   "outputs": [
    {
     "data": {
      "text/plain": [
       "[345.456, (5+7j), True, 'Gaurav', 45, 345, 1]"
      ]
     },
     "execution_count": 12,
     "metadata": {},
     "output_type": "execute_result"
    }
   ],
   "source": [
    "l[::-1] ## Reverse the list"
   ]
  },
  {
   "cell_type": "code",
   "execution_count": 14,
   "id": "d02ef9fc-4bad-4f36-84e1-23a773da0a09",
   "metadata": {},
   "outputs": [
    {
     "data": {
      "text/plain": [
       "[1, 345]"
      ]
     },
     "execution_count": 14,
     "metadata": {},
     "output_type": "execute_result"
    }
   ],
   "source": [
    "l[0:2]"
   ]
  },
  {
   "cell_type": "code",
   "execution_count": 15,
   "id": "b8f12273-089e-446f-8eeb-ffe49716b591",
   "metadata": {},
   "outputs": [
    {
     "data": {
      "text/plain": [
       "[1, 345, 45]"
      ]
     },
     "execution_count": 15,
     "metadata": {},
     "output_type": "execute_result"
    }
   ],
   "source": [
    "l[0:3]"
   ]
  },
  {
   "cell_type": "code",
   "execution_count": 17,
   "id": "d40f4716-192d-4c11-96fb-b6a76c4d4daf",
   "metadata": {},
   "outputs": [
    {
     "data": {
      "text/plain": [
       "345.456"
      ]
     },
     "execution_count": 17,
     "metadata": {},
     "output_type": "execute_result"
    }
   ],
   "source": [
    "l[-1]"
   ]
  },
  {
   "cell_type": "code",
   "execution_count": 20,
   "id": "4cdc62f0-575f-4753-a197-da22d8efcc48",
   "metadata": {},
   "outputs": [
    {
     "data": {
      "text/plain": [
       "[1, 45, True, 345.456]"
      ]
     },
     "execution_count": 20,
     "metadata": {},
     "output_type": "execute_result"
    }
   ],
   "source": [
    "l[::2]"
   ]
  },
  {
   "cell_type": "code",
   "execution_count": 21,
   "id": "0bd2192d-02d9-4144-867c-1bec7d18b410",
   "metadata": {},
   "outputs": [
    {
     "data": {
      "text/plain": [
       "[345.456, (5+7j), True, 'Gaurav', 45, 345, 1]"
      ]
     },
     "execution_count": 21,
     "metadata": {},
     "output_type": "execute_result"
    }
   ],
   "source": [
    "l[:-90:-1]"
   ]
  },
  {
   "cell_type": "code",
   "execution_count": 22,
   "id": "ed3f9c28-f71e-43eb-b279-c69c1221afaa",
   "metadata": {},
   "outputs": [
    {
     "data": {
      "text/plain": [
       "[1, 345, 45, 'Gaurav', True, (5+7j), 345.456]"
      ]
     },
     "execution_count": 22,
     "metadata": {},
     "output_type": "execute_result"
    }
   ],
   "source": [
    "l"
   ]
  },
  {
   "cell_type": "code",
   "execution_count": 23,
   "id": "bde66b6a-9c82-4824-a674-8c34837151b2",
   "metadata": {},
   "outputs": [],
   "source": [
    "s=\"pwskills\""
   ]
  },
  {
   "cell_type": "code",
   "execution_count": 24,
   "id": "d578c796-b24b-4a35-b675-c8cc077516ff",
   "metadata": {},
   "outputs": [
    {
     "ename": "TypeError",
     "evalue": "can only concatenate list (not \"str\") to list",
     "output_type": "error",
     "traceback": [
      "\u001b[0;31m---------------------------------------------------------------------------\u001b[0m",
      "\u001b[0;31mTypeError\u001b[0m                                 Traceback (most recent call last)",
      "Cell \u001b[0;32mIn[24], line 1\u001b[0m\n\u001b[0;32m----> 1\u001b[0m \u001b[43ml\u001b[49m\u001b[38;5;241;43m+\u001b[39;49m\u001b[43ms\u001b[49m\n",
      "\u001b[0;31mTypeError\u001b[0m: can only concatenate list (not \"str\") to list"
     ]
    }
   ],
   "source": [
    "l+s"
   ]
  },
  {
   "cell_type": "code",
   "execution_count": 25,
   "id": "02b75775-a5cc-4e65-9ca3-e93d19135dae",
   "metadata": {},
   "outputs": [
    {
     "data": {
      "text/plain": [
       "['p', 'w', 's', 'k', 'i', 'l', 'l', 's']"
      ]
     },
     "execution_count": 25,
     "metadata": {},
     "output_type": "execute_result"
    }
   ],
   "source": [
    "list(s)"
   ]
  },
  {
   "cell_type": "code",
   "execution_count": 26,
   "id": "ae3bfbf1-f4a1-4696-ba6a-c2ddd757cc69",
   "metadata": {},
   "outputs": [
    {
     "data": {
      "text/plain": [
       "['p',\n",
       " 'w',\n",
       " 's',\n",
       " 'k',\n",
       " 'i',\n",
       " 'l',\n",
       " 'l',\n",
       " 's',\n",
       " 1,\n",
       " 345,\n",
       " 45,\n",
       " 'Gaurav',\n",
       " True,\n",
       " (5+7j),\n",
       " 345.456]"
      ]
     },
     "execution_count": 26,
     "metadata": {},
     "output_type": "execute_result"
    }
   ],
   "source": [
    "list(s)+l"
   ]
  },
  {
   "cell_type": "code",
   "execution_count": 27,
   "id": "209a802d-c5a2-450f-9e38-111f51be95f4",
   "metadata": {},
   "outputs": [
    {
     "data": {
      "text/plain": [
       "'Gaurav'"
      ]
     },
     "execution_count": 27,
     "metadata": {},
     "output_type": "execute_result"
    }
   ],
   "source": [
    "l[3]"
   ]
  },
  {
   "cell_type": "code",
   "execution_count": 28,
   "id": "4e516306-b2e6-4e66-be6d-2278da2f6426",
   "metadata": {},
   "outputs": [
    {
     "data": {
      "text/plain": [
       "'Gau'"
      ]
     },
     "execution_count": 28,
     "metadata": {},
     "output_type": "execute_result"
    }
   ],
   "source": [
    "l[3][0:3]"
   ]
  },
  {
   "cell_type": "code",
   "execution_count": 29,
   "id": "9d7d93c4-1def-4845-910f-309bcc918c83",
   "metadata": {},
   "outputs": [
    {
     "data": {
      "text/plain": [
       "True"
      ]
     },
     "execution_count": 29,
     "metadata": {},
     "output_type": "execute_result"
    }
   ],
   "source": [
    "l[4]"
   ]
  },
  {
   "cell_type": "code",
   "execution_count": 32,
   "id": "9ed54fd9-09b5-479d-bbf9-f1d8dba6ee08",
   "metadata": {},
   "outputs": [
    {
     "data": {
      "text/plain": [
       "bool"
      ]
     },
     "execution_count": 32,
     "metadata": {},
     "output_type": "execute_result"
    }
   ],
   "source": [
    "type(l[4])"
   ]
  },
  {
   "cell_type": "code",
   "execution_count": 31,
   "id": "fa6a6d3e-4729-488c-9523-f6af80a22d85",
   "metadata": {},
   "outputs": [
    {
     "data": {
      "text/plain": [
       "'Tr'"
      ]
     },
     "execution_count": 31,
     "metadata": {},
     "output_type": "execute_result"
    }
   ],
   "source": [
    "str(l[4])[0:2]"
   ]
  },
  {
   "cell_type": "code",
   "execution_count": 33,
   "id": "941d3932-5e20-47c4-a6d6-43d0545b61f1",
   "metadata": {},
   "outputs": [
    {
     "ename": "TypeError",
     "evalue": "can only concatenate list (not \"int\") to list",
     "output_type": "error",
     "traceback": [
      "\u001b[0;31m---------------------------------------------------------------------------\u001b[0m",
      "\u001b[0;31mTypeError\u001b[0m                                 Traceback (most recent call last)",
      "Cell \u001b[0;32mIn[33], line 1\u001b[0m\n\u001b[0;32m----> 1\u001b[0m \u001b[43ml\u001b[49m\u001b[38;5;241;43m+\u001b[39;49m\u001b[38;5;241;43m5\u001b[39;49m\n",
      "\u001b[0;31mTypeError\u001b[0m: can only concatenate list (not \"int\") to list"
     ]
    }
   ],
   "source": [
    "l+5"
   ]
  },
  {
   "cell_type": "code",
   "execution_count": 34,
   "id": "74b279b9-4596-4d13-97d7-dc33c43c0ea4",
   "metadata": {},
   "outputs": [],
   "source": [
    "l1=[3,4,5]"
   ]
  },
  {
   "cell_type": "code",
   "execution_count": 35,
   "id": "85175fc6-2493-43cd-9328-32b4e2ecb282",
   "metadata": {},
   "outputs": [
    {
     "data": {
      "text/plain": [
       "[1, 345, 45, 'Gaurav', True, (5+7j), 345.456, 3, 4, 5]"
      ]
     },
     "execution_count": 35,
     "metadata": {},
     "output_type": "execute_result"
    }
   ],
   "source": [
    "l+l1"
   ]
  },
  {
   "cell_type": "code",
   "execution_count": 36,
   "id": "ba255844-fb8e-403a-b6de-3bcb3acd45d4",
   "metadata": {},
   "outputs": [
    {
     "data": {
      "text/plain": [
       "[3, 4, 5, 3, 4, 5, 3, 4, 5]"
      ]
     },
     "execution_count": 36,
     "metadata": {},
     "output_type": "execute_result"
    }
   ],
   "source": [
    "l1*3"
   ]
  },
  {
   "cell_type": "code",
   "execution_count": 38,
   "id": "60a8cfc4-c0ff-48a4-8514-fd7ab7445f9b",
   "metadata": {},
   "outputs": [
    {
     "data": {
      "text/plain": [
       "7"
      ]
     },
     "execution_count": 38,
     "metadata": {},
     "output_type": "execute_result"
    }
   ],
   "source": [
    "len(l)"
   ]
  },
  {
   "cell_type": "code",
   "execution_count": 39,
   "id": "4f495a02-c7ae-412d-a850-d4216772e10b",
   "metadata": {},
   "outputs": [
    {
     "data": {
      "text/plain": [
       "[1, 345, 45, 'Gaurav', True, (5+7j), 345.456]"
      ]
     },
     "execution_count": 39,
     "metadata": {},
     "output_type": "execute_result"
    }
   ],
   "source": [
    "l"
   ]
  },
  {
   "cell_type": "code",
   "execution_count": 40,
   "id": "40535770-8e68-49b6-af0d-c4627069c35e",
   "metadata": {},
   "outputs": [],
   "source": [
    "l.append(5)"
   ]
  },
  {
   "cell_type": "code",
   "execution_count": 41,
   "id": "bcdf0830-457e-476d-9cff-eebe7be71a64",
   "metadata": {},
   "outputs": [
    {
     "data": {
      "text/plain": [
       "[1, 345, 45, 'Gaurav', True, (5+7j), 345.456, 5]"
      ]
     },
     "execution_count": 41,
     "metadata": {},
     "output_type": "execute_result"
    }
   ],
   "source": [
    "l"
   ]
  },
  {
   "cell_type": "code",
   "execution_count": 42,
   "id": "b5a3f5a1-0bcf-4eeb-a300-d66bbc362f5f",
   "metadata": {},
   "outputs": [],
   "source": [
    "l.append(s)"
   ]
  },
  {
   "cell_type": "code",
   "execution_count": 43,
   "id": "bb095720-d4e1-4a6c-901f-58b8aa2d8453",
   "metadata": {},
   "outputs": [
    {
     "data": {
      "text/plain": [
       "[1, 345, 45, 'Gaurav', True, (5+7j), 345.456, 5, 'pwskills']"
      ]
     },
     "execution_count": 43,
     "metadata": {},
     "output_type": "execute_result"
    }
   ],
   "source": [
    "l"
   ]
  },
  {
   "cell_type": "code",
   "execution_count": 44,
   "id": "aec96097-19a7-4ffc-8226-a2fb2aeee37c",
   "metadata": {},
   "outputs": [
    {
     "data": {
      "text/plain": [
       "'pwskills'"
      ]
     },
     "execution_count": 44,
     "metadata": {},
     "output_type": "execute_result"
    }
   ],
   "source": [
    "s"
   ]
  },
  {
   "cell_type": "code",
   "execution_count": 45,
   "id": "a19b9e16-083d-4679-8958-f6ea0ab9a74e",
   "metadata": {},
   "outputs": [],
   "source": [
    "l.append(l1)"
   ]
  },
  {
   "cell_type": "code",
   "execution_count": 49,
   "id": "c4f85c34-237a-44a4-9a20-1a4abfafc7df",
   "metadata": {},
   "outputs": [
    {
     "data": {
      "text/plain": [
       "\u001b[0;31mType:\u001b[0m        list\n",
       "\u001b[0;31mString form:\u001b[0m [3, 4, 5]\n",
       "\u001b[0;31mLength:\u001b[0m      3\n",
       "\u001b[0;31mDocstring:\u001b[0m  \n",
       "Built-in mutable sequence.\n",
       "\n",
       "If no argument is given, the constructor creates a new empty list.\n",
       "The argument must be an iterable if specified.\n"
      ]
     },
     "metadata": {},
     "output_type": "display_data"
    }
   ],
   "source": [
    "l1"
   ]
  },
  {
   "cell_type": "code",
   "execution_count": 46,
   "id": "53988633-09aa-4f65-84b7-6512358c3789",
   "metadata": {},
   "outputs": [
    {
     "data": {
      "text/plain": [
       "[1, 345, 45, 'Gaurav', True, (5+7j), 345.456, 5, 'pwskills', [3, 4, 5]]"
      ]
     },
     "execution_count": 46,
     "metadata": {},
     "output_type": "execute_result"
    }
   ],
   "source": [
    "l"
   ]
  },
  {
   "cell_type": "code",
   "execution_count": 51,
   "id": "cfbc188b-d4e9-4fbe-94f5-ed2f7655af33",
   "metadata": {},
   "outputs": [
    {
     "data": {
      "text/plain": [
       "[3, 4, 5]"
      ]
     },
     "execution_count": 51,
     "metadata": {},
     "output_type": "execute_result"
    }
   ],
   "source": [
    "l[-1]"
   ]
  },
  {
   "cell_type": "code",
   "execution_count": 52,
   "id": "1f265da4-471d-41a7-a94d-b8ed12256091",
   "metadata": {},
   "outputs": [
    {
     "data": {
      "text/plain": [
       "4"
      ]
     },
     "execution_count": 52,
     "metadata": {},
     "output_type": "execute_result"
    }
   ],
   "source": [
    "l[-1][1]"
   ]
  },
  {
   "cell_type": "code",
   "execution_count": 53,
   "id": "89b9f03a-c08f-4e9c-91fc-85ac35ceea66",
   "metadata": {},
   "outputs": [
    {
     "data": {
      "text/plain": [
       "[1, 345, 45, 'Gaurav', True, (5+7j), 345.456, 5, 'pwskills', [3, 4, 5]]"
      ]
     },
     "execution_count": 53,
     "metadata": {},
     "output_type": "execute_result"
    }
   ],
   "source": [
    "l"
   ]
  },
  {
   "cell_type": "code",
   "execution_count": 54,
   "id": "5883f0cb-5c13-4284-a671-ec0c71197aa3",
   "metadata": {},
   "outputs": [
    {
     "ename": "TypeError",
     "evalue": "'int' object is not iterable",
     "output_type": "error",
     "traceback": [
      "\u001b[0;31m---------------------------------------------------------------------------\u001b[0m",
      "\u001b[0;31mTypeError\u001b[0m                                 Traceback (most recent call last)",
      "Cell \u001b[0;32mIn[54], line 1\u001b[0m\n\u001b[0;32m----> 1\u001b[0m \u001b[43ml\u001b[49m\u001b[38;5;241;43m.\u001b[39;49m\u001b[43mextend\u001b[49m\u001b[43m(\u001b[49m\u001b[38;5;241;43m4\u001b[39;49m\u001b[43m)\u001b[49m\n",
      "\u001b[0;31mTypeError\u001b[0m: 'int' object is not iterable"
     ]
    }
   ],
   "source": [
    "l.extend(4)"
   ]
  },
  {
   "cell_type": "code",
   "execution_count": 55,
   "id": "ce1f3aaa-1af3-4090-93fc-119b6f264b9b",
   "metadata": {},
   "outputs": [],
   "source": [
    "l.extend(\"Gaurav\")"
   ]
  },
  {
   "cell_type": "code",
   "execution_count": 56,
   "id": "153826fe-2dcb-4ccd-a54d-f174c7f4a406",
   "metadata": {},
   "outputs": [
    {
     "data": {
      "text/plain": [
       "[1,\n",
       " 345,\n",
       " 45,\n",
       " 'Gaurav',\n",
       " True,\n",
       " (5+7j),\n",
       " 345.456,\n",
       " 5,\n",
       " 'pwskills',\n",
       " [3, 4, 5],\n",
       " 'G',\n",
       " 'a',\n",
       " 'u',\n",
       " 'r',\n",
       " 'a',\n",
       " 'v']"
      ]
     },
     "execution_count": 56,
     "metadata": {},
     "output_type": "execute_result"
    }
   ],
   "source": [
    "l"
   ]
  },
  {
   "cell_type": "code",
   "execution_count": 57,
   "id": "dfa42187-3875-4ceb-842a-39efffe6227b",
   "metadata": {},
   "outputs": [],
   "source": [
    "l.extend([3,4,5])"
   ]
  },
  {
   "cell_type": "code",
   "execution_count": 58,
   "id": "daa26c09-0b71-44b5-b668-d1f09845742b",
   "metadata": {},
   "outputs": [
    {
     "data": {
      "text/plain": [
       "[1,\n",
       " 345,\n",
       " 45,\n",
       " 'Gaurav',\n",
       " True,\n",
       " (5+7j),\n",
       " 345.456,\n",
       " 5,\n",
       " 'pwskills',\n",
       " [3, 4, 5],\n",
       " 'G',\n",
       " 'a',\n",
       " 'u',\n",
       " 'r',\n",
       " 'a',\n",
       " 'v',\n",
       " 3,\n",
       " 4,\n",
       " 5]"
      ]
     },
     "execution_count": 58,
     "metadata": {},
     "output_type": "execute_result"
    }
   ],
   "source": [
    "l"
   ]
  },
  {
   "cell_type": "code",
   "execution_count": 59,
   "id": "4b0edf8a-6f65-41b0-8406-d4aaaaff224c",
   "metadata": {},
   "outputs": [
    {
     "data": {
      "text/plain": [
       "[3, 4, 5]"
      ]
     },
     "execution_count": 59,
     "metadata": {},
     "output_type": "execute_result"
    }
   ],
   "source": [
    "l1"
   ]
  },
  {
   "cell_type": "code",
   "execution_count": 62,
   "id": "90b594be-eb83-4ee8-a36e-f422b1335dcf",
   "metadata": {},
   "outputs": [],
   "source": [
    "l1.insert(0,\"Gaurav\")"
   ]
  },
  {
   "cell_type": "code",
   "execution_count": 63,
   "id": "5ba88eda-6f0e-45f7-a181-57ff35cb4baa",
   "metadata": {},
   "outputs": [
    {
     "data": {
      "text/plain": [
       "['Gaurav', 3, 4, 5, 6]"
      ]
     },
     "execution_count": 63,
     "metadata": {},
     "output_type": "execute_result"
    }
   ],
   "source": [
    "l1"
   ]
  },
  {
   "cell_type": "code",
   "execution_count": 64,
   "id": "acc8e384-5d16-439e-a994-36a961b06b49",
   "metadata": {},
   "outputs": [],
   "source": [
    "l1.insert(2,[2,3,4])"
   ]
  },
  {
   "cell_type": "code",
   "execution_count": 66,
   "id": "aac71419-50f5-4230-b625-e885d13272d4",
   "metadata": {},
   "outputs": [
    {
     "data": {
      "text/plain": [
       "['Gaurav', 3, [2, 3, 4], 4, 5, 6]"
      ]
     },
     "execution_count": 66,
     "metadata": {},
     "output_type": "execute_result"
    }
   ],
   "source": [
    "l1"
   ]
  },
  {
   "cell_type": "code",
   "execution_count": 68,
   "id": "4667cbdb-d8d9-4b44-9919-79b748ab15ff",
   "metadata": {},
   "outputs": [],
   "source": [
    "l1.insert(-1,45)"
   ]
  },
  {
   "cell_type": "code",
   "execution_count": 69,
   "id": "fb3f14bc-c4f7-44ae-864f-6d72595d2d3b",
   "metadata": {},
   "outputs": [
    {
     "data": {
      "text/plain": [
       "['Gaurav', 3, [2, 3, 4], 4, 5, 45, 6]"
      ]
     },
     "execution_count": 69,
     "metadata": {},
     "output_type": "execute_result"
    }
   ],
   "source": [
    "l1"
   ]
  },
  {
   "cell_type": "code",
   "execution_count": 70,
   "id": "53eec941-a4eb-4595-ac5d-102fb2b2d493",
   "metadata": {},
   "outputs": [],
   "source": [
    "l1.insert(0,445)"
   ]
  },
  {
   "cell_type": "code",
   "execution_count": 71,
   "id": "4c3a0b55-d375-42dc-b361-fa4416c9604e",
   "metadata": {},
   "outputs": [
    {
     "data": {
      "text/plain": [
       "[445, 'Gaurav', 3, [2, 3, 4], 4, 5, 45, 6]"
      ]
     },
     "execution_count": 71,
     "metadata": {},
     "output_type": "execute_result"
    }
   ],
   "source": [
    "l1"
   ]
  },
  {
   "cell_type": "code",
   "execution_count": 72,
   "id": "26327901-4a25-4132-a93a-8c92e48e5ab2",
   "metadata": {},
   "outputs": [
    {
     "data": {
      "text/plain": [
       "[445, 'Gaurav', 3, [2, 3, 4], 4, 5, 45, 6]"
      ]
     },
     "execution_count": 72,
     "metadata": {},
     "output_type": "execute_result"
    }
   ],
   "source": [
    "l1"
   ]
  },
  {
   "cell_type": "code",
   "execution_count": 73,
   "id": "5177feac-89e2-4c10-8f4c-21748942f48f",
   "metadata": {},
   "outputs": [
    {
     "data": {
      "text/plain": [
       "6"
      ]
     },
     "execution_count": 73,
     "metadata": {},
     "output_type": "execute_result"
    }
   ],
   "source": [
    "l1.pop()"
   ]
  },
  {
   "cell_type": "code",
   "execution_count": 74,
   "id": "fb1cc616-efc6-496c-9c96-1bb956dd6ed6",
   "metadata": {},
   "outputs": [
    {
     "data": {
      "text/plain": [
       "[445, 'Gaurav', 3, [2, 3, 4], 4, 5, 45]"
      ]
     },
     "execution_count": 74,
     "metadata": {},
     "output_type": "execute_result"
    }
   ],
   "source": [
    "l1"
   ]
  },
  {
   "cell_type": "code",
   "execution_count": 76,
   "id": "74376870-7b3a-467b-95a6-18b69069d346",
   "metadata": {},
   "outputs": [
    {
     "data": {
      "text/plain": [
       "45"
      ]
     },
     "execution_count": 76,
     "metadata": {},
     "output_type": "execute_result"
    }
   ],
   "source": [
    "l1.pop()"
   ]
  },
  {
   "cell_type": "code",
   "execution_count": 77,
   "id": "6ec8449a-beca-477b-8e9b-e3a8be74918c",
   "metadata": {},
   "outputs": [
    {
     "data": {
      "text/plain": [
       "3"
      ]
     },
     "execution_count": 77,
     "metadata": {},
     "output_type": "execute_result"
    }
   ],
   "source": [
    "l1.pop(2)"
   ]
  },
  {
   "cell_type": "code",
   "execution_count": 78,
   "id": "b673f748-3f0f-44e9-8a6c-60ef8fa9370e",
   "metadata": {},
   "outputs": [
    {
     "data": {
      "text/plain": [
       "[445, 'Gaurav', [2, 3, 4], 4, 5]"
      ]
     },
     "execution_count": 78,
     "metadata": {},
     "output_type": "execute_result"
    }
   ],
   "source": [
    "l1"
   ]
  },
  {
   "cell_type": "code",
   "execution_count": 79,
   "id": "144a4085-0d26-4373-a92c-f66a99adaf0d",
   "metadata": {},
   "outputs": [],
   "source": [
    "l1.remove(5)"
   ]
  },
  {
   "cell_type": "code",
   "execution_count": 80,
   "id": "d74d75ff-26ba-43c3-9783-3fea3235328d",
   "metadata": {},
   "outputs": [
    {
     "data": {
      "text/plain": [
       "[445, 'Gaurav', [2, 3, 4], 4]"
      ]
     },
     "execution_count": 80,
     "metadata": {},
     "output_type": "execute_result"
    }
   ],
   "source": [
    "l1"
   ]
  },
  {
   "cell_type": "code",
   "execution_count": 81,
   "id": "0f4198f0-3171-465e-bb0e-8232f829a373",
   "metadata": {},
   "outputs": [],
   "source": [
    "l1.remove(4)"
   ]
  },
  {
   "cell_type": "code",
   "execution_count": 82,
   "id": "c3a77cc6-1b94-4a1a-8022-7f01936f4e53",
   "metadata": {},
   "outputs": [
    {
     "data": {
      "text/plain": [
       "[445, 'Gaurav', [2, 3, 4]]"
      ]
     },
     "execution_count": 82,
     "metadata": {},
     "output_type": "execute_result"
    }
   ],
   "source": [
    "l1"
   ]
  },
  {
   "cell_type": "code",
   "execution_count": 83,
   "id": "d9225dd0-e696-4337-ab5e-b6cf4511e187",
   "metadata": {},
   "outputs": [
    {
     "ename": "ValueError",
     "evalue": "list.remove(x): x not in list",
     "output_type": "error",
     "traceback": [
      "\u001b[0;31m---------------------------------------------------------------------------\u001b[0m",
      "\u001b[0;31mValueError\u001b[0m                                Traceback (most recent call last)",
      "Cell \u001b[0;32mIn[83], line 1\u001b[0m\n\u001b[0;32m----> 1\u001b[0m \u001b[43ml1\u001b[49m\u001b[38;5;241;43m.\u001b[39;49m\u001b[43mremove\u001b[49m\u001b[43m(\u001b[49m\u001b[38;5;241;43m234\u001b[39;49m\u001b[43m)\u001b[49m\n",
      "\u001b[0;31mValueError\u001b[0m: list.remove(x): x not in list"
     ]
    }
   ],
   "source": [
    "l1.remove(234)"
   ]
  },
  {
   "cell_type": "code",
   "execution_count": 84,
   "id": "93929b9a-46aa-4282-87d4-1f080b227c8e",
   "metadata": {},
   "outputs": [],
   "source": [
    "l1[2].remove(3)"
   ]
  },
  {
   "cell_type": "code",
   "execution_count": 85,
   "id": "4ee3a452-86c8-45a1-a647-583e137ae401",
   "metadata": {},
   "outputs": [
    {
     "data": {
      "text/plain": [
       "[445, 'Gaurav', [2, 4]]"
      ]
     },
     "execution_count": 85,
     "metadata": {},
     "output_type": "execute_result"
    }
   ],
   "source": [
    "l1"
   ]
  },
  {
   "cell_type": "code",
   "execution_count": 88,
   "id": "e6d7634b-130b-45a0-8fbf-aa6ef316c836",
   "metadata": {},
   "outputs": [],
   "source": [
    "l1.append(445)"
   ]
  },
  {
   "cell_type": "code",
   "execution_count": 89,
   "id": "736bd8af-58db-4bfa-98c6-89ee8dfe16cf",
   "metadata": {},
   "outputs": [
    {
     "data": {
      "text/plain": [
       "[445, 'Gaurav', [2, 4], 445]"
      ]
     },
     "execution_count": 89,
     "metadata": {},
     "output_type": "execute_result"
    }
   ],
   "source": [
    "l1"
   ]
  },
  {
   "cell_type": "code",
   "execution_count": 91,
   "id": "7a7c512a-ea8a-48da-8005-025ef10d324b",
   "metadata": {},
   "outputs": [],
   "source": [
    "l1.remove(445)"
   ]
  },
  {
   "cell_type": "code",
   "execution_count": 92,
   "id": "9bbb725f-600a-4db5-a121-bcea1e345250",
   "metadata": {},
   "outputs": [
    {
     "data": {
      "text/plain": [
       "['Gaurav', [2, 4], 445]"
      ]
     },
     "execution_count": 92,
     "metadata": {},
     "output_type": "execute_result"
    }
   ],
   "source": [
    "l1"
   ]
  },
  {
   "cell_type": "code",
   "execution_count": 93,
   "id": "aad08d72-0878-4ae0-b7f8-a82111bf1a79",
   "metadata": {},
   "outputs": [
    {
     "data": {
      "text/plain": [
       "[445, [2, 4], 'Gaurav']"
      ]
     },
     "execution_count": 93,
     "metadata": {},
     "output_type": "execute_result"
    }
   ],
   "source": [
    "l1[::-1] ## Not Permanent Reverse"
   ]
  },
  {
   "cell_type": "code",
   "execution_count": 94,
   "id": "f3fb0024-ec21-4f0b-b3e0-aaab420f8b48",
   "metadata": {},
   "outputs": [],
   "source": [
    "l1.reverse() ## Permanent reverse"
   ]
  },
  {
   "cell_type": "code",
   "execution_count": 95,
   "id": "f98f1678-9bc3-4f9b-a4c3-fba39842627c",
   "metadata": {},
   "outputs": [
    {
     "data": {
      "text/plain": [
       "[445, [2, 4], 'Gaurav']"
      ]
     },
     "execution_count": 95,
     "metadata": {},
     "output_type": "execute_result"
    }
   ],
   "source": [
    "l1"
   ]
  },
  {
   "cell_type": "code",
   "execution_count": 98,
   "id": "cd337408-e4fe-4fae-9ff9-fd7a384756aa",
   "metadata": {},
   "outputs": [
    {
     "data": {
      "text/plain": [
       "[445, [2, 4], 'Gaurav']"
      ]
     },
     "execution_count": 98,
     "metadata": {},
     "output_type": "execute_result"
    }
   ],
   "source": [
    "l1"
   ]
  },
  {
   "cell_type": "code",
   "execution_count": 99,
   "id": "bf4d2fb1-a611-4e88-9bc2-059fa2f35d46",
   "metadata": {},
   "outputs": [
    {
     "ename": "TypeError",
     "evalue": "'<' not supported between instances of 'list' and 'int'",
     "output_type": "error",
     "traceback": [
      "\u001b[0;31m---------------------------------------------------------------------------\u001b[0m",
      "\u001b[0;31mTypeError\u001b[0m                                 Traceback (most recent call last)",
      "Cell \u001b[0;32mIn[99], line 1\u001b[0m\n\u001b[0;32m----> 1\u001b[0m \u001b[43ml1\u001b[49m\u001b[38;5;241;43m.\u001b[39;49m\u001b[43msort\u001b[49m\u001b[43m(\u001b[49m\u001b[43m)\u001b[49m\n",
      "\u001b[0;31mTypeError\u001b[0m: '<' not supported between instances of 'list' and 'int'"
     ]
    }
   ],
   "source": [
    "l1.sort()"
   ]
  },
  {
   "cell_type": "code",
   "execution_count": 103,
   "id": "7386f2ef-3926-4675-90b7-3ca61ba5d662",
   "metadata": {},
   "outputs": [],
   "source": [
    "l2=[29,30,4,50,6,7,8,9]"
   ]
  },
  {
   "cell_type": "code",
   "execution_count": 104,
   "id": "b71f46c2-3b09-43ff-8e3a-2a321d416aa6",
   "metadata": {},
   "outputs": [],
   "source": [
    "l2.sort()"
   ]
  },
  {
   "cell_type": "code",
   "execution_count": 105,
   "id": "2c8990cb-b1f1-4c29-9df1-204631581e64",
   "metadata": {},
   "outputs": [
    {
     "data": {
      "text/plain": [
       "[4, 6, 7, 8, 9, 29, 30, 50]"
      ]
     },
     "execution_count": 105,
     "metadata": {},
     "output_type": "execute_result"
    }
   ],
   "source": [
    "l2"
   ]
  },
  {
   "cell_type": "code",
   "execution_count": 107,
   "id": "e56beb96-8030-4be7-a080-ff6b53b26df5",
   "metadata": {},
   "outputs": [],
   "source": [
    "l3=[\"Gaurav\",\"Singh\",\"PWskills\",\"Data scinece\"]"
   ]
  },
  {
   "cell_type": "code",
   "execution_count": 108,
   "id": "9e7799cc-d509-4cb3-b874-7279fff046c9",
   "metadata": {},
   "outputs": [],
   "source": [
    "l3.sort()"
   ]
  },
  {
   "cell_type": "code",
   "execution_count": 109,
   "id": "0f3b3292-0664-41fb-a061-017e5087a332",
   "metadata": {},
   "outputs": [
    {
     "data": {
      "text/plain": [
       "['Data scinece', 'Gaurav', 'PWskills', 'Singh']"
      ]
     },
     "execution_count": 109,
     "metadata": {},
     "output_type": "execute_result"
    }
   ],
   "source": [
    "l3"
   ]
  },
  {
   "cell_type": "code",
   "execution_count": 110,
   "id": "11953e5b-480c-4065-99fc-199e19c136b4",
   "metadata": {},
   "outputs": [],
   "source": [
    "l3.sort(reverse=True) ## descending order"
   ]
  },
  {
   "cell_type": "code",
   "execution_count": 111,
   "id": "a397ce6d-c496-4209-bd41-8cac10e30c88",
   "metadata": {},
   "outputs": [
    {
     "data": {
      "text/plain": [
       "['Singh', 'PWskills', 'Gaurav', 'Data scinece']"
      ]
     },
     "execution_count": 111,
     "metadata": {},
     "output_type": "execute_result"
    }
   ],
   "source": [
    "l3"
   ]
  },
  {
   "cell_type": "code",
   "execution_count": 112,
   "id": "5c1bd52f-5825-462d-a276-46e8f7e6290d",
   "metadata": {},
   "outputs": [
    {
     "data": {
      "text/plain": [
       "2"
      ]
     },
     "execution_count": 112,
     "metadata": {},
     "output_type": "execute_result"
    }
   ],
   "source": [
    "l3.index(\"Gaurav\")"
   ]
  },
  {
   "cell_type": "code",
   "execution_count": 113,
   "id": "238999d8-81af-45e6-8a2c-e1a30c824eaa",
   "metadata": {},
   "outputs": [
    {
     "data": {
      "text/plain": [
       "1"
      ]
     },
     "execution_count": 113,
     "metadata": {},
     "output_type": "execute_result"
    }
   ],
   "source": [
    "l3.count(\"Gaurav\")"
   ]
  },
  {
   "cell_type": "code",
   "execution_count": 114,
   "id": "b86b2fa0-10f2-4124-874c-c2310a3f61f4",
   "metadata": {},
   "outputs": [
    {
     "data": {
      "text/plain": [
       "['Singh', 'PWskills', 'Gaurav', 'Data scinece']"
      ]
     },
     "execution_count": 114,
     "metadata": {},
     "output_type": "execute_result"
    }
   ],
   "source": [
    "l3"
   ]
  },
  {
   "cell_type": "code",
   "execution_count": 115,
   "id": "30cc21d3-5237-4b7e-a861-2231924f655b",
   "metadata": {},
   "outputs": [],
   "source": [
    "s=\"Gaurav\""
   ]
  },
  {
   "cell_type": "code",
   "execution_count": 116,
   "id": "df8d4a14-ee4d-419f-89a6-589b54413042",
   "metadata": {},
   "outputs": [],
   "source": [
    "l4=[3,4,5,6]"
   ]
  },
  {
   "cell_type": "code",
   "execution_count": 117,
   "id": "84a425c8-c5cd-4915-bab1-b02ddff85f8d",
   "metadata": {},
   "outputs": [
    {
     "data": {
      "text/plain": [
       "'G'"
      ]
     },
     "execution_count": 117,
     "metadata": {},
     "output_type": "execute_result"
    }
   ],
   "source": [
    "s[0]"
   ]
  },
  {
   "cell_type": "code",
   "execution_count": 118,
   "id": "3d4e5451-8655-4e20-bffb-650a982a79ab",
   "metadata": {},
   "outputs": [
    {
     "data": {
      "text/plain": [
       "3"
      ]
     },
     "execution_count": 118,
     "metadata": {},
     "output_type": "execute_result"
    }
   ],
   "source": [
    "l4[0]"
   ]
  },
  {
   "cell_type": "code",
   "execution_count": 119,
   "id": "90bbc290-0061-4080-bd70-c257e7d1530f",
   "metadata": {},
   "outputs": [],
   "source": [
    "l4[0]=7"
   ]
  },
  {
   "cell_type": "code",
   "execution_count": 120,
   "id": "d7f405a5-6e97-4e8b-adf5-735f2669dded",
   "metadata": {},
   "outputs": [
    {
     "data": {
      "text/plain": [
       "[7, 4, 5, 6]"
      ]
     },
     "execution_count": 120,
     "metadata": {},
     "output_type": "execute_result"
    }
   ],
   "source": [
    "l4"
   ]
  },
  {
   "cell_type": "code",
   "execution_count": 124,
   "id": "ff30ea19-71ec-4bba-a27c-6f719c4d2f44",
   "metadata": {},
   "outputs": [
    {
     "data": {
      "text/plain": [
       "'Saurav'"
      ]
     },
     "execution_count": 124,
     "metadata": {},
     "output_type": "execute_result"
    }
   ],
   "source": [
    "s.replace(\"G\",\"S\") ## It create a new memory Location and it create a new Object in Memory Location"
   ]
  },
  {
   "cell_type": "code",
   "execution_count": 123,
   "id": "d07d933d-3230-40cb-80aa-bb6d940cf0c1",
   "metadata": {},
   "outputs": [
    {
     "data": {
      "text/plain": [
       "'Gaurav'"
      ]
     },
     "execution_count": 123,
     "metadata": {},
     "output_type": "execute_result"
    }
   ],
   "source": [
    "s ## Original not Change"
   ]
  },
  {
   "cell_type": "markdown",
   "id": "c79eba20-0bfb-46b9-89b3-02e30c3e80cb",
   "metadata": {},
   "source": [
    "# Tupples"
   ]
  },
  {
   "cell_type": "markdown",
   "id": "d1becf56-0deb-4328-bb2b-72bb86ae3071",
   "metadata": {},
   "source": [
    "### Tupple is also a type of List but it is immutable and denoted by ()"
   ]
  },
  {
   "cell_type": "code",
   "execution_count": 125,
   "id": "665ac2ba-c988-455a-b3ea-2fd8a306a761",
   "metadata": {},
   "outputs": [],
   "source": [
    "t=(2,3,4,5,\"Gaurav\",45.56,False,45+456j,[2,3,4])"
   ]
  },
  {
   "cell_type": "code",
   "execution_count": 126,
   "id": "d4cc100b-c7a5-4448-9ee1-6037ee09f3c0",
   "metadata": {},
   "outputs": [
    {
     "data": {
      "text/plain": [
       "(2, 3, 4, 5, 'Gaurav', 45.56, False, (45+456j), [2, 3, 4])"
      ]
     },
     "execution_count": 126,
     "metadata": {},
     "output_type": "execute_result"
    }
   ],
   "source": [
    "t"
   ]
  },
  {
   "cell_type": "code",
   "execution_count": 127,
   "id": "a83ed286-892f-42fd-92fa-4ca99d1ac2a5",
   "metadata": {},
   "outputs": [
    {
     "data": {
      "text/plain": [
       "tuple"
      ]
     },
     "execution_count": 127,
     "metadata": {},
     "output_type": "execute_result"
    }
   ],
   "source": [
    "type(t)"
   ]
  },
  {
   "cell_type": "code",
   "execution_count": 128,
   "id": "87ff42ae-60c1-49ad-ac86-d28acfe59d6b",
   "metadata": {},
   "outputs": [
    {
     "data": {
      "text/plain": [
       "9"
      ]
     },
     "execution_count": 128,
     "metadata": {},
     "output_type": "execute_result"
    }
   ],
   "source": [
    "len(t)"
   ]
  },
  {
   "cell_type": "code",
   "execution_count": 129,
   "id": "2e4d6c7d-fcf9-4873-99f2-f0737116b5f1",
   "metadata": {},
   "outputs": [
    {
     "data": {
      "text/plain": [
       "2"
      ]
     },
     "execution_count": 129,
     "metadata": {},
     "output_type": "execute_result"
    }
   ],
   "source": [
    "t[0]"
   ]
  },
  {
   "cell_type": "code",
   "execution_count": 130,
   "id": "d347b84b-0551-4366-ad58-5596ba2cd1b1",
   "metadata": {},
   "outputs": [
    {
     "data": {
      "text/plain": [
       "[2, 3, 4]"
      ]
     },
     "execution_count": 130,
     "metadata": {},
     "output_type": "execute_result"
    }
   ],
   "source": [
    "t[-1]"
   ]
  },
  {
   "cell_type": "code",
   "execution_count": 131,
   "id": "d7cefa29-a562-4ea1-bea3-4bf6595ab168",
   "metadata": {},
   "outputs": [
    {
     "data": {
      "text/plain": [
       "([2, 3, 4], (45+456j), False, 45.56, 'Gaurav', 5, 4, 3, 2)"
      ]
     },
     "execution_count": 131,
     "metadata": {},
     "output_type": "execute_result"
    }
   ],
   "source": [
    "t[::-1]"
   ]
  },
  {
   "cell_type": "markdown",
   "id": "fe50b8a3-dac8-453a-9fee-1b9fd352c62d",
   "metadata": {},
   "source": [
    "## Indexing and Slicing concept is also applicable in Tupple"
   ]
  },
  {
   "cell_type": "code",
   "execution_count": 132,
   "id": "d732af88-3d35-44f4-9742-f70f264cbc4d",
   "metadata": {},
   "outputs": [
    {
     "data": {
      "text/plain": [
       "7"
      ]
     },
     "execution_count": 132,
     "metadata": {},
     "output_type": "execute_result"
    }
   ],
   "source": [
    "l4[0]"
   ]
  },
  {
   "cell_type": "code",
   "execution_count": 133,
   "id": "e2353938-6fea-4c72-ae12-e912cf1fc17f",
   "metadata": {},
   "outputs": [],
   "source": [
    "l4[0]=345"
   ]
  },
  {
   "cell_type": "code",
   "execution_count": 134,
   "id": "ac5c3a69-daaa-4eb3-9625-e0d84e70c51b",
   "metadata": {},
   "outputs": [
    {
     "data": {
      "text/plain": [
       "[345, 4, 5, 6]"
      ]
     },
     "execution_count": 134,
     "metadata": {},
     "output_type": "execute_result"
    }
   ],
   "source": [
    "l4"
   ]
  },
  {
   "cell_type": "code",
   "execution_count": 135,
   "id": "3cdcb5b7-bf07-4ef0-97c7-508b17a4c58d",
   "metadata": {},
   "outputs": [
    {
     "data": {
      "text/plain": [
       "2"
      ]
     },
     "execution_count": 135,
     "metadata": {},
     "output_type": "execute_result"
    }
   ],
   "source": [
    "t[0]"
   ]
  },
  {
   "cell_type": "code",
   "execution_count": 136,
   "id": "758c6cad-99d4-4bd4-95d3-e4a3aef9bbc6",
   "metadata": {},
   "outputs": [
    {
     "ename": "TypeError",
     "evalue": "'tuple' object does not support item assignment",
     "output_type": "error",
     "traceback": [
      "\u001b[0;31m---------------------------------------------------------------------------\u001b[0m",
      "\u001b[0;31mTypeError\u001b[0m                                 Traceback (most recent call last)",
      "Cell \u001b[0;32mIn[136], line 1\u001b[0m\n\u001b[0;32m----> 1\u001b[0m \u001b[43mt\u001b[49m\u001b[43m[\u001b[49m\u001b[38;5;241;43m0\u001b[39;49m\u001b[43m]\u001b[49m\u001b[38;5;241m=\u001b[39m\u001b[38;5;241m34\u001b[39m\n",
      "\u001b[0;31mTypeError\u001b[0m: 'tuple' object does not support item assignment"
     ]
    }
   ],
   "source": [
    "t[0]=34"
   ]
  },
  {
   "cell_type": "markdown",
   "id": "d26d84dc-2698-4536-a26e-1879701216b4",
   "metadata": {},
   "source": [
    "## Hence it is proved that tupple is immutable and List is mutable and Tupple is used in Password Security System mean Pass can't change "
   ]
  },
  {
   "cell_type": "code",
   "execution_count": 137,
   "id": "fbe975c6-ea09-4775-bbb3-ab61293f8f7e",
   "metadata": {},
   "outputs": [
    {
     "data": {
      "text/plain": [
       "1"
      ]
     },
     "execution_count": 137,
     "metadata": {},
     "output_type": "execute_result"
    }
   ],
   "source": [
    "t.count(5)"
   ]
  },
  {
   "cell_type": "code",
   "execution_count": 138,
   "id": "dd8d93a7-7131-4e3c-8cd2-05bea6011f76",
   "metadata": {},
   "outputs": [
    {
     "data": {
      "text/plain": [
       "0"
      ]
     },
     "execution_count": 138,
     "metadata": {},
     "output_type": "execute_result"
    }
   ],
   "source": [
    "t.count(50)"
   ]
  },
  {
   "cell_type": "code",
   "execution_count": 139,
   "id": "838c6398-1cf5-4388-a0ae-be50b929fa3c",
   "metadata": {},
   "outputs": [
    {
     "data": {
      "text/plain": [
       "6"
      ]
     },
     "execution_count": 139,
     "metadata": {},
     "output_type": "execute_result"
    }
   ],
   "source": [
    "t.index(False)"
   ]
  },
  {
   "cell_type": "markdown",
   "id": "de339a5b-3928-468e-8b7a-90e8172545a5",
   "metadata": {},
   "source": [
    "# Set "
   ]
  },
  {
   "cell_type": "markdown",
   "id": "a69c3a39-0d9c-431b-8a13-8f74a6850567",
   "metadata": {},
   "source": [
    "## Set is a denoted by {} and it is immutable and store only unique data and also store the immutable datatype"
   ]
  },
  {
   "cell_type": "code",
   "execution_count": 142,
   "id": "a5b3851b-c7bb-4271-b6a4-cc9b03e1e966",
   "metadata": {},
   "outputs": [],
   "source": [
    "s1={}"
   ]
  },
  {
   "cell_type": "code",
   "execution_count": 143,
   "id": "0cc4a5da-3a1b-4f20-907f-dc8e0c9f1599",
   "metadata": {},
   "outputs": [
    {
     "data": {
      "text/plain": [
       "dict"
      ]
     },
     "execution_count": 143,
     "metadata": {},
     "output_type": "execute_result"
    }
   ],
   "source": [
    "type(s1)"
   ]
  },
  {
   "cell_type": "code",
   "execution_count": 144,
   "id": "d0645389-8b54-4193-bea2-17232dc739d2",
   "metadata": {},
   "outputs": [],
   "source": [
    "s2={2,3,4,5,6}"
   ]
  },
  {
   "cell_type": "code",
   "execution_count": 145,
   "id": "8e025821-964c-4a5a-a72d-256b14407001",
   "metadata": {},
   "outputs": [
    {
     "data": {
      "text/plain": [
       "set"
      ]
     },
     "execution_count": 145,
     "metadata": {},
     "output_type": "execute_result"
    }
   ],
   "source": [
    "type(s2)"
   ]
  },
  {
   "cell_type": "code",
   "execution_count": 146,
   "id": "ac2ac8b4-9c95-47d1-8e78-691bbca07447",
   "metadata": {},
   "outputs": [
    {
     "ename": "TypeError",
     "evalue": "unhashable type: 'list'",
     "output_type": "error",
     "traceback": [
      "\u001b[0;31m---------------------------------------------------------------------------\u001b[0m",
      "\u001b[0;31mTypeError\u001b[0m                                 Traceback (most recent call last)",
      "Cell \u001b[0;32mIn[146], line 1\u001b[0m\n\u001b[0;32m----> 1\u001b[0m s3\u001b[38;5;241m=\u001b[39m{\u001b[38;5;241m324\u001b[39m,\u001b[38;5;241m456\u001b[39m,\u001b[38;5;241m456\u001b[39m,\u001b[38;5;124m\"\u001b[39m\u001b[38;5;124mGaurav\u001b[39m\u001b[38;5;124m\"\u001b[39m,\u001b[38;5;241m45\u001b[39m\u001b[38;5;241m+\u001b[39m\u001b[38;5;241m45\u001b[39mj,\u001b[38;5;241m34.45\u001b[39m,[\u001b[38;5;241m3\u001b[39m,\u001b[38;5;241m4\u001b[39m,\u001b[38;5;241m5\u001b[39m]}\n",
      "\u001b[0;31mTypeError\u001b[0m: unhashable type: 'list'"
     ]
    }
   ],
   "source": [
    "s3={324,456,456,\"Gaurav\",45+45j,34.45,[3,4,5]}"
   ]
  },
  {
   "cell_type": "code",
   "execution_count": 147,
   "id": "da17db7a-a8fe-4f3e-855d-c11265442556",
   "metadata": {},
   "outputs": [],
   "source": [
    "s3={324,456,456,\"Gaurav\",45+45j,34.45,(3,4,5)}"
   ]
  },
  {
   "cell_type": "code",
   "execution_count": 148,
   "id": "d844c40d-e8a1-41d0-b853-88d34620a31a",
   "metadata": {},
   "outputs": [
    {
     "data": {
      "text/plain": [
       "{(3, 4, 5), (45+45j), 324, 34.45, 456, 'Gaurav'}"
      ]
     },
     "execution_count": 148,
     "metadata": {},
     "output_type": "execute_result"
    }
   ],
   "source": [
    "s3"
   ]
  },
  {
   "cell_type": "code",
   "execution_count": 149,
   "id": "e091b90f-b59e-451c-9829-8401fdd85706",
   "metadata": {},
   "outputs": [],
   "source": [
    "s4={2,3,4,5,6,2,3,4,5,2,3,1,2,3,4,5,6,1,2,2,3}"
   ]
  },
  {
   "cell_type": "code",
   "execution_count": 150,
   "id": "65366135-2058-4f90-b651-07023ae725f7",
   "metadata": {},
   "outputs": [
    {
     "data": {
      "text/plain": [
       "{1, 2, 3, 4, 5, 6}"
      ]
     },
     "execution_count": 150,
     "metadata": {},
     "output_type": "execute_result"
    }
   ],
   "source": [
    "s4"
   ]
  },
  {
   "cell_type": "code",
   "execution_count": 151,
   "id": "69e12fbd-ab6f-43b8-aee8-9c2c361c7d6b",
   "metadata": {},
   "outputs": [],
   "source": [
    "s4={2,3,4,5,6,2,3,4,5,2,3,1,2,3,4,5,6,1,2,2,3,\"Gaurav\",\"gaurav\"}"
   ]
  },
  {
   "cell_type": "code",
   "execution_count": 152,
   "id": "e0d5be10-ea3f-4baa-ac35-a01e866fcd27",
   "metadata": {},
   "outputs": [
    {
     "data": {
      "text/plain": [
       "{1, 2, 3, 4, 5, 6, 'Gaurav', 'gaurav'}"
      ]
     },
     "execution_count": 152,
     "metadata": {},
     "output_type": "execute_result"
    }
   ],
   "source": [
    "s4"
   ]
  },
  {
   "cell_type": "code",
   "execution_count": 154,
   "id": "596b57db-c6c1-42b1-9dde-4bff1fa4ff40",
   "metadata": {},
   "outputs": [],
   "source": [
    "l6=[2,3,4,5,6,2,3,4,5,2,3,1,2,3,4,5,6,1,2,2,3,\"Gaurav\",\"gaurav\"]"
   ]
  },
  {
   "cell_type": "code",
   "execution_count": 155,
   "id": "82778c17-1eb3-42c2-9c84-87d658302b51",
   "metadata": {},
   "outputs": [],
   "source": [
    "l6=list(set(l6))"
   ]
  },
  {
   "cell_type": "code",
   "execution_count": 156,
   "id": "b948c06b-8f96-4419-b242-2352807e8ba8",
   "metadata": {},
   "outputs": [
    {
     "data": {
      "text/plain": [
       "[1, 2, 3, 4, 5, 6, 'gaurav', 'Gaurav']"
      ]
     },
     "execution_count": 156,
     "metadata": {},
     "output_type": "execute_result"
    }
   ],
   "source": [
    "l6"
   ]
  },
  {
   "cell_type": "code",
   "execution_count": 157,
   "id": "03a737c0-2388-48a1-b68b-1470b9cef0e4",
   "metadata": {},
   "outputs": [],
   "source": [
    "s5={234,45,23,12,567,45,2,789,234,\"abc\",456,342,23}"
   ]
  },
  {
   "cell_type": "code",
   "execution_count": 158,
   "id": "422d2e75-b8ae-4f24-8cb4-58bcdddb17ac",
   "metadata": {},
   "outputs": [
    {
     "data": {
      "text/plain": [
       "{12, 2, 23, 234, 342, 45, 456, 567, 789, 'abc'}"
      ]
     },
     "execution_count": 158,
     "metadata": {},
     "output_type": "execute_result"
    }
   ],
   "source": [
    "s5"
   ]
  },
  {
   "cell_type": "code",
   "execution_count": 159,
   "id": "1c2aeca9-e2be-4a54-8b61-210be143479d",
   "metadata": {},
   "outputs": [
    {
     "ename": "TypeError",
     "evalue": "'set' object is not subscriptable",
     "output_type": "error",
     "traceback": [
      "\u001b[0;31m---------------------------------------------------------------------------\u001b[0m",
      "\u001b[0;31mTypeError\u001b[0m                                 Traceback (most recent call last)",
      "Cell \u001b[0;32mIn[159], line 1\u001b[0m\n\u001b[0;32m----> 1\u001b[0m \u001b[43ms5\u001b[49m\u001b[43m[\u001b[49m\u001b[38;5;241;43m0\u001b[39;49m\u001b[43m]\u001b[49m\n",
      "\u001b[0;31mTypeError\u001b[0m: 'set' object is not subscriptable"
     ]
    }
   ],
   "source": [
    "s5[0]"
   ]
  },
  {
   "cell_type": "code",
   "execution_count": 160,
   "id": "5d073575-f9a9-4c80-85cd-598546757506",
   "metadata": {},
   "outputs": [
    {
     "ename": "TypeError",
     "evalue": "'set' object is not subscriptable",
     "output_type": "error",
     "traceback": [
      "\u001b[0;31m---------------------------------------------------------------------------\u001b[0m",
      "\u001b[0;31mTypeError\u001b[0m                                 Traceback (most recent call last)",
      "Cell \u001b[0;32mIn[160], line 1\u001b[0m\n\u001b[0;32m----> 1\u001b[0m \u001b[43ms5\u001b[49m\u001b[43m[\u001b[49m\u001b[43m:\u001b[49m\u001b[43m:\u001b[49m\u001b[38;5;241;43m-\u001b[39;49m\u001b[38;5;241;43m1\u001b[39;49m\u001b[43m]\u001b[49m\n",
      "\u001b[0;31mTypeError\u001b[0m: 'set' object is not subscriptable"
     ]
    }
   ],
   "source": [
    "s5[::-1]"
   ]
  },
  {
   "cell_type": "code",
   "execution_count": 161,
   "id": "6303a1c0-d75d-4095-8f39-e826de825764",
   "metadata": {},
   "outputs": [],
   "source": [
    "s5.add(4)"
   ]
  },
  {
   "cell_type": "code",
   "execution_count": 162,
   "id": "95727711-4520-476d-87e9-1501dbdbdbb0",
   "metadata": {},
   "outputs": [
    {
     "data": {
      "text/plain": [
       "{12, 2, 23, 234, 342, 4, 45, 456, 567, 789, 'abc'}"
      ]
     },
     "execution_count": 162,
     "metadata": {},
     "output_type": "execute_result"
    }
   ],
   "source": [
    "s5"
   ]
  },
  {
   "cell_type": "code",
   "execution_count": 163,
   "id": "534ab092-0721-46a3-a258-0687eacdf1e7",
   "metadata": {},
   "outputs": [],
   "source": [
    "s5.remove(12)"
   ]
  },
  {
   "cell_type": "code",
   "execution_count": 164,
   "id": "ec5a9a28-4cd0-4249-b65a-c8d557f1ae63",
   "metadata": {},
   "outputs": [
    {
     "data": {
      "text/plain": [
       "{2, 23, 234, 342, 4, 45, 456, 567, 789, 'abc'}"
      ]
     },
     "execution_count": 164,
     "metadata": {},
     "output_type": "execute_result"
    }
   ],
   "source": [
    "s5"
   ]
  },
  {
   "cell_type": "code",
   "execution_count": 166,
   "id": "18a7d6e6-6b09-49f3-a3e2-b3dd5162ac47",
   "metadata": {},
   "outputs": [
    {
     "data": {
      "text/plain": [
       "2"
      ]
     },
     "execution_count": 166,
     "metadata": {},
     "output_type": "execute_result"
    }
   ],
   "source": [
    "s5.pop()"
   ]
  },
  {
   "cell_type": "code",
   "execution_count": 167,
   "id": "cb0f8c06-5dff-4847-9979-b34a197d6148",
   "metadata": {},
   "outputs": [
    {
     "data": {
      "text/plain": [
       "{23, 234, 342, 4, 45, 456, 567, 789, 'abc'}"
      ]
     },
     "execution_count": 167,
     "metadata": {},
     "output_type": "execute_result"
    }
   ],
   "source": [
    "s5"
   ]
  },
  {
   "cell_type": "code",
   "execution_count": 171,
   "id": "123b28f1-d970-4a31-b1dd-689aa9571453",
   "metadata": {},
   "outputs": [
    {
     "data": {
      "text/plain": [
       "234"
      ]
     },
     "execution_count": 171,
     "metadata": {},
     "output_type": "execute_result"
    }
   ],
   "source": [
    "s5.pop() ## Randomly pop the elements from the Set so that set is a unordered in Python"
   ]
  },
  {
   "cell_type": "code",
   "execution_count": 169,
   "id": "187d1597-45d8-4f1c-9e6c-130123f31cfe",
   "metadata": {},
   "outputs": [
    {
     "data": {
      "text/plain": [
       "{23, 234, 342, 45, 456, 567, 789, 'abc'}"
      ]
     },
     "execution_count": 169,
     "metadata": {},
     "output_type": "execute_result"
    }
   ],
   "source": [
    "s5"
   ]
  },
  {
   "cell_type": "code",
   "execution_count": 170,
   "id": "468db551-8833-41c2-89de-9deaf5ada78b",
   "metadata": {},
   "outputs": [
    {
     "data": {
      "text/plain": [
       "456"
      ]
     },
     "execution_count": 170,
     "metadata": {},
     "output_type": "execute_result"
    }
   ],
   "source": [
    "s5.pop()"
   ]
  },
  {
   "cell_type": "code",
   "execution_count": null,
   "id": "d557c6cd-c268-4c40-9fd1-20d102589317",
   "metadata": {},
   "outputs": [],
   "source": []
  }
 ],
 "metadata": {
  "kernelspec": {
   "display_name": "Python 3 (ipykernel)",
   "language": "python",
   "name": "python3"
  },
  "language_info": {
   "codemirror_mode": {
    "name": "ipython",
    "version": 3
   },
   "file_extension": ".py",
   "mimetype": "text/x-python",
   "name": "python",
   "nbconvert_exporter": "python",
   "pygments_lexer": "ipython3",
   "version": "3.10.8"
  }
 },
 "nbformat": 4,
 "nbformat_minor": 5
}
