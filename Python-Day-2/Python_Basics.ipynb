{
 "cells": [
  {
   "cell_type": "code",
   "execution_count": 1,
   "id": "76a6af53-5170-4851-8ab1-cc5f949522d8",
   "metadata": {},
   "outputs": [
    {
     "data": {
      "text/plain": [
       "2"
      ]
     },
     "execution_count": 1,
     "metadata": {},
     "output_type": "execute_result"
    }
   ],
   "source": [
    "1+1"
   ]
  },
  {
   "cell_type": "code",
   "execution_count": 2,
   "id": "b5258597-fb40-4b00-95b2-a2ea1f4e55b5",
   "metadata": {},
   "outputs": [
    {
     "data": {
      "text/plain": [
       "25"
      ]
     },
     "execution_count": 2,
     "metadata": {},
     "output_type": "execute_result"
    }
   ],
   "source": [
    "5*5"
   ]
  },
  {
   "cell_type": "markdown",
   "id": "80273b2c-185f-4637-9eab-15134013a15c",
   "metadata": {},
   "source": [
    "## Varible Concept"
   ]
  },
  {
   "cell_type": "code",
   "execution_count": 3,
   "id": "85f1bda9-642e-46d2-a10e-1f13a3db537b",
   "metadata": {},
   "outputs": [],
   "source": [
    "a=10 ## Its indicates that we assign a value 10 in a/store 10 in a"
   ]
  },
  {
   "cell_type": "code",
   "execution_count": 4,
   "id": "48d27416-896f-4b14-9fe3-cf631b78955a",
   "metadata": {},
   "outputs": [
    {
     "data": {
      "text/plain": [
       "10"
      ]
     },
     "execution_count": 4,
     "metadata": {},
     "output_type": "execute_result"
    }
   ],
   "source": [
    "a"
   ]
  },
  {
   "cell_type": "code",
   "execution_count": 5,
   "id": "c38b129f-2268-4f2f-830b-e132f189d5b8",
   "metadata": {},
   "outputs": [],
   "source": [
    "Gaurav=20"
   ]
  },
  {
   "cell_type": "code",
   "execution_count": 6,
   "id": "c8573b32-18de-4e9c-b9cb-c4dbff29d161",
   "metadata": {},
   "outputs": [
    {
     "data": {
      "text/plain": [
       "20"
      ]
     },
     "execution_count": 6,
     "metadata": {},
     "output_type": "execute_result"
    }
   ],
   "source": [
    "Gaurav"
   ]
  },
  {
   "cell_type": "markdown",
   "id": "39213f1c-4e2e-4a6a-bba3-7cda103be907",
   "metadata": {},
   "source": [
    "## According to naming convention we assign the name of variable"
   ]
  },
  {
   "cell_type": "code",
   "execution_count": 7,
   "id": "74c7303f-5d91-4639-8642-e6843044adcc",
   "metadata": {},
   "outputs": [
    {
     "data": {
      "text/plain": [
       "30"
      ]
     },
     "execution_count": 7,
     "metadata": {},
     "output_type": "execute_result"
    }
   ],
   "source": [
    "a+Gaurav"
   ]
  },
  {
   "cell_type": "code",
   "execution_count": 8,
   "id": "29b39b84-9e68-4bb9-8b8c-42172c2eeec5",
   "metadata": {},
   "outputs": [
    {
     "data": {
      "text/plain": [
       "int"
      ]
     },
     "execution_count": 8,
     "metadata": {},
     "output_type": "execute_result"
    }
   ],
   "source": [
    "type(a)"
   ]
  },
  {
   "cell_type": "code",
   "execution_count": 9,
   "id": "9ed602b2-2dc4-4f53-b601-1ad239fe2f48",
   "metadata": {},
   "outputs": [
    {
     "data": {
      "text/plain": [
       "int"
      ]
     },
     "execution_count": 9,
     "metadata": {},
     "output_type": "execute_result"
    }
   ],
   "source": [
    "type(Gaurav)"
   ]
  },
  {
   "cell_type": "code",
   "execution_count": 10,
   "id": "cc641cdc-3d7c-4ea5-8eb3-250eaac95209",
   "metadata": {},
   "outputs": [],
   "source": [
    "c=\"Gaurav\""
   ]
  },
  {
   "cell_type": "code",
   "execution_count": 11,
   "id": "651c5abd-9893-4c07-988f-92a58867ca9c",
   "metadata": {},
   "outputs": [
    {
     "data": {
      "text/plain": [
       "str"
      ]
     },
     "execution_count": 11,
     "metadata": {},
     "output_type": "execute_result"
    }
   ],
   "source": [
    "type(c)"
   ]
  },
  {
   "cell_type": "code",
   "execution_count": 12,
   "id": "f6c71917-e615-42e8-b599-5571cf5779f8",
   "metadata": {},
   "outputs": [],
   "source": [
    "d=2.06"
   ]
  },
  {
   "cell_type": "code",
   "execution_count": 13,
   "id": "f97a2a84-03b5-40c3-a625-ddcffd8abe3a",
   "metadata": {},
   "outputs": [
    {
     "data": {
      "text/plain": [
       "float"
      ]
     },
     "execution_count": 13,
     "metadata": {},
     "output_type": "execute_result"
    }
   ],
   "source": [
    "type(d)"
   ]
  },
  {
   "cell_type": "code",
   "execution_count": 14,
   "id": "02fcabd8-097d-465f-9928-1df5cfb7c188",
   "metadata": {},
   "outputs": [],
   "source": [
    "e=45.67899"
   ]
  },
  {
   "cell_type": "code",
   "execution_count": 15,
   "id": "6eeddfae-0446-40cf-82c3-79ce1f6f2262",
   "metadata": {},
   "outputs": [
    {
     "data": {
      "text/plain": [
       "float"
      ]
     },
     "execution_count": 15,
     "metadata": {},
     "output_type": "execute_result"
    }
   ],
   "source": [
    "type(e)"
   ]
  },
  {
   "cell_type": "code",
   "execution_count": 16,
   "id": "a0304a54-716d-44be-be2b-2d53983620a8",
   "metadata": {},
   "outputs": [],
   "source": [
    "f=\"This is my first Tech Class\""
   ]
  },
  {
   "cell_type": "code",
   "execution_count": 17,
   "id": "8c729b9a-603b-4cfa-afa2-d0f301201407",
   "metadata": {},
   "outputs": [
    {
     "data": {
      "text/plain": [
       "str"
      ]
     },
     "execution_count": 17,
     "metadata": {},
     "output_type": "execute_result"
    }
   ],
   "source": [
    "type(f)"
   ]
  },
  {
   "cell_type": "code",
   "execution_count": 18,
   "id": "4610ac4d-fde3-4db3-b428-3158c198e7fd",
   "metadata": {},
   "outputs": [],
   "source": [
    "a=56.234*45"
   ]
  },
  {
   "cell_type": "code",
   "execution_count": 19,
   "id": "9a21d856-ba87-44cb-8536-dd618b90b1bf",
   "metadata": {},
   "outputs": [
    {
     "data": {
      "text/plain": [
       "2530.53"
      ]
     },
     "execution_count": 19,
     "metadata": {},
     "output_type": "execute_result"
    }
   ],
   "source": [
    "a"
   ]
  },
  {
   "cell_type": "code",
   "execution_count": 20,
   "id": "e3dba388-42a2-4c8e-9207-4a4195dcf315",
   "metadata": {},
   "outputs": [
    {
     "data": {
      "text/plain": [
       "float"
      ]
     },
     "execution_count": 20,
     "metadata": {},
     "output_type": "execute_result"
    }
   ],
   "source": [
    "type(a)"
   ]
  },
  {
   "cell_type": "code",
   "execution_count": 21,
   "id": "6d4042fe-f36d-46b5-978e-5f7c76bc95f9",
   "metadata": {},
   "outputs": [],
   "source": [
    "n=True ## True=1"
   ]
  },
  {
   "cell_type": "code",
   "execution_count": 22,
   "id": "8ed6dae0-fcc5-4002-9e1d-31dafd02be54",
   "metadata": {},
   "outputs": [
    {
     "data": {
      "text/plain": [
       "bool"
      ]
     },
     "execution_count": 22,
     "metadata": {},
     "output_type": "execute_result"
    }
   ],
   "source": [
    "type(n)"
   ]
  },
  {
   "cell_type": "code",
   "execution_count": 23,
   "id": "7fb78f2d-7ed4-4ebc-9754-3f58ddc4be22",
   "metadata": {},
   "outputs": [],
   "source": [
    "m=False ## False=0"
   ]
  },
  {
   "cell_type": "code",
   "execution_count": 24,
   "id": "64e916fc-a842-46a9-8b81-11d60c39b7ed",
   "metadata": {},
   "outputs": [
    {
     "data": {
      "text/plain": [
       "bool"
      ]
     },
     "execution_count": 24,
     "metadata": {},
     "output_type": "execute_result"
    }
   ],
   "source": [
    "type(m)"
   ]
  },
  {
   "cell_type": "code",
   "execution_count": 25,
   "id": "7ce75cc9-068c-4ad6-a09b-617eef72a2d8",
   "metadata": {},
   "outputs": [
    {
     "data": {
      "text/plain": [
       "1"
      ]
     },
     "execution_count": 25,
     "metadata": {},
     "output_type": "execute_result"
    }
   ],
   "source": [
    "n+m"
   ]
  },
  {
   "cell_type": "code",
   "execution_count": 26,
   "id": "618618b1-9d8a-4e8d-a055-6341586def71",
   "metadata": {},
   "outputs": [
    {
     "data": {
      "text/plain": [
       "1"
      ]
     },
     "execution_count": 26,
     "metadata": {},
     "output_type": "execute_result"
    }
   ],
   "source": [
    "n-m"
   ]
  },
  {
   "cell_type": "code",
   "execution_count": 27,
   "id": "14ea1182-1a6a-4cc9-af8d-02ce621796bc",
   "metadata": {},
   "outputs": [
    {
     "data": {
      "text/plain": [
       "0"
      ]
     },
     "execution_count": 27,
     "metadata": {},
     "output_type": "execute_result"
    }
   ],
   "source": [
    "n*m"
   ]
  },
  {
   "cell_type": "code",
   "execution_count": 28,
   "id": "2249f3c4-4817-479c-9f9d-8ea7d5926565",
   "metadata": {},
   "outputs": [
    {
     "data": {
      "text/plain": [
       "1"
      ]
     },
     "execution_count": 28,
     "metadata": {},
     "output_type": "execute_result"
    }
   ],
   "source": [
    "True*True"
   ]
  },
  {
   "cell_type": "code",
   "execution_count": 29,
   "id": "a532d23d-90b2-4b10-93ae-4f4010cd23a4",
   "metadata": {},
   "outputs": [
    {
     "data": {
      "text/plain": [
       "0"
      ]
     },
     "execution_count": 29,
     "metadata": {},
     "output_type": "execute_result"
    }
   ],
   "source": [
    "True*False"
   ]
  },
  {
   "cell_type": "code",
   "execution_count": 30,
   "id": "6e810780-ba82-47cc-84e8-2d20592c8fac",
   "metadata": {},
   "outputs": [
    {
     "data": {
      "text/plain": [
       "0"
      ]
     },
     "execution_count": 30,
     "metadata": {},
     "output_type": "execute_result"
    }
   ],
   "source": [
    "False*False"
   ]
  },
  {
   "cell_type": "code",
   "execution_count": 31,
   "id": "91ce3c45-39ec-4afc-bbd0-4df6f6b5cb95",
   "metadata": {},
   "outputs": [
    {
     "ename": "ZeroDivisionError",
     "evalue": "division by zero",
     "output_type": "error",
     "traceback": [
      "\u001b[0;31m---------------------------------------------------------------------------\u001b[0m",
      "\u001b[0;31mZeroDivisionError\u001b[0m                         Traceback (most recent call last)",
      "Cell \u001b[0;32mIn[31], line 1\u001b[0m\n\u001b[0;32m----> 1\u001b[0m \u001b[38;5;28;43;01mTrue\u001b[39;49;00m\u001b[38;5;241;43m/\u001b[39;49m\u001b[38;5;28;43;01mFalse\u001b[39;49;00m\n",
      "\u001b[0;31mZeroDivisionError\u001b[0m: division by zero"
     ]
    }
   ],
   "source": [
    "True/False"
   ]
  },
  {
   "cell_type": "code",
   "execution_count": 32,
   "id": "0ee45f22-7a70-4f31-a22a-aafcdb546cfc",
   "metadata": {},
   "outputs": [
    {
     "ename": "ZeroDivisionError",
     "evalue": "division by zero",
     "output_type": "error",
     "traceback": [
      "\u001b[0;31m---------------------------------------------------------------------------\u001b[0m",
      "\u001b[0;31mZeroDivisionError\u001b[0m                         Traceback (most recent call last)",
      "Cell \u001b[0;32mIn[32], line 1\u001b[0m\n\u001b[0;32m----> 1\u001b[0m \u001b[38;5;241;43m1\u001b[39;49m\u001b[38;5;241;43m/\u001b[39;49m\u001b[38;5;241;43m0\u001b[39;49m\n",
      "\u001b[0;31mZeroDivisionError\u001b[0m: division by zero"
     ]
    }
   ],
   "source": [
    "1/0"
   ]
  },
  {
   "cell_type": "markdown",
   "id": "38dde9b2-0b42-406f-ab9c-322ac4f68319",
   "metadata": {},
   "source": [
    "## Complex Variable"
   ]
  },
  {
   "cell_type": "code",
   "execution_count": 33,
   "id": "fb3d83d8-a39f-46ff-9171-da12f1700574",
   "metadata": {},
   "outputs": [],
   "source": [
    "v=3+5j"
   ]
  },
  {
   "cell_type": "code",
   "execution_count": 34,
   "id": "2c2b8d3c-3320-4533-aba6-f0d9bdff14d1",
   "metadata": {},
   "outputs": [
    {
     "data": {
      "text/plain": [
       "complex"
      ]
     },
     "execution_count": 34,
     "metadata": {},
     "output_type": "execute_result"
    }
   ],
   "source": [
    "type(v)"
   ]
  },
  {
   "cell_type": "code",
   "execution_count": 35,
   "id": "f1aec0ca-a469-47ec-9123-07cfb7d9c63e",
   "metadata": {},
   "outputs": [
    {
     "data": {
      "text/plain": [
       "3.0"
      ]
     },
     "execution_count": 35,
     "metadata": {},
     "output_type": "execute_result"
    }
   ],
   "source": [
    "v.real"
   ]
  },
  {
   "cell_type": "code",
   "execution_count": 36,
   "id": "024efaa8-7e7a-4f90-bc2b-5c947136f139",
   "metadata": {},
   "outputs": [
    {
     "data": {
      "text/plain": [
       "5.0"
      ]
     },
     "execution_count": 36,
     "metadata": {},
     "output_type": "execute_result"
    }
   ],
   "source": [
    "v.imag"
   ]
  },
  {
   "cell_type": "code",
   "execution_count": 37,
   "id": "651ee7f1-bdad-4d1f-922b-4e5cf6883fb5",
   "metadata": {},
   "outputs": [],
   "source": [
    "u=4+5j"
   ]
  },
  {
   "cell_type": "code",
   "execution_count": 38,
   "id": "9ba75bbd-8997-4819-9f50-610fb01b34ea",
   "metadata": {},
   "outputs": [
    {
     "data": {
      "text/plain": [
       "(7+10j)"
      ]
     },
     "execution_count": 38,
     "metadata": {},
     "output_type": "execute_result"
    }
   ],
   "source": [
    "v+u"
   ]
  },
  {
   "cell_type": "code",
   "execution_count": 39,
   "id": "bef121fa-95cd-434f-b58a-347df37da279",
   "metadata": {},
   "outputs": [
    {
     "data": {
      "text/plain": [
       "7.0"
      ]
     },
     "execution_count": 39,
     "metadata": {},
     "output_type": "execute_result"
    }
   ],
   "source": [
    "v.real+u.real"
   ]
  },
  {
   "cell_type": "code",
   "execution_count": 40,
   "id": "9c55d6c7-4243-433b-bf8a-f02288d9eacc",
   "metadata": {},
   "outputs": [
    {
     "data": {
      "text/plain": [
       "10.0"
      ]
     },
     "execution_count": 40,
     "metadata": {},
     "output_type": "execute_result"
    }
   ],
   "source": [
    "v.imag+u.imag"
   ]
  },
  {
   "cell_type": "markdown",
   "id": "81d524b0-7f91-44f7-ad86-497d9fa763d3",
   "metadata": {},
   "source": [
    "## Overriding in Python Mean we assign the same variable name of Data"
   ]
  },
  {
   "cell_type": "markdown",
   "id": "c1de02e9-8cb6-4064-8ce5-f2a525e5f3cc",
   "metadata": {},
   "source": [
    "### print() function in Python"
   ]
  },
  {
   "cell_type": "code",
   "execution_count": 41,
   "id": "01d7c734-962d-4dff-a2ec-88f84bf8b706",
   "metadata": {},
   "outputs": [
    {
     "name": "stdout",
     "output_type": "stream",
     "text": [
      "Gaurav\n"
     ]
    }
   ],
   "source": [
    "print(\"Gaurav\")"
   ]
  },
  {
   "cell_type": "code",
   "execution_count": 42,
   "id": "ffbd24f7-7686-4f90-b1f9-104696280c12",
   "metadata": {},
   "outputs": [
    {
     "name": "stdout",
     "output_type": "stream",
     "text": [
      "Data_Science\n"
     ]
    }
   ],
   "source": [
    "print(\"Data_Science\")"
   ]
  },
  {
   "cell_type": "code",
   "execution_count": 43,
   "id": "0ced820a-2f12-445b-97ce-218083139731",
   "metadata": {},
   "outputs": [
    {
     "name": "stdout",
     "output_type": "stream",
     "text": [
      "2530.53\n"
     ]
    }
   ],
   "source": [
    "print(a)"
   ]
  },
  {
   "cell_type": "code",
   "execution_count": 44,
   "id": "9d384f5c-4663-474a-b45d-0712d1c4d305",
   "metadata": {},
   "outputs": [],
   "source": [
    "s=\"pwskills\""
   ]
  },
  {
   "cell_type": "code",
   "execution_count": 45,
   "id": "d227e763-8cff-4df0-857c-d87cdc13d061",
   "metadata": {},
   "outputs": [
    {
     "data": {
      "text/plain": [
       "str"
      ]
     },
     "execution_count": 45,
     "metadata": {},
     "output_type": "execute_result"
    }
   ],
   "source": [
    "type(s)"
   ]
  },
  {
   "cell_type": "markdown",
   "id": "ac791de4-aba5-4a54-ba98-07cb4e1e6d57",
   "metadata": {},
   "source": [
    "\n",
    "\n",
    "\n",
    "\n",
    "\n",
    "## Slicing in Python"
   ]
  },
  {
   "cell_type": "code",
   "execution_count": 46,
   "id": "c54b6d1a-eb41-4380-a463-0db05a329068",
   "metadata": {},
   "outputs": [
    {
     "data": {
      "text/plain": [
       "'p'"
      ]
     },
     "execution_count": 46,
     "metadata": {},
     "output_type": "execute_result"
    }
   ],
   "source": [
    "s[0]"
   ]
  },
  {
   "cell_type": "code",
   "execution_count": 47,
   "id": "a8d14a99-ac42-4d01-a80e-d49ec2151b68",
   "metadata": {},
   "outputs": [
    {
     "data": {
      "text/plain": [
       "'w'"
      ]
     },
     "execution_count": 47,
     "metadata": {},
     "output_type": "execute_result"
    }
   ],
   "source": [
    "s[1]"
   ]
  },
  {
   "cell_type": "code",
   "execution_count": 48,
   "id": "51f82d77-8c89-458a-aee1-dcb727cdd92a",
   "metadata": {},
   "outputs": [
    {
     "data": {
      "text/plain": [
       "'s'"
      ]
     },
     "execution_count": 48,
     "metadata": {},
     "output_type": "execute_result"
    }
   ],
   "source": [
    "s[2]"
   ]
  },
  {
   "cell_type": "code",
   "execution_count": 49,
   "id": "5a30a94b-62f1-426e-a706-ebcce31d9ea3",
   "metadata": {},
   "outputs": [
    {
     "data": {
      "text/plain": [
       "'k'"
      ]
     },
     "execution_count": 49,
     "metadata": {},
     "output_type": "execute_result"
    }
   ],
   "source": [
    "s[3]"
   ]
  },
  {
   "cell_type": "code",
   "execution_count": 50,
   "id": "0d8d044c-1365-4c7d-ab74-3e57e7c717e9",
   "metadata": {},
   "outputs": [
    {
     "data": {
      "text/plain": [
       "('i', 'l', 'l', 's')"
      ]
     },
     "execution_count": 50,
     "metadata": {},
     "output_type": "execute_result"
    }
   ],
   "source": [
    "s[4],s[5],s[6],s[7]"
   ]
  },
  {
   "cell_type": "code",
   "execution_count": 51,
   "id": "d0f82c46-2ff2-4d27-a945-a07540cbf0ca",
   "metadata": {},
   "outputs": [
    {
     "data": {
      "text/plain": [
       "'s'"
      ]
     },
     "execution_count": 51,
     "metadata": {},
     "output_type": "execute_result"
    }
   ],
   "source": [
    "s[-1]"
   ]
  },
  {
   "cell_type": "code",
   "execution_count": 52,
   "id": "16a45a94-4f4b-429a-a7de-82a6bae1b0ce",
   "metadata": {},
   "outputs": [
    {
     "data": {
      "text/plain": [
       "'p'"
      ]
     },
     "execution_count": 52,
     "metadata": {},
     "output_type": "execute_result"
    }
   ],
   "source": [
    "s[-8]"
   ]
  },
  {
   "cell_type": "code",
   "execution_count": 53,
   "id": "416e820d-a687-4d64-b827-b8dd6fdb9a33",
   "metadata": {},
   "outputs": [
    {
     "data": {
      "text/plain": [
       "'pws'"
      ]
     },
     "execution_count": 53,
     "metadata": {},
     "output_type": "execute_result"
    }
   ],
   "source": [
    "s[0:3] "
   ]
  },
  {
   "cell_type": "code",
   "execution_count": 54,
   "id": "a35b2193-73fb-49b7-91e6-d8d76dd4261e",
   "metadata": {},
   "outputs": [
    {
     "data": {
      "text/plain": [
       "'pw'"
      ]
     },
     "execution_count": 54,
     "metadata": {},
     "output_type": "execute_result"
    }
   ],
   "source": [
    "s[0:2] ## system by defalut consider jump=1"
   ]
  },
  {
   "cell_type": "code",
   "execution_count": 55,
   "id": "1fc5ce9f-93a8-4289-99be-272f0a365c26",
   "metadata": {},
   "outputs": [
    {
     "data": {
      "text/plain": [
       "'pwsk'"
      ]
     },
     "execution_count": 55,
     "metadata": {},
     "output_type": "execute_result"
    }
   ],
   "source": [
    "s[0:4] ## system by defalut consider jump=1 "
   ]
  },
  {
   "cell_type": "code",
   "execution_count": 56,
   "id": "9bfcbb0e-e79d-4437-ac47-b2abeb221ce3",
   "metadata": {},
   "outputs": [
    {
     "data": {
      "text/plain": [
       "'psil'"
      ]
     },
     "execution_count": 56,
     "metadata": {},
     "output_type": "execute_result"
    }
   ],
   "source": [
    "s[0:8:2]"
   ]
  },
  {
   "cell_type": "code",
   "execution_count": 57,
   "id": "ff82f248-a954-4159-bca6-46635c308e7b",
   "metadata": {},
   "outputs": [
    {
     "data": {
      "text/plain": [
       "'psil'"
      ]
     },
     "execution_count": 57,
     "metadata": {},
     "output_type": "execute_result"
    }
   ],
   "source": [
    "s[::2]"
   ]
  },
  {
   "cell_type": "code",
   "execution_count": 58,
   "id": "01c2f133-7279-40f8-ae81-f26b4ed84757",
   "metadata": {},
   "outputs": [
    {
     "data": {
      "text/plain": [
       "'sllikswp'"
      ]
     },
     "execution_count": 58,
     "metadata": {},
     "output_type": "execute_result"
    }
   ],
   "source": [
    "s[::-1] ## Reverse the string"
   ]
  },
  {
   "cell_type": "code",
   "execution_count": 59,
   "id": "02060c46-0e68-46ae-8b36-34c0d12d538f",
   "metadata": {},
   "outputs": [
    {
     "data": {
      "text/plain": [
       "''"
      ]
     },
     "execution_count": 59,
     "metadata": {},
     "output_type": "execute_result"
    }
   ],
   "source": [
    "s[2:7:-1]"
   ]
  },
  {
   "cell_type": "code",
   "execution_count": 60,
   "id": "6c9f8bfb-0ddb-4c9f-bd0b-5145128452e6",
   "metadata": {},
   "outputs": [
    {
     "data": {
      "text/plain": [
       "''"
      ]
     },
     "execution_count": 60,
     "metadata": {},
     "output_type": "execute_result"
    }
   ],
   "source": [
    "s[8:0] ## system by defalut consider jump=1"
   ]
  },
  {
   "cell_type": "code",
   "execution_count": 61,
   "id": "166b5648-94df-4098-b396-76b81d45c58f",
   "metadata": {},
   "outputs": [
    {
     "data": {
      "text/plain": [
       "'slliksw'"
      ]
     },
     "execution_count": 61,
     "metadata": {},
     "output_type": "execute_result"
    }
   ],
   "source": [
    "s[8:0:-1] ## jump direction is -1 so no conflict occur"
   ]
  },
  {
   "cell_type": "code",
   "execution_count": 62,
   "id": "947d8fa0-8784-4603-abef-a209657b8bcf",
   "metadata": {},
   "outputs": [
    {
     "data": {
      "text/plain": [
       "''"
      ]
     },
     "execution_count": 62,
     "metadata": {},
     "output_type": "execute_result"
    }
   ],
   "source": [
    "s[-2:-8:1]"
   ]
  },
  {
   "cell_type": "code",
   "execution_count": 63,
   "id": "f8c470b6-baff-485a-b8da-db0a1636d41a",
   "metadata": {},
   "outputs": [
    {
     "data": {
      "text/plain": [
       "'lliksw'"
      ]
     },
     "execution_count": 63,
     "metadata": {},
     "output_type": "execute_result"
    }
   ],
   "source": [
    "s[-2:-8:-1]"
   ]
  },
  {
   "cell_type": "code",
   "execution_count": 64,
   "id": "77c4ceec-4df2-4b72-bd98-076601950b7d",
   "metadata": {},
   "outputs": [
    {
     "data": {
      "text/plain": [
       "'llikswp'"
      ]
     },
     "execution_count": 64,
     "metadata": {},
     "output_type": "execute_result"
    }
   ],
   "source": [
    "s[-2::-1]"
   ]
  },
  {
   "cell_type": "code",
   "execution_count": 65,
   "id": "382a284e-a821-4441-b0f4-595b5845ac33",
   "metadata": {},
   "outputs": [
    {
     "data": {
      "text/plain": [
       "'sllikswp'"
      ]
     },
     "execution_count": 65,
     "metadata": {},
     "output_type": "execute_result"
    }
   ],
   "source": [
    "s[::-1] ## Reverse we goes from 0 to 8 but take -1 step from back side"
   ]
  },
  {
   "cell_type": "code",
   "execution_count": 66,
   "id": "04d5382e-4c2e-42a4-9126-bbeb1c3707aa",
   "metadata": {},
   "outputs": [
    {
     "data": {
      "text/plain": [
       "'slliksw'"
      ]
     },
     "execution_count": 66,
     "metadata": {},
     "output_type": "execute_result"
    }
   ],
   "source": [
    "s[:-8:-1]"
   ]
  },
  {
   "cell_type": "code",
   "execution_count": 67,
   "id": "f2f813b3-6821-4b5d-b424-d31fe6d79fbc",
   "metadata": {},
   "outputs": [
    {
     "ename": "IndexError",
     "evalue": "string index out of range",
     "output_type": "error",
     "traceback": [
      "\u001b[0;31m---------------------------------------------------------------------------\u001b[0m",
      "\u001b[0;31mIndexError\u001b[0m                                Traceback (most recent call last)",
      "Cell \u001b[0;32mIn[67], line 1\u001b[0m\n\u001b[0;32m----> 1\u001b[0m \u001b[43ms\u001b[49m\u001b[43m[\u001b[49m\u001b[38;5;241;43m90\u001b[39;49m\u001b[43m]\u001b[49m\n",
      "\u001b[0;31mIndexError\u001b[0m: string index out of range"
     ]
    }
   ],
   "source": [
    "s[90]"
   ]
  },
  {
   "cell_type": "code",
   "execution_count": null,
   "id": "e40cecef-7957-4f95-b603-14de7bce9e84",
   "metadata": {},
   "outputs": [],
   "source": [
    "s[:-90:]"
   ]
  },
  {
   "cell_type": "code",
   "execution_count": null,
   "id": "0f0ae1ad-d531-44f0-b993-1d4eb619a623",
   "metadata": {},
   "outputs": [],
   "source": [
    "s[:-90:-1]"
   ]
  },
  {
   "cell_type": "code",
   "execution_count": null,
   "id": "6363cffc-ce82-44b4-ad30-06b4fd1d778f",
   "metadata": {},
   "outputs": [],
   "source": [
    "s[:-9000:-1]"
   ]
  },
  {
   "cell_type": "code",
   "execution_count": 68,
   "id": "f01e432a-296e-4020-8e18-19dd2fa8cde9",
   "metadata": {},
   "outputs": [],
   "source": [
    "c=2000 # Its is a immutable "
   ]
  },
  {
   "cell_type": "markdown",
   "id": "6c97f015-c3ca-44d8-8ee1-4fd7067f16a6",
   "metadata": {},
   "source": [
    "## String Manipulation Concept"
   ]
  },
  {
   "cell_type": "code",
   "execution_count": 69,
   "id": "7ee6bdf1-4fa2-49c2-89e9-bd0b11b804f5",
   "metadata": {},
   "outputs": [],
   "source": [
    "s1=\"This is my string class\""
   ]
  },
  {
   "cell_type": "code",
   "execution_count": 70,
   "id": "cd294c94-5c3d-4945-b54d-d898e30726d3",
   "metadata": {},
   "outputs": [
    {
     "data": {
      "text/plain": [
       "23"
      ]
     },
     "execution_count": 70,
     "metadata": {},
     "output_type": "execute_result"
    }
   ],
   "source": [
    "len(s1)"
   ]
  },
  {
   "cell_type": "code",
   "execution_count": 71,
   "id": "14ca2f1a-cbb5-46af-846b-5e2f552f5a7e",
   "metadata": {},
   "outputs": [
    {
     "data": {
      "text/plain": [
       "3"
      ]
     },
     "execution_count": 71,
     "metadata": {},
     "output_type": "execute_result"
    }
   ],
   "source": [
    "s1.find('s')"
   ]
  },
  {
   "cell_type": "code",
   "execution_count": 72,
   "id": "d14676a3-7c4c-4c0e-8693-205233b0f52c",
   "metadata": {},
   "outputs": [
    {
     "data": {
      "text/plain": [
       "2"
      ]
     },
     "execution_count": 72,
     "metadata": {},
     "output_type": "execute_result"
    }
   ],
   "source": [
    "s1.find('i')"
   ]
  },
  {
   "cell_type": "code",
   "execution_count": 73,
   "id": "6943bea2-5722-4738-bbd1-a3d62e8e0936",
   "metadata": {},
   "outputs": [
    {
     "data": {
      "text/plain": [
       "2"
      ]
     },
     "execution_count": 73,
     "metadata": {},
     "output_type": "execute_result"
    }
   ],
   "source": [
    "s1.find(\"is\")"
   ]
  },
  {
   "cell_type": "code",
   "execution_count": 74,
   "id": "bc1f79f9-6539-41b1-be54-1d6955f336fc",
   "metadata": {},
   "outputs": [
    {
     "data": {
      "text/plain": [
       "-1"
      ]
     },
     "execution_count": 74,
     "metadata": {},
     "output_type": "execute_result"
    }
   ],
   "source": [
    "s1.find(\"iS\")"
   ]
  },
  {
   "cell_type": "code",
   "execution_count": 75,
   "id": "0f8298a9-f03f-400f-b33d-ecc2727eb1fd",
   "metadata": {},
   "outputs": [
    {
     "data": {
      "text/plain": [
       "5"
      ]
     },
     "execution_count": 75,
     "metadata": {},
     "output_type": "execute_result"
    }
   ],
   "source": [
    "s1.count('s')"
   ]
  },
  {
   "cell_type": "code",
   "execution_count": 76,
   "id": "cf69305a-377d-4d4b-b870-dc652471d62f",
   "metadata": {},
   "outputs": [
    {
     "data": {
      "text/plain": [
       "1"
      ]
     },
     "execution_count": 76,
     "metadata": {},
     "output_type": "execute_result"
    }
   ],
   "source": [
    "s1.count(\"st\")"
   ]
  },
  {
   "cell_type": "code",
   "execution_count": 77,
   "id": "89866ae0-2765-474b-8962-eeb3cd79ce41",
   "metadata": {},
   "outputs": [
    {
     "data": {
      "text/plain": [
       "0"
      ]
     },
     "execution_count": 77,
     "metadata": {},
     "output_type": "execute_result"
    }
   ],
   "source": [
    "s1.count(\"z\")"
   ]
  },
  {
   "cell_type": "code",
   "execution_count": 78,
   "id": "18e77659-aed6-4d11-ba63-297837003a29",
   "metadata": {},
   "outputs": [
    {
     "data": {
      "text/plain": [
       "'This is my string class'"
      ]
     },
     "execution_count": 78,
     "metadata": {},
     "output_type": "execute_result"
    }
   ],
   "source": [
    "s1"
   ]
  },
  {
   "cell_type": "code",
   "execution_count": 79,
   "id": "d43c7a8e-77e8-4ce2-9df2-4afdb995431b",
   "metadata": {},
   "outputs": [
    {
     "data": {
      "text/plain": [
       "'THIS IS MY STRING CLASS'"
      ]
     },
     "execution_count": 79,
     "metadata": {},
     "output_type": "execute_result"
    }
   ],
   "source": [
    "s1.upper()"
   ]
  },
  {
   "cell_type": "code",
   "execution_count": 80,
   "id": "33ff48c2-795f-4547-8206-693755cb06fb",
   "metadata": {},
   "outputs": [],
   "source": [
    "s2='THIS IS MY STRING CLASS'"
   ]
  },
  {
   "cell_type": "code",
   "execution_count": 81,
   "id": "cc13fcdd-8af5-48a4-883d-62d9d35bc29f",
   "metadata": {},
   "outputs": [
    {
     "data": {
      "text/plain": [
       "'this is my string class'"
      ]
     },
     "execution_count": 81,
     "metadata": {},
     "output_type": "execute_result"
    }
   ],
   "source": [
    "s2.lower()"
   ]
  },
  {
   "cell_type": "code",
   "execution_count": 82,
   "id": "a7550764-bb11-40a3-b459-c26e9358d0e1",
   "metadata": {},
   "outputs": [
    {
     "data": {
      "text/plain": [
       "'This Is My String Class'"
      ]
     },
     "execution_count": 82,
     "metadata": {},
     "output_type": "execute_result"
    }
   ],
   "source": [
    "s1.title()"
   ]
  },
  {
   "cell_type": "code",
   "execution_count": 83,
   "id": "02a078ef-6156-4d38-b267-b7eff9a9ad23",
   "metadata": {},
   "outputs": [
    {
     "data": {
      "text/plain": [
       "'This is my string class'"
      ]
     },
     "execution_count": 83,
     "metadata": {},
     "output_type": "execute_result"
    }
   ],
   "source": [
    "s1.capitalize()"
   ]
  },
  {
   "cell_type": "code",
   "execution_count": 84,
   "id": "2edadb2f-f5bd-4878-916b-4ceb0db2348b",
   "metadata": {},
   "outputs": [
    {
     "data": {
      "text/plain": [
       "'pwskills'"
      ]
     },
     "execution_count": 84,
     "metadata": {},
     "output_type": "execute_result"
    }
   ],
   "source": [
    "s"
   ]
  },
  {
   "cell_type": "code",
   "execution_count": null,
   "id": "1006a70e-f210-4608-8860-e219bc137f9d",
   "metadata": {},
   "outputs": [],
   "source": [
    "s+1"
   ]
  },
  {
   "cell_type": "code",
   "execution_count": null,
   "id": "e9152338-a427-463a-9e81-ef66557a5073",
   "metadata": {},
   "outputs": [],
   "source": [
    "s+\"Gaurav\""
   ]
  },
  {
   "cell_type": "code",
   "execution_count": null,
   "id": "951fc703-497e-43ee-94b7-e82ff57cbc01",
   "metadata": {},
   "outputs": [],
   "source": [
    "s+str(1)"
   ]
  },
  {
   "cell_type": "code",
   "execution_count": null,
   "id": "265bbd8f-56ab-42c5-b80d-afe05808bc99",
   "metadata": {},
   "outputs": [],
   "source": [
    "s*3"
   ]
  },
  {
   "cell_type": "code",
   "execution_count": null,
   "id": "e2add078-891d-41bc-8943-1942e6e187d7",
   "metadata": {},
   "outputs": [],
   "source": [
    "s/4"
   ]
  },
  {
   "cell_type": "code",
   "execution_count": null,
   "id": "242cd409-da0d-4a8b-b85e-9b007049d24d",
   "metadata": {},
   "outputs": [],
   "source": [
    "'don't do copy and paste in my class'"
   ]
  },
  {
   "cell_type": "markdown",
   "id": "b8b41e9a-65e2-4dba-b264-a4ae22b89374",
   "metadata": {},
   "source": [
    "## Quotes in string"
   ]
  },
  {
   "cell_type": "code",
   "execution_count": null,
   "id": "9642d3de-5980-4586-b3bf-9dff219f713b",
   "metadata": {},
   "outputs": [],
   "source": [
    "\"don't do copy and paste in my class\""
   ]
  },
  {
   "cell_type": "markdown",
   "id": "98ab94b9-628a-4bc7-8b99-e2d5ac917c7a",
   "metadata": {},
   "source": [
    "## Comments"
   ]
  },
  {
   "cell_type": "code",
   "execution_count": null,
   "id": "8ce60281-dafd-4d02-a7c4-8d1fcf3672a4",
   "metadata": {},
   "outputs": [],
   "source": [
    "## This is my first class for programming\n",
    "s1.find(\"s\")"
   ]
  },
  {
   "cell_type": "code",
   "execution_count": null,
   "id": "aa3ca814-d275-4d79-b09e-e81a72416c75",
   "metadata": {},
   "outputs": [],
   "source": [
    "s1.count('h')"
   ]
  },
  {
   "cell_type": "code",
   "execution_count": null,
   "id": "85ffce6c-af63-4ad6-a747-5b911a9111ff",
   "metadata": {},
   "outputs": [],
   "source": [
    "\"\"\"This is my first class for programming\n",
    "I have learnt Variable Declaration,data type ,string,boolean,complex number\n",
    "I have seen some examplke of string slicing and indexing\n",
    "I have gone through some of the string inbuilt function\"\"\""
   ]
  },
  {
   "cell_type": "code",
   "execution_count": null,
   "id": "0677b922-be3e-413c-9b63-f98321d9fd83",
   "metadata": {},
   "outputs": [],
   "source": [
    "# This is my first class for programming\n",
    "# I have learnt Variable Declaration,data type ,string,boolean,complex number\n",
    "# I have seen some examplke of string slicing and indexing\n",
    "# I have gone through some of the string inbuilt function"
   ]
  },
  {
   "cell_type": "code",
   "execution_count": null,
   "id": "f2642578-c7ea-4c11-a938-39aef9f97e90",
   "metadata": {},
   "outputs": [],
   "source": []
  },
  {
   "cell_type": "code",
   "execution_count": null,
   "id": "114397f3-51df-4b7f-9009-2c579f842b6c",
   "metadata": {},
   "outputs": [],
   "source": []
  },
  {
   "cell_type": "code",
   "execution_count": null,
   "id": "1a611948-d84d-4c20-81e0-a1573b280ea0",
   "metadata": {},
   "outputs": [],
   "source": []
  },
  {
   "cell_type": "code",
   "execution_count": null,
   "id": "43d0460f-ee67-4566-a31f-de838fb24361",
   "metadata": {},
   "outputs": [],
   "source": []
  },
  {
   "cell_type": "code",
   "execution_count": null,
   "id": "3333b62e-7986-4579-8217-379e858f45e3",
   "metadata": {},
   "outputs": [],
   "source": []
  }
 ],
 "metadata": {
  "kernelspec": {
   "display_name": "Python 3 (ipykernel)",
   "language": "python",
   "name": "python3"
  },
  "language_info": {
   "codemirror_mode": {
    "name": "ipython",
    "version": 3
   },
   "file_extension": ".py",
   "mimetype": "text/x-python",
   "name": "python",
   "nbconvert_exporter": "python",
   "pygments_lexer": "ipython3",
   "version": "3.10.8"
  }
 },
 "nbformat": 4,
 "nbformat_minor": 5
}
