{
 "cells": [
  {
   "cell_type": "code",
   "execution_count": 1,
   "id": "bca52b5d-6751-4d36-b42c-011c9225e227",
   "metadata": {},
   "outputs": [],
   "source": [
    "a=2"
   ]
  },
  {
   "cell_type": "code",
   "execution_count": 2,
   "id": "4bd4ed65-e48e-4141-b03d-75064e677e62",
   "metadata": {},
   "outputs": [
    {
     "name": "stdout",
     "output_type": "stream",
     "text": [
      "<class 'int'>\n"
     ]
    }
   ],
   "source": [
    "print(type(a))"
   ]
  },
  {
   "cell_type": "code",
   "execution_count": 3,
   "id": "d2d79d4b-00eb-4613-8816-4c9662f62216",
   "metadata": {},
   "outputs": [
    {
     "name": "stdout",
     "output_type": "stream",
     "text": [
      "<class 'str'>\n"
     ]
    }
   ],
   "source": [
    "print(type(\"pwskills\"))"
   ]
  },
  {
   "cell_type": "markdown",
   "id": "ad08e95f-5e5d-4222-9b18-79bb7e2cec64",
   "metadata": {},
   "source": [
    "## Creating class"
   ]
  },
  {
   "cell_type": "code",
   "execution_count": 4,
   "id": "c0576b17-1260-46f3-928e-2a7e93966c2d",
   "metadata": {},
   "outputs": [],
   "source": [
    "class test:\n",
    "    pass"
   ]
  },
  {
   "cell_type": "code",
   "execution_count": 5,
   "id": "ef07b5b8-8c22-44a6-92e4-85b65016c8d6",
   "metadata": {},
   "outputs": [],
   "source": [
    "a=test()"
   ]
  },
  {
   "cell_type": "code",
   "execution_count": 6,
   "id": "8e81e46c-bcde-4e3c-ac9f-c7c0228bd203",
   "metadata": {},
   "outputs": [
    {
     "data": {
      "text/plain": [
       "__main__.test"
      ]
     },
     "execution_count": 6,
     "metadata": {},
     "output_type": "execute_result"
    }
   ],
   "source": [
    "type(a)"
   ]
  },
  {
   "cell_type": "code",
   "execution_count": 7,
   "id": "313d606e-509f-44d9-a00b-550cca9e00a7",
   "metadata": {},
   "outputs": [
    {
     "name": "stdout",
     "output_type": "stream",
     "text": [
      "<class '__main__.test'>\n"
     ]
    }
   ],
   "source": [
    "print(type(a))"
   ]
  },
  {
   "cell_type": "code",
   "execution_count": 13,
   "id": "f1f9feb4-f949-4579-9292-574ed18c9f8c",
   "metadata": {},
   "outputs": [],
   "source": [
    "class pwskills:\n",
    "    def welcome_msg(self):\n",
    "        print(\"Welcome to Pwskills:\")"
   ]
  },
  {
   "cell_type": "code",
   "execution_count": 14,
   "id": "f728f75f-d681-4872-9705-64e6974f8e91",
   "metadata": {},
   "outputs": [],
   "source": [
    "rohan=pwskills()"
   ]
  },
  {
   "cell_type": "code",
   "execution_count": 15,
   "id": "8a30b33f-3f7e-46c1-865c-1a46a13fe90f",
   "metadata": {},
   "outputs": [
    {
     "data": {
      "text/plain": [
       "__main__.pwskills"
      ]
     },
     "execution_count": 15,
     "metadata": {},
     "output_type": "execute_result"
    }
   ],
   "source": [
    "type(rohan)"
   ]
  },
  {
   "cell_type": "code",
   "execution_count": 16,
   "id": "62a0a007-75ae-48fa-80d4-daeb7ca8c858",
   "metadata": {},
   "outputs": [
    {
     "name": "stdout",
     "output_type": "stream",
     "text": [
      "Welcome to Pwskills:\n"
     ]
    }
   ],
   "source": [
    "rohan.welcome_msg()"
   ]
  },
  {
   "cell_type": "code",
   "execution_count": 17,
   "id": "eaf3f685-dbaa-4e49-a642-f19dbd6be355",
   "metadata": {},
   "outputs": [],
   "source": [
    "gaurav=pwskills()"
   ]
  },
  {
   "cell_type": "code",
   "execution_count": 18,
   "id": "c4118827-5ae9-4b1d-9747-5beec7ac764f",
   "metadata": {},
   "outputs": [
    {
     "name": "stdout",
     "output_type": "stream",
     "text": [
      "Welcome to Pwskills:\n"
     ]
    }
   ],
   "source": [
    "gaurav.welcome_msg()"
   ]
  },
  {
   "cell_type": "code",
   "execution_count": 19,
   "id": "96c7fdef-1151-4a79-87ea-f4975c18e158",
   "metadata": {},
   "outputs": [],
   "source": [
    "class pwskills1 :\n",
    "    def __init__(self,phone_number,email_id,student_id):\n",
    "        self.phone_number=phone_number\n",
    "        self.email_id=email_id\n",
    "        self.student_id=student_id\n",
    "    def return_student_details(self):\n",
    "        return self.student_id,self.phone_number,self.email_id\n",
    "    "
   ]
  },
  {
   "cell_type": "code",
   "execution_count": 20,
   "id": "50259495-3da3-41d7-9c8a-4150fbe56a05",
   "metadata": {},
   "outputs": [
    {
     "ename": "TypeError",
     "evalue": "pwskills1.__init__() missing 3 required positional arguments: 'phone_number', 'email_id', and 'student_id'",
     "output_type": "error",
     "traceback": [
      "\u001b[0;31m---------------------------------------------------------------------------\u001b[0m",
      "\u001b[0;31mTypeError\u001b[0m                                 Traceback (most recent call last)",
      "Cell \u001b[0;32mIn[20], line 1\u001b[0m\n\u001b[0;32m----> 1\u001b[0m rohan\u001b[38;5;241m=\u001b[39m\u001b[43mpwskills1\u001b[49m\u001b[43m(\u001b[49m\u001b[43m)\u001b[49m\n",
      "\u001b[0;31mTypeError\u001b[0m: pwskills1.__init__() missing 3 required positional arguments: 'phone_number', 'email_id', and 'student_id'"
     ]
    }
   ],
   "source": [
    "rohan=pwskills1()"
   ]
  },
  {
   "cell_type": "code",
   "execution_count": 22,
   "id": "1af5758d-c9d1-42a7-8b76-bae4bce361ed",
   "metadata": {},
   "outputs": [],
   "source": [
    "rohan=pwskills1(123123,\"rohan@gmail.com\",101)"
   ]
  },
  {
   "cell_type": "code",
   "execution_count": 29,
   "id": "f03ea422-e8fa-4bbb-a915-7b19111aa25c",
   "metadata": {},
   "outputs": [
    {
     "data": {
      "text/plain": [
       "123123"
      ]
     },
     "execution_count": 29,
     "metadata": {},
     "output_type": "execute_result"
    }
   ],
   "source": [
    "rohan.phone_number"
   ]
  },
  {
   "cell_type": "code",
   "execution_count": 30,
   "id": "12807c68-7656-458a-bde1-d998d60b10ad",
   "metadata": {},
   "outputs": [
    {
     "data": {
      "text/plain": [
       "'rohan@gmail.com'"
      ]
     },
     "execution_count": 30,
     "metadata": {},
     "output_type": "execute_result"
    }
   ],
   "source": [
    "rohan.email_id"
   ]
  },
  {
   "cell_type": "code",
   "execution_count": 31,
   "id": "baacd093-6e61-454a-86e8-1436eeafbc2d",
   "metadata": {},
   "outputs": [
    {
     "data": {
      "text/plain": [
       "101"
      ]
     },
     "execution_count": 31,
     "metadata": {},
     "output_type": "execute_result"
    }
   ],
   "source": [
    "rohan.student_id"
   ]
  },
  {
   "cell_type": "code",
   "execution_count": 23,
   "id": "7bb50aa8-73a4-470f-90dd-59a5c73f00fe",
   "metadata": {},
   "outputs": [
    {
     "data": {
      "text/plain": [
       "(101, 123123, 'rohan@gmail.com')"
      ]
     },
     "execution_count": 23,
     "metadata": {},
     "output_type": "execute_result"
    }
   ],
   "source": [
    "rohan.return_student_details()"
   ]
  },
  {
   "cell_type": "code",
   "execution_count": 26,
   "id": "f26b51ac-a4e2-4217-ab50-83bd39789c41",
   "metadata": {},
   "outputs": [],
   "source": [
    "gaurav=pwskills1(12345678,\"Gaurav.gmail.coom\",123321)"
   ]
  },
  {
   "cell_type": "code",
   "execution_count": 27,
   "id": "abca03dd-9f6e-43c8-9255-781d15ebaef6",
   "metadata": {},
   "outputs": [
    {
     "data": {
      "text/plain": [
       "(123321, 12345678, 'Gaurav.gmail.coom')"
      ]
     },
     "execution_count": 27,
     "metadata": {},
     "output_type": "execute_result"
    }
   ],
   "source": [
    "gaurav.return_student_details()"
   ]
  },
  {
   "cell_type": "code",
   "execution_count": 46,
   "id": "d81bfa71-15a6-4882-8196-1eec9d24d4bb",
   "metadata": {},
   "outputs": [],
   "source": [
    "class pwskills2 :\n",
    "    def __init__(self,phone_number,email_id,student_id):\n",
    "        self.phone_number1=phone_number\n",
    "        self.email_id1=email_id\n",
    "        self.student_id1=student_id\n",
    "    def return_student_details(self):\n",
    "        return self.student_id1,self.phone_number1,self.email_id1\n",
    "    "
   ]
  },
  {
   "cell_type": "code",
   "execution_count": 47,
   "id": "00d95d88-f650-400e-93d9-4150c7a962cc",
   "metadata": {},
   "outputs": [],
   "source": [
    "mannu=pwskills2(123456,'agagga.gmail.com',1221)"
   ]
  },
  {
   "cell_type": "code",
   "execution_count": 48,
   "id": "f4007881-9d26-409e-ac95-9ece63b2a810",
   "metadata": {},
   "outputs": [
    {
     "data": {
      "text/plain": [
       "123456"
      ]
     },
     "execution_count": 48,
     "metadata": {},
     "output_type": "execute_result"
    }
   ],
   "source": [
    "mannu.phone_number1"
   ]
  },
  {
   "cell_type": "code",
   "execution_count": 49,
   "id": "82c1a297-da69-4ed6-bbcb-fe667921a7bc",
   "metadata": {},
   "outputs": [
    {
     "data": {
      "text/plain": [
       "123456"
      ]
     },
     "execution_count": 49,
     "metadata": {},
     "output_type": "execute_result"
    }
   ],
   "source": [
    "mannu.phone_number1"
   ]
  },
  {
   "cell_type": "code",
   "execution_count": 50,
   "id": "1f7fd3a3-bd40-4992-ba4e-65b665997495",
   "metadata": {},
   "outputs": [
    {
     "data": {
      "text/plain": [
       "'agagga.gmail.com'"
      ]
     },
     "execution_count": 50,
     "metadata": {},
     "output_type": "execute_result"
    }
   ],
   "source": [
    "mannu.email_id1"
   ]
  },
  {
   "cell_type": "code",
   "execution_count": 51,
   "id": "4a59c68f-da7b-45cc-8c80-6ef5d6b3f80f",
   "metadata": {},
   "outputs": [
    {
     "data": {
      "text/plain": [
       "(1221, 123456, 'agagga.gmail.com')"
      ]
     },
     "execution_count": 51,
     "metadata": {},
     "output_type": "execute_result"
    }
   ],
   "source": [
    "mannu.return_student_details()"
   ]
  },
  {
   "cell_type": "code",
   "execution_count": 54,
   "id": "284d55df-c39e-48c3-b280-1d44d9b40665",
   "metadata": {},
   "outputs": [],
   "source": [
    "class pwskills1 :\n",
    "    def __init__(gaurav,phone_number,email_id,student_id):\n",
    "        gaurav.phone_number1=phone_number\n",
    "        gaurav.email_id1=email_id\n",
    "        gaurav.student_id1=student_id\n",
    "    def return_student_details(gaurav):\n",
    "        return gaurav.student_id1,gaurav.phone_number1,gaurav.email_id1\n",
    "    "
   ]
  },
  {
   "cell_type": "code",
   "execution_count": 55,
   "id": "586f1e78-e754-43aa-bdc5-baae8da83287",
   "metadata": {},
   "outputs": [],
   "source": [
    "rohan=pwskills2(12345678000,'sshcchsch',3333)"
   ]
  },
  {
   "cell_type": "code",
   "execution_count": 56,
   "id": "403b2895-f622-42d4-9144-08cbd3adc556",
   "metadata": {},
   "outputs": [
    {
     "data": {
      "text/plain": [
       "12345678000"
      ]
     },
     "execution_count": 56,
     "metadata": {},
     "output_type": "execute_result"
    }
   ],
   "source": [
    "rohan.phone_number1"
   ]
  },
  {
   "cell_type": "code",
   "execution_count": 57,
   "id": "01be9248-ddb7-4dbc-84a6-6ff86290a4de",
   "metadata": {},
   "outputs": [
    {
     "data": {
      "text/plain": [
       "(3333, 12345678000, 'sshcchsch')"
      ]
     },
     "execution_count": 57,
     "metadata": {},
     "output_type": "execute_result"
    }
   ],
   "source": [
    "rohan.return_student_details()"
   ]
  },
  {
   "cell_type": "code",
   "execution_count": null,
   "id": "504b297d-f00d-4989-98b4-f6f722a27444",
   "metadata": {},
   "outputs": [],
   "source": []
  }
 ],
 "metadata": {
  "kernelspec": {
   "display_name": "Python 3 (ipykernel)",
   "language": "python",
   "name": "python3"
  },
  "language_info": {
   "codemirror_mode": {
    "name": "ipython",
    "version": 3
   },
   "file_extension": ".py",
   "mimetype": "text/x-python",
   "name": "python",
   "nbconvert_exporter": "python",
   "pygments_lexer": "ipython3",
   "version": "3.10.8"
  }
 },
 "nbformat": 4,
 "nbformat_minor": 5
}
