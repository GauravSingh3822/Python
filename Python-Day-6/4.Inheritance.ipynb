{
 "cells": [
  {
   "cell_type": "code",
   "execution_count": 1,
   "id": "91d244b2-3a26-4533-bab6-6e6072bddeef",
   "metadata": {},
   "outputs": [],
   "source": [
    "class test:\n",
    "    \n",
    "    def test_meth(self):\n",
    "        return \"This is my First class\""
   ]
  },
  {
   "cell_type": "code",
   "execution_count": 2,
   "id": "d468a7b8-59af-4739-931c-26438ca96503",
   "metadata": {},
   "outputs": [],
   "source": [
    "class child_test(test):\n",
    "    pass"
   ]
  },
  {
   "cell_type": "code",
   "execution_count": 3,
   "id": "d4cd62dc-2e89-4f9f-82b9-f51b62905356",
   "metadata": {},
   "outputs": [],
   "source": [
    "child_test_obj = child_test()"
   ]
  },
  {
   "cell_type": "code",
   "execution_count": 4,
   "id": "c3cb689a-fa97-4147-859f-90ae3dce1809",
   "metadata": {},
   "outputs": [
    {
     "data": {
      "text/plain": [
       "'This is my First class'"
      ]
     },
     "execution_count": 4,
     "metadata": {},
     "output_type": "execute_result"
    }
   ],
   "source": [
    "child_test_obj.test_meth()"
   ]
  },
  {
   "cell_type": "markdown",
   "id": "2ab6bf39-e45e-4301-8113-576fe4c9fb1d",
   "metadata": {},
   "source": [
    "# Multi_Level Inheritance"
   ]
  },
  {
   "cell_type": "code",
   "execution_count": 12,
   "id": "6cbb88d4-b13e-4034-907f-a998cfa80ff8",
   "metadata": {},
   "outputs": [],
   "source": [
    "class class1:\n",
    "    def test_class1(self):\n",
    "        return \"This is a meth from Class 1\""
   ]
  },
  {
   "cell_type": "code",
   "execution_count": 13,
   "id": "3be8d19f-0be5-449f-b132-1f52b3651c54",
   "metadata": {},
   "outputs": [],
   "source": [
    "class class2(class1):\n",
    "    def test_class2(self):\n",
    "        return \"This is a meth from Class 2\""
   ]
  },
  {
   "cell_type": "code",
   "execution_count": 14,
   "id": "2008a170-a779-4173-8d05-42e3eedc177f",
   "metadata": {},
   "outputs": [],
   "source": [
    "class class3(class2):\n",
    "    pass"
   ]
  },
  {
   "cell_type": "code",
   "execution_count": 15,
   "id": "ddef7e07-5e20-495c-8776-1f45e6877401",
   "metadata": {},
   "outputs": [],
   "source": [
    "obj_class=class3()"
   ]
  },
  {
   "cell_type": "code",
   "execution_count": 16,
   "id": "3ef123bd-8381-4e79-9667-b5447ea06e80",
   "metadata": {},
   "outputs": [
    {
     "data": {
      "text/plain": [
       "'This is a meth from Class 1'"
      ]
     },
     "execution_count": 16,
     "metadata": {},
     "output_type": "execute_result"
    }
   ],
   "source": [
    "obj_class.test_class1()"
   ]
  },
  {
   "cell_type": "code",
   "execution_count": 17,
   "id": "cc36d2f5-0373-46a6-bc13-8179a203d70d",
   "metadata": {},
   "outputs": [
    {
     "data": {
      "text/plain": [
       "'This is a meth from Class 2'"
      ]
     },
     "execution_count": 17,
     "metadata": {},
     "output_type": "execute_result"
    }
   ],
   "source": [
    "obj_class.test_class2()"
   ]
  },
  {
   "cell_type": "markdown",
   "id": "c1cfb0df-009f-4150-b7ec-584ab997bd4d",
   "metadata": {},
   "source": [
    "# Multiple_Inheritence"
   ]
  },
  {
   "cell_type": "code",
   "execution_count": 24,
   "id": "0b3bb91d-5beb-4ab5-9bac-27386048d2c0",
   "metadata": {},
   "outputs": [],
   "source": [
    "class class1:\n",
    "    def test_class1(self):\n",
    "        return \"This is a class 1\""
   ]
  },
  {
   "cell_type": "code",
   "execution_count": 25,
   "id": "8048b838-856b-4afe-9d94-e07556e3caf2",
   "metadata": {},
   "outputs": [],
   "source": [
    "class class2:\n",
    "    def test_class2(self):\n",
    "        return \"This is class 2\""
   ]
  },
  {
   "cell_type": "code",
   "execution_count": 26,
   "id": "0aba524f-f886-4851-a146-64b35dd17c0a",
   "metadata": {},
   "outputs": [],
   "source": [
    "class class3(class1,class2):\n",
    "    pass"
   ]
  },
  {
   "cell_type": "code",
   "execution_count": 27,
   "id": "70ee6dba-be7c-4002-ad9c-fe5f37600515",
   "metadata": {},
   "outputs": [],
   "source": [
    "obj_class3=class3()"
   ]
  },
  {
   "cell_type": "code",
   "execution_count": 28,
   "id": "a13a4738-2ab6-4106-b01e-40e0f4e17ae1",
   "metadata": {},
   "outputs": [
    {
     "data": {
      "text/plain": [
       "'This is a class 1'"
      ]
     },
     "execution_count": 28,
     "metadata": {},
     "output_type": "execute_result"
    }
   ],
   "source": [
    "obj_class3.test_class1()"
   ]
  },
  {
   "cell_type": "code",
   "execution_count": 30,
   "id": "2dbac756-82b0-4655-8270-bc170e6e1c17",
   "metadata": {},
   "outputs": [
    {
     "data": {
      "text/plain": [
       "'This is a meth from Class 2'"
      ]
     },
     "execution_count": 30,
     "metadata": {},
     "output_type": "execute_result"
    }
   ],
   "source": [
    "obj_class.test_class2()"
   ]
  },
  {
   "cell_type": "code",
   "execution_count": null,
   "id": "0492421a-3b93-4b2f-889e-f6e6b6fc614f",
   "metadata": {},
   "outputs": [],
   "source": []
  }
 ],
 "metadata": {
  "kernelspec": {
   "display_name": "Python 3 (ipykernel)",
   "language": "python",
   "name": "python3"
  },
  "language_info": {
   "codemirror_mode": {
    "name": "ipython",
    "version": 3
   },
   "file_extension": ".py",
   "mimetype": "text/x-python",
   "name": "python",
   "nbconvert_exporter": "python",
   "pygments_lexer": "ipython3",
   "version": "3.10.8"
  }
 },
 "nbformat": 4,
 "nbformat_minor": 5
}
