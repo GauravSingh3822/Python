{
 "cells": [
  {
   "cell_type": "code",
   "execution_count": 3,
   "id": "57dfb68c-f241-4bfa-8d84-e804e45f6dc5",
   "metadata": {},
   "outputs": [],
   "source": [
    "import abc\n",
    "class pwskills:\n",
    "    @abc.abstractmethod\n",
    "    def students_details(self):\n",
    "        pass\n",
    "    @abc.abstractmethod\n",
    "    def student_assignment(self):\n",
    "        pass\n",
    "    @abc.abstractmethod\n",
    "    def student_marks(self):\n",
    "        pass"
   ]
  },
  {
   "cell_type": "code",
   "execution_count": 9,
   "id": "8763d739-9d5e-41d5-ac6c-281ce80a4b59",
   "metadata": {},
   "outputs": [],
   "source": [
    "class student_details(pwskills):\n",
    "    \n",
    "    def students_details(self):\n",
    "        return \"This is a meth for taking students details\"\n",
    "    def student_assignment(self):\n",
    "        return \"This is a meth for assign details for a particular student\"\n",
    "        "
   ]
  },
  {
   "cell_type": "code",
   "execution_count": 6,
   "id": "62aa0953-1e4f-48bc-8761-b0375341d07d",
   "metadata": {},
   "outputs": [],
   "source": [
    "class data_science_masters(pwskills):\n",
    "    \n",
    "    def students_details(self):\n",
    "        return \"This will return a student details for Data science Masters\"\n",
    "    \n",
    "    def student_assignment(self):\n",
    "        return \"This will give you a student assignment details for Data Science Master\""
   ]
  },
  {
   "cell_type": "code",
   "execution_count": 8,
   "id": "c953712b-3e0d-4f5d-997f-6d6c1c4ea1a0",
   "metadata": {},
   "outputs": [
    {
     "data": {
      "text/plain": [
       "'This will return a student details for Data science Masters'"
      ]
     },
     "execution_count": 8,
     "metadata": {},
     "output_type": "execute_result"
    }
   ],
   "source": [
    "dsm=data_science_masters()\n",
    "dsm.students_details()"
   ]
  },
  {
   "cell_type": "code",
   "execution_count": 10,
   "id": "254c2576-0eb5-4d19-9129-60df2ffc95fd",
   "metadata": {},
   "outputs": [
    {
     "data": {
      "text/plain": [
       "'This is a meth for taking students details'"
      ]
     },
     "execution_count": 10,
     "metadata": {},
     "output_type": "execute_result"
    }
   ],
   "source": [
    "sd=student_details()\n",
    "sd.students_details()"
   ]
  },
  {
   "cell_type": "code",
   "execution_count": null,
   "id": "010530b2-0cdd-4445-9299-011d6cefb06f",
   "metadata": {},
   "outputs": [],
   "source": []
  }
 ],
 "metadata": {
  "kernelspec": {
   "display_name": "Python 3 (ipykernel)",
   "language": "python",
   "name": "python3"
  },
  "language_info": {
   "codemirror_mode": {
    "name": "ipython",
    "version": 3
   },
   "file_extension": ".py",
   "mimetype": "text/x-python",
   "name": "python",
   "nbconvert_exporter": "python",
   "pygments_lexer": "ipython3",
   "version": "3.10.8"
  }
 },
 "nbformat": 4,
 "nbformat_minor": 5
}
