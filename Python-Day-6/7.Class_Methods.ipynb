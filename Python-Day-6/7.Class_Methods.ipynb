{
 "cells": [
  {
   "cell_type": "code",
   "execution_count": 9,
   "id": "88f444b4-6661-438d-ade2-af1f7f83644f",
   "metadata": {},
   "outputs": [],
   "source": [
    "class pwskills:\n",
    "    \n",
    "    def __init__(self,name,email):\n",
    "        self.name=name\n",
    "        self.email=email\n",
    "        \n",
    "    def student_details(self):\n",
    "        print(self.name,self.email)"
   ]
  },
  {
   "cell_type": "code",
   "execution_count": 10,
   "id": "d3f210e8-9253-40a1-ba3e-a32a194ce66a",
   "metadata": {},
   "outputs": [],
   "source": [
    "pw=pwskills(\"Gaurav\",\"gaurav@gmail.com\")"
   ]
  },
  {
   "cell_type": "code",
   "execution_count": 11,
   "id": "64e941ac-c410-4408-a1d0-bd0b509b14fb",
   "metadata": {},
   "outputs": [
    {
     "data": {
      "text/plain": [
       "'Gaurav'"
      ]
     },
     "execution_count": 11,
     "metadata": {},
     "output_type": "execute_result"
    }
   ],
   "source": [
    "pw.name"
   ]
  },
  {
   "cell_type": "code",
   "execution_count": 12,
   "id": "fefa7954-6160-436d-8d2e-764e66c5e27f",
   "metadata": {},
   "outputs": [
    {
     "data": {
      "text/plain": [
       "'gaurav@gmail.com'"
      ]
     },
     "execution_count": 12,
     "metadata": {},
     "output_type": "execute_result"
    }
   ],
   "source": [
    "pw.email"
   ]
  },
  {
   "cell_type": "code",
   "execution_count": 13,
   "id": "96e421d3-081d-43e2-b2a1-44bb01e5850f",
   "metadata": {},
   "outputs": [
    {
     "name": "stdout",
     "output_type": "stream",
     "text": [
      "Gaurav gaurav@gmail.com\n"
     ]
    }
   ],
   "source": [
    "pw.student_details()"
   ]
  },
  {
   "cell_type": "code",
   "execution_count": 15,
   "id": "4d4d9db0-ad35-4a4f-849c-dba21cd1640f",
   "metadata": {},
   "outputs": [],
   "source": [
    "class pwskills1:\n",
    "    \n",
    "    def __init__(self,name,email):\n",
    "        self.name=name\n",
    "        self.email=email\n",
    "        \n",
    "    @classmethod\n",
    "    def details(cls,name,email):\n",
    "        return cls(name,email)\n",
    "        \n",
    "    def student_details(self):\n",
    "        print(self.name,self.email)"
   ]
  },
  {
   "cell_type": "code",
   "execution_count": 19,
   "id": "9090e08a-968b-4217-8c2e-3bf01c700531",
   "metadata": {},
   "outputs": [],
   "source": [
    "pw1=pwskills1.details(\"Gaurav\",\"gaurav@gmail.com\")"
   ]
  },
  {
   "cell_type": "code",
   "execution_count": 20,
   "id": "87155317-35f5-448f-8227-aeae3cd1eb1e",
   "metadata": {},
   "outputs": [
    {
     "data": {
      "text/plain": [
       "'Gaurav'"
      ]
     },
     "execution_count": 20,
     "metadata": {},
     "output_type": "execute_result"
    }
   ],
   "source": [
    "pw1.name"
   ]
  },
  {
   "cell_type": "code",
   "execution_count": 36,
   "id": "017863cc-c8b3-4be2-8d91-6e88e02206cb",
   "metadata": {},
   "outputs": [],
   "source": [
    "class pwskills1:\n",
    "    \n",
    "    mobile_num=912345678\n",
    "    \n",
    "\n",
    "    \n",
    "    def __init__(self,name,email):\n",
    "        self.name=name\n",
    "        self.email=email\n",
    "        \n",
    "        \n",
    "    @classmethod\n",
    "    def change_number(cls,mobile):\n",
    "        pwskills1.mobile_num=mobile\n",
    "        \n",
    "    @classmethod\n",
    "    def details(cls,name,email):\n",
    "        return cls(name,email)\n",
    "        \n",
    "    def student_details(self):\n",
    "        print(self.name,self.email)"
   ]
  },
  {
   "cell_type": "code",
   "execution_count": 43,
   "id": "8863c90d-125d-4723-b58f-6a8fe5f4cfe7",
   "metadata": {},
   "outputs": [],
   "source": [
    "pw=pwskills1.details(\"Mannu\",\"Gaurav@gamil.com\")"
   ]
  },
  {
   "cell_type": "code",
   "execution_count": 44,
   "id": "4f218316-4ad9-4001-883e-81b167d7e622",
   "metadata": {},
   "outputs": [
    {
     "name": "stdout",
     "output_type": "stream",
     "text": [
      "Mannu Gaurav@gamil.com\n"
     ]
    }
   ],
   "source": [
    "pw.student_details()"
   ]
  },
  {
   "cell_type": "code",
   "execution_count": 41,
   "id": "2b262797-7e69-426e-81d5-30e39e460b8e",
   "metadata": {},
   "outputs": [],
   "source": [
    "pw_obj=pwskills1(\"Gaurav\",\"gaurav@gmail.com\")"
   ]
  },
  {
   "cell_type": "code",
   "execution_count": 42,
   "id": "b8b5ccc6-6c0f-40d1-91cb-f97292ddb439",
   "metadata": {},
   "outputs": [
    {
     "name": "stdout",
     "output_type": "stream",
     "text": [
      "Gaurav gaurav@gmail.com\n"
     ]
    }
   ],
   "source": [
    "pw_obj.student_details()"
   ]
  },
  {
   "cell_type": "code",
   "execution_count": 37,
   "id": "12e6f6cc-4945-429c-b446-64c437e2b43c",
   "metadata": {},
   "outputs": [
    {
     "data": {
      "text/plain": [
       "912342424"
      ]
     },
     "execution_count": 37,
     "metadata": {},
     "output_type": "execute_result"
    }
   ],
   "source": [
    "pwskills2.mobile_num"
   ]
  },
  {
   "cell_type": "code",
   "execution_count": 38,
   "id": "2d1d1a7e-d52f-4af4-bf27-f929ed3f8082",
   "metadata": {},
   "outputs": [],
   "source": [
    "pwskills1.change_number(12343455)"
   ]
  },
  {
   "cell_type": "code",
   "execution_count": 40,
   "id": "88bcb405-e891-4e5a-9abd-118ed696dd3c",
   "metadata": {},
   "outputs": [
    {
     "data": {
      "text/plain": [
       "12343455"
      ]
     },
     "execution_count": 40,
     "metadata": {},
     "output_type": "execute_result"
    }
   ],
   "source": [
    "pwskills1.mobile_num"
   ]
  },
  {
   "cell_type": "code",
   "execution_count": 45,
   "id": "2aa34480-70a7-4971-b69f-7a583cf2c296",
   "metadata": {},
   "outputs": [],
   "source": [
    "class pwskills3:\n",
    "    \n",
    "    mobile_num=912345678\n",
    "    \n",
    "\n",
    "    \n",
    "    def __init__(self,name,email):\n",
    "        self.name=name\n",
    "        self.email=email\n",
    "        \n",
    "        \n",
    "    @classmethod\n",
    "    def change_number(cls,mobile):\n",
    "        pwskills1.mobile_num=mobile\n",
    "        \n",
    "    @classmethod\n",
    "    def details(cls,name,email):\n",
    "        return cls(name,email)\n",
    "        \n",
    "    def student_details(self):\n",
    "        print(self.name,self.email)"
   ]
  },
  {
   "cell_type": "markdown",
   "id": "76379002-a990-4877-8175-56c66f18e453",
   "metadata": {},
   "source": [
    "# Associate outer function to our existing class"
   ]
  },
  {
   "cell_type": "code",
   "execution_count": 46,
   "id": "626e175b-5007-44fe-b95b-da172e9d7a30",
   "metadata": {},
   "outputs": [],
   "source": [
    "def course_details(cls,course_name):\n",
    "    print(\"Course name is \",course_name)"
   ]
  },
  {
   "cell_type": "code",
   "execution_count": 47,
   "id": "0740ab09-37f2-4126-b351-4d30e562874e",
   "metadata": {},
   "outputs": [],
   "source": [
    "pwskills3.course_details=classmethod(course_details)"
   ]
  },
  {
   "cell_type": "code",
   "execution_count": 48,
   "id": "95ef2631-516a-419d-9ec9-1ea351f3433a",
   "metadata": {},
   "outputs": [
    {
     "name": "stdout",
     "output_type": "stream",
     "text": [
      "Course name is  Data Science Masters\n"
     ]
    }
   ],
   "source": [
    "pwskills3.course_details(\"Data Science Masters\")"
   ]
  },
  {
   "cell_type": "code",
   "execution_count": 49,
   "id": "4ce55645-0b0e-4973-ab78-fbd8df4b0456",
   "metadata": {},
   "outputs": [],
   "source": [
    "def mentor(cls,list_of_mentor):\n",
    "    print(list_of_mentor)"
   ]
  },
  {
   "cell_type": "code",
   "execution_count": 50,
   "id": "5cf12d97-21c8-40dd-b2cf-adf17806aa1f",
   "metadata": {},
   "outputs": [],
   "source": [
    "pwskills3.mentor=classmethod(mentor)"
   ]
  },
  {
   "cell_type": "code",
   "execution_count": 52,
   "id": "5ba415ac-1350-439c-9825-38c2c1d172d5",
   "metadata": {},
   "outputs": [
    {
     "name": "stdout",
     "output_type": "stream",
     "text": [
      "['Gau', 'Man']\n"
     ]
    }
   ],
   "source": [
    "pwskills3.mentor([\"Gau\",\"Man\"])"
   ]
  },
  {
   "cell_type": "code",
   "execution_count": 55,
   "id": "3d90a643-b1ea-4911-a123-77f0bcaffc56",
   "metadata": {},
   "outputs": [],
   "source": [
    "class pwskills4:\n",
    "    \n",
    "    mobile_num=912345678\n",
    "    \n",
    "\n",
    "    \n",
    "    def __init__(self,name,email):\n",
    "        self.name=name\n",
    "        self.email=email\n",
    "        \n",
    "        \n",
    "    @classmethod\n",
    "    def change_number(cls,mobile):\n",
    "        pwskills1.mobile_num=mobile\n",
    "        \n",
    "    @classmethod\n",
    "    def details(cls,name,email):\n",
    "        return cls(name,email)\n",
    "        \n",
    "    def student_details(self):\n",
    "        print(self.name,self.email)"
   ]
  },
  {
   "cell_type": "markdown",
   "id": "e34ebda7-1499-43b7-ad74-b7909c73e0cc",
   "metadata": {},
   "source": [
    "# Del exiting class"
   ]
  },
  {
   "cell_type": "code",
   "execution_count": 56,
   "id": "234f50a6-7722-439f-a082-5ce5936c66c2",
   "metadata": {},
   "outputs": [],
   "source": [
    "del pwskills4.change_number"
   ]
  },
  {
   "cell_type": "code",
   "execution_count": 60,
   "id": "abc4fcbf-f770-4ba1-9f67-85b576da6ee6",
   "metadata": {},
   "outputs": [
    {
     "ename": "AttributeError",
     "evalue": "details",
     "output_type": "error",
     "traceback": [
      "\u001b[0;31m---------------------------------------------------------------------------\u001b[0m",
      "\u001b[0;31mAttributeError\u001b[0m                            Traceback (most recent call last)",
      "Cell \u001b[0;32mIn[60], line 1\u001b[0m\n\u001b[0;32m----> 1\u001b[0m \u001b[38;5;28;43mdelattr\u001b[39;49m\u001b[43m(\u001b[49m\u001b[43mpwskills4\u001b[49m\u001b[43m,\u001b[49m\u001b[38;5;124;43m'\u001b[39;49m\u001b[38;5;124;43mdetails\u001b[39;49m\u001b[38;5;124;43m'\u001b[39;49m\u001b[43m)\u001b[49m \u001b[38;5;66;03m## another method\u001b[39;00m\n",
      "\u001b[0;31mAttributeError\u001b[0m: details"
     ]
    }
   ],
   "source": [
    "delattr(pwskills4,'details') ## another method"
   ]
  },
  {
   "cell_type": "code",
   "execution_count": 61,
   "id": "6fbc81b0-ebfd-41a0-b0d3-66d212431f9d",
   "metadata": {},
   "outputs": [],
   "source": [
    "delattr(pwskills4,\"student_details\")"
   ]
  },
  {
   "cell_type": "code",
   "execution_count": 62,
   "id": "e0bd64ff-f710-41bd-8d30-735fd033b128",
   "metadata": {},
   "outputs": [],
   "source": [
    "delattr(pwskills4,'mobile_num')"
   ]
  },
  {
   "cell_type": "code",
   "execution_count": null,
   "id": "5ae588b1-1af7-491a-a5f5-5d8363beeb8c",
   "metadata": {},
   "outputs": [],
   "source": [
    "pwskills4."
   ]
  },
  {
   "cell_type": "code",
   "execution_count": 57,
   "id": "cc362a9f-bf4d-4e32-a49f-cb52fef7a0c0",
   "metadata": {},
   "outputs": [
    {
     "ename": "AttributeError",
     "evalue": "type object 'pwskills4' has no attribute 'change_number'",
     "output_type": "error",
     "traceback": [
      "\u001b[0;31m---------------------------------------------------------------------------\u001b[0m",
      "\u001b[0;31mAttributeError\u001b[0m                            Traceback (most recent call last)",
      "Cell \u001b[0;32mIn[57], line 1\u001b[0m\n\u001b[0;32m----> 1\u001b[0m \u001b[43mpwskills4\u001b[49m\u001b[38;5;241;43m.\u001b[39;49m\u001b[43mchange_number\u001b[49m(\u001b[38;5;241m34556666\u001b[39m)\n",
      "\u001b[0;31mAttributeError\u001b[0m: type object 'pwskills4' has no attribute 'change_number'"
     ]
    }
   ],
   "source": [
    "pwskills4.change_number(34556666)"
   ]
  },
  {
   "cell_type": "code",
   "execution_count": null,
   "id": "df8b7c21-0b6f-4c0f-817e-0288974d054d",
   "metadata": {},
   "outputs": [],
   "source": []
  }
 ],
 "metadata": {
  "kernelspec": {
   "display_name": "Python 3 (ipykernel)",
   "language": "python",
   "name": "python3"
  },
  "language_info": {
   "codemirror_mode": {
    "name": "ipython",
    "version": 3
   },
   "file_extension": ".py",
   "mimetype": "text/x-python",
   "name": "python",
   "nbconvert_exporter": "python",
   "pygments_lexer": "ipython3",
   "version": "3.10.8"
  }
 },
 "nbformat": 4,
 "nbformat_minor": 5
}
