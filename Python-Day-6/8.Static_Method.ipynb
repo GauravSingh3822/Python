{
 "cells": [
  {
   "cell_type": "code",
   "execution_count": 2,
   "id": "ae014548-f1f8-4213-bfc4-dc82a933c896",
   "metadata": {},
   "outputs": [],
   "source": [
    "class pwskills :\n",
    "    \n",
    "    def student_details(self,name,mail_id,number):\n",
    "        \n",
    "        print(name,mail_id,number)"
   ]
  },
  {
   "cell_type": "code",
   "execution_count": 3,
   "id": "112ea865-22c2-4158-8ef3-f9ceea5c4466",
   "metadata": {},
   "outputs": [],
   "source": [
    "pw_obj=pwskills()"
   ]
  },
  {
   "cell_type": "code",
   "execution_count": 5,
   "id": "693b5283-f251-46b1-9297-7fba885a9f24",
   "metadata": {},
   "outputs": [
    {
     "name": "stdout",
     "output_type": "stream",
     "text": [
      "Gau gaga@gmail.com 345623\n"
     ]
    }
   ],
   "source": [
    "pw_obj.student_details(\"Gau\",\"gaga@gmail.com\",345623)"
   ]
  },
  {
   "cell_type": "code",
   "execution_count": 21,
   "id": "68cb71ba-dd5f-4a5d-b17a-ded417f7936b",
   "metadata": {},
   "outputs": [],
   "source": [
    "class pwskills1 :\n",
    "    \n",
    "    def student_details(self,name,mail_id,number):\n",
    "        print(name,mail_id,number)\n",
    "        \n",
    "    @staticmethod\n",
    "    def mentor_class(list_mentor):\n",
    "        print(list_mentor)\n",
    "        \n",
    "    def mentor(self,mentor_list):\n",
    "        print(mentor_list)"
   ]
  },
  {
   "cell_type": "code",
   "execution_count": 22,
   "id": "995f3ca5-0e1a-451a-8fbb-41b32801d0ec",
   "metadata": {},
   "outputs": [
    {
     "name": "stdout",
     "output_type": "stream",
     "text": [
      "['Gaurav', 'Mannu']\n"
     ]
    }
   ],
   "source": [
    "pwskills1.mentor_class([\"Gaurav\",\"Mannu\"])"
   ]
  },
  {
   "cell_type": "code",
   "execution_count": 23,
   "id": "1b804ee1-8301-418c-8f7e-edffcecc2f58",
   "metadata": {},
   "outputs": [],
   "source": [
    "stud1=pwskills1()"
   ]
  },
  {
   "cell_type": "code",
   "execution_count": 24,
   "id": "04a06e72-cfef-495d-91c6-1fbccdcf58b4",
   "metadata": {},
   "outputs": [],
   "source": [
    "stud2=pwskills1()"
   ]
  },
  {
   "cell_type": "code",
   "execution_count": 25,
   "id": "fa0fe857-c23a-49d1-9e99-46a5fd428abe",
   "metadata": {},
   "outputs": [],
   "source": [
    "stud3=pwskills1()"
   ]
  },
  {
   "cell_type": "code",
   "execution_count": 26,
   "id": "02c96fd5-475c-463f-bf14-811fd00d3549",
   "metadata": {},
   "outputs": [
    {
     "name": "stdout",
     "output_type": "stream",
     "text": [
      "['Gaurav', 'Mannu']\n"
     ]
    }
   ],
   "source": [
    "stud1.mentor([\"Gaurav\",\"Mannu\"])"
   ]
  },
  {
   "cell_type": "code",
   "execution_count": 31,
   "id": "945a764a-0520-4a25-b28f-b104dfdfd082",
   "metadata": {},
   "outputs": [],
   "source": [
    "class pwskills2 :\n",
    "    \n",
    "    def student_details(self,name,mail_id,number):\n",
    "        print(name,mail_id,number)\n",
    "        \n",
    "    @staticmethod\n",
    "    def mentor_mail_id(mail_id_mentor):\n",
    "        print(mail_id_mentor)\n",
    "        \n",
    "    @staticmethod\n",
    "    def mentor_class(list_mentor):\n",
    "        pwskills2.mentor_mail_id([\"Gaurav@gmail.com\",\"Mannusingh@gmail.com\"]) ## call anther static method in Other static method\n",
    "        print(list_mentor)\n",
    "        \n",
    "    @classmethod\n",
    "    def class_name(cls):\n",
    "        cls.mentor_class([\"Gaurav\",\"Mannu\"])\n",
    "        \n",
    "    def mentor(self,mentor_list):\n",
    "        print(mentor_list)\n",
    "        ## call static method in Instance method\n",
    "        self.mentor_class([\"Gaurav\",\"Mannu\"])"
   ]
  },
  {
   "cell_type": "code",
   "execution_count": 32,
   "id": "9c3c667f-a834-4aae-8e67-694f28d1576f",
   "metadata": {},
   "outputs": [
    {
     "name": "stdout",
     "output_type": "stream",
     "text": [
      "['Gaurav@gmail.com', 'Mannusingh@gmail.com']\n",
      "['Gaurav', 'Mannu']\n"
     ]
    }
   ],
   "source": [
    "pwskills2.mentor_class([\"Gaurav\",\"Mannu\"])"
   ]
  },
  {
   "cell_type": "code",
   "execution_count": 30,
   "id": "9099cbc0-d3bf-42db-9dba-c8047b08a6ea",
   "metadata": {},
   "outputs": [
    {
     "name": "stdout",
     "output_type": "stream",
     "text": [
      "['Gaurav', 'Mannu']\n"
     ]
    }
   ],
   "source": [
    "pwskills2.class_name()"
   ]
  },
  {
   "cell_type": "code",
   "execution_count": 33,
   "id": "be57f711-6a36-429a-b7b0-276c0dccc2d9",
   "metadata": {},
   "outputs": [],
   "source": [
    "pw=pwskills2()"
   ]
  },
  {
   "cell_type": "code",
   "execution_count": 35,
   "id": "dcc4fc9f-4107-4fc2-b0ac-c21ec4a0f1ba",
   "metadata": {},
   "outputs": [
    {
     "name": "stdout",
     "output_type": "stream",
     "text": [
      "['Gaurav', 'Mannu']\n"
     ]
    }
   ],
   "source": [
    "pw.mentor([\"Gaurav\",\"Mannu\"])"
   ]
  },
  {
   "cell_type": "code",
   "execution_count": null,
   "id": "f0d132c9-ccce-4359-a00d-42cecf52386d",
   "metadata": {},
   "outputs": [],
   "source": []
  }
 ],
 "metadata": {
  "kernelspec": {
   "display_name": "Python 3 (ipykernel)",
   "language": "python",
   "name": "python3"
  },
  "language_info": {
   "codemirror_mode": {
    "name": "ipython",
    "version": 3
   },
   "file_extension": ".py",
   "mimetype": "text/x-python",
   "name": "python",
   "nbconvert_exporter": "python",
   "pygments_lexer": "ipython3",
   "version": "3.10.8"
  }
 },
 "nbformat": 4,
 "nbformat_minor": 5
}
