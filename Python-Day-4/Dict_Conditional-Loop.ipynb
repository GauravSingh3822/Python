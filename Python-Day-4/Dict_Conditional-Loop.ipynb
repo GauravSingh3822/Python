{
 "cells": [
  {
   "cell_type": "markdown",
   "id": "5691bc82-a697-4a43-98a1-8df42e78e4bd",
   "metadata": {},
   "source": [
    "# Dictonary"
   ]
  },
  {
   "cell_type": "code",
   "execution_count": 1,
   "id": "937176f9-1481-4b32-8935-928b2dc021e1",
   "metadata": {},
   "outputs": [],
   "source": [
    "d={}"
   ]
  },
  {
   "cell_type": "code",
   "execution_count": 2,
   "id": "8cefacb4-c1f6-44c2-8ca5-2b2491ed2a10",
   "metadata": {},
   "outputs": [
    {
     "data": {
      "text/plain": [
       "dict"
      ]
     },
     "execution_count": 2,
     "metadata": {},
     "output_type": "execute_result"
    }
   ],
   "source": [
    "type(d)"
   ]
  },
  {
   "cell_type": "code",
   "execution_count": 3,
   "id": "49a535d7-7b2a-49fe-a54f-fedc47dfb99c",
   "metadata": {},
   "outputs": [],
   "source": [
    "d1={'key':'Gaurav'}"
   ]
  },
  {
   "cell_type": "code",
   "execution_count": 4,
   "id": "cbff6fa4-d64a-45de-80f5-851dbc05afad",
   "metadata": {},
   "outputs": [
    {
     "data": {
      "text/plain": [
       "{'key': 'Gaurav'}"
      ]
     },
     "execution_count": 4,
     "metadata": {},
     "output_type": "execute_result"
    }
   ],
   "source": [
    "d1"
   ]
  },
  {
   "cell_type": "code",
   "execution_count": 5,
   "id": "64117f4e-989d-4a58-a699-5a792aede6bd",
   "metadata": {},
   "outputs": [],
   "source": [
    "d2={'name':'Gaurav','email':'ss@gmail.com','number':234567}"
   ]
  },
  {
   "cell_type": "code",
   "execution_count": 6,
   "id": "8818763a-2c53-4cdc-8190-8bee5c5d6f11",
   "metadata": {},
   "outputs": [
    {
     "data": {
      "text/plain": [
       "{'name': 'Gaurav', 'email': 'ss@gmail.com', 'number': 234567}"
      ]
     },
     "execution_count": 6,
     "metadata": {},
     "output_type": "execute_result"
    }
   ],
   "source": [
    "d2"
   ]
  },
  {
   "cell_type": "code",
   "execution_count": 7,
   "id": "081df60a-4102-4864-a33e-2904fb060715",
   "metadata": {},
   "outputs": [
    {
     "ename": "SyntaxError",
     "evalue": "unmatched '}' (3329932710.py, line 1)",
     "output_type": "error",
     "traceback": [
      "\u001b[0;36m  Cell \u001b[0;32mIn[7], line 1\u001b[0;36m\u001b[0m\n\u001b[0;31m    d3=}\u001b[0m\n\u001b[0m       ^\u001b[0m\n\u001b[0;31mSyntaxError\u001b[0m\u001b[0;31m:\u001b[0m unmatched '}'\n"
     ]
    }
   ],
   "source": [
    "d3=}"
   ]
  },
  {
   "cell_type": "code",
   "execution_count": 8,
   "id": "c0ae190e-4c03-4503-84ae-69b208b561dc",
   "metadata": {},
   "outputs": [
    {
     "ename": "NameError",
     "evalue": "name 'd3' is not defined",
     "output_type": "error",
     "traceback": [
      "\u001b[0;31m---------------------------------------------------------------------------\u001b[0m",
      "\u001b[0;31mNameError\u001b[0m                                 Traceback (most recent call last)",
      "Cell \u001b[0;32mIn[8], line 1\u001b[0m\n\u001b[0;32m----> 1\u001b[0m \u001b[43md3\u001b[49m\n",
      "\u001b[0;31mNameError\u001b[0m: name 'd3' is not defined"
     ]
    }
   ],
   "source": [
    "d3"
   ]
  },
  {
   "cell_type": "code",
   "execution_count": 9,
   "id": "c3b6d9b4-d6cf-47cd-ba0f-71b6906a10bf",
   "metadata": {},
   "outputs": [],
   "source": [
    "d3={234:'Gaurav','@ver':'Singh',True:23234}"
   ]
  },
  {
   "cell_type": "code",
   "execution_count": 10,
   "id": "4f59dec7-4d71-461b-82cc-1348a2d38468",
   "metadata": {},
   "outputs": [
    {
     "data": {
      "text/plain": [
       "{234: 'Gaurav', '@ver': 'Singh', True: 23234}"
      ]
     },
     "execution_count": 10,
     "metadata": {},
     "output_type": "execute_result"
    }
   ],
   "source": [
    "d3"
   ]
  },
  {
   "cell_type": "code",
   "execution_count": 11,
   "id": "d907706f-d70d-4b57-8adb-08ea377205ab",
   "metadata": {},
   "outputs": [
    {
     "data": {
      "text/plain": [
       "'Gaurav'"
      ]
     },
     "execution_count": 11,
     "metadata": {},
     "output_type": "execute_result"
    }
   ],
   "source": [
    "d3[234]"
   ]
  },
  {
   "cell_type": "code",
   "execution_count": 12,
   "id": "5c03cb63-b9c5-4c23-bdcc-264b9afb12a9",
   "metadata": {},
   "outputs": [
    {
     "data": {
      "text/plain": [
       "23234"
      ]
     },
     "execution_count": 12,
     "metadata": {},
     "output_type": "execute_result"
    }
   ],
   "source": [
    "d3[True]"
   ]
  },
  {
   "cell_type": "code",
   "execution_count": 13,
   "id": "800974f5-2355-4185-8f57-597d91c7c2ff",
   "metadata": {},
   "outputs": [
    {
     "data": {
      "text/plain": [
       "23234"
      ]
     },
     "execution_count": 13,
     "metadata": {},
     "output_type": "execute_result"
    }
   ],
   "source": [
    "d3[1]"
   ]
  },
  {
   "cell_type": "code",
   "execution_count": 14,
   "id": "b138f094-7486-4914-ac34-7636cc7b8818",
   "metadata": {},
   "outputs": [],
   "source": [
    "d4={'name':'Gaurav','mail_id':'ss@gmail.com','name':'GauravSingh'}"
   ]
  },
  {
   "cell_type": "code",
   "execution_count": 15,
   "id": "726a3836-e1b6-4593-9ecd-b478c7a9c7fc",
   "metadata": {},
   "outputs": [
    {
     "data": {
      "text/plain": [
       "'GauravSingh'"
      ]
     },
     "execution_count": 15,
     "metadata": {},
     "output_type": "execute_result"
    }
   ],
   "source": [
    "d4['name']"
   ]
  },
  {
   "cell_type": "code",
   "execution_count": 16,
   "id": "65f42867-8290-44dd-a4c9-3cddd1816386",
   "metadata": {},
   "outputs": [],
   "source": [
    "d5={'company':'pwskills','course':[\"web dev\",'data scince','java with dsa system design']}"
   ]
  },
  {
   "cell_type": "code",
   "execution_count": 17,
   "id": "62c4805c-ae54-47d3-8eb1-b0c044184d8b",
   "metadata": {},
   "outputs": [
    {
     "data": {
      "text/plain": [
       "{'company': 'pwskills',\n",
       " 'course': ['web dev', 'data scince', 'java with dsa system design']}"
      ]
     },
     "execution_count": 17,
     "metadata": {},
     "output_type": "execute_result"
    }
   ],
   "source": [
    "d5"
   ]
  },
  {
   "cell_type": "code",
   "execution_count": 18,
   "id": "8b9d6a39-8472-4772-8737-a49994ce88f3",
   "metadata": {},
   "outputs": [
    {
     "data": {
      "text/plain": [
       "['web dev', 'data scince', 'java with dsa system design']"
      ]
     },
     "execution_count": 18,
     "metadata": {},
     "output_type": "execute_result"
    }
   ],
   "source": [
    "d5['course']"
   ]
  },
  {
   "cell_type": "code",
   "execution_count": 19,
   "id": "0a08d1c4-9101-4571-91c9-306ba1acb3af",
   "metadata": {},
   "outputs": [
    {
     "data": {
      "text/plain": [
       "'java with dsa system design'"
      ]
     },
     "execution_count": 19,
     "metadata": {},
     "output_type": "execute_result"
    }
   ],
   "source": [
    "d5['course'][-1]"
   ]
  },
  {
   "cell_type": "code",
   "execution_count": 20,
   "id": "001b1f1b-eca7-44b5-a486-47e1306891cb",
   "metadata": {},
   "outputs": [],
   "source": [
    "d6={\"number\":[2,34,3,34,34],\n",
    "    'assignment':(1,2,3,4,5,6),\n",
    "    'launch_date':{28,12,14},\n",
    "    \"class_time\":{'web_dev':8,'data science':12,'java with dsa':7}\n",
    "   }"
   ]
  },
  {
   "cell_type": "code",
   "execution_count": 21,
   "id": "6c572e71-fcdb-4cc7-9a10-67ab91708823",
   "metadata": {},
   "outputs": [
    {
     "data": {
      "text/plain": [
       "{'number': [2, 34, 3, 34, 34],\n",
       " 'assignment': (1, 2, 3, 4, 5, 6),\n",
       " 'launch_date': {12, 14, 28},\n",
       " 'class_time': {'web_dev': 8, 'data science': 12, 'java with dsa': 7}}"
      ]
     },
     "execution_count": 21,
     "metadata": {},
     "output_type": "execute_result"
    }
   ],
   "source": [
    "d6"
   ]
  },
  {
   "cell_type": "code",
   "execution_count": 22,
   "id": "74dfc5f3-b409-46f6-860e-178c4a5ea403",
   "metadata": {},
   "outputs": [
    {
     "data": {
      "text/plain": [
       "7"
      ]
     },
     "execution_count": 22,
     "metadata": {},
     "output_type": "execute_result"
    }
   ],
   "source": [
    "d6['class_time']['java with dsa']"
   ]
  },
  {
   "cell_type": "code",
   "execution_count": 23,
   "id": "99a9f073-440b-4fcb-a21f-d5a3c7c7645e",
   "metadata": {},
   "outputs": [],
   "source": [
    "d6['mentor']=[\"sudhanshu\",\"krish\",\"anurag\",\"hayder\"]"
   ]
  },
  {
   "cell_type": "code",
   "execution_count": 24,
   "id": "cc609b60-8003-49a6-89ea-0445206ca284",
   "metadata": {},
   "outputs": [
    {
     "data": {
      "text/plain": [
       "{'number': [2, 34, 3, 34, 34],\n",
       " 'assignment': (1, 2, 3, 4, 5, 6),\n",
       " 'launch_date': {12, 14, 28},\n",
       " 'class_time': {'web_dev': 8, 'data science': 12, 'java with dsa': 7},\n",
       " 'mentor': ['sudhanshu', 'krish', 'anurag', 'hayder']}"
      ]
     },
     "execution_count": 24,
     "metadata": {},
     "output_type": "execute_result"
    }
   ],
   "source": [
    "d6"
   ]
  },
  {
   "cell_type": "code",
   "execution_count": 25,
   "id": "1fd56362-9a11-437d-8392-d790e7fe5e9c",
   "metadata": {},
   "outputs": [],
   "source": [
    "del d6['number']"
   ]
  },
  {
   "cell_type": "code",
   "execution_count": 26,
   "id": "21db8958-fd53-4e97-8d46-69b935ca218a",
   "metadata": {},
   "outputs": [
    {
     "data": {
      "text/plain": [
       "{'assignment': (1, 2, 3, 4, 5, 6),\n",
       " 'launch_date': {12, 14, 28},\n",
       " 'class_time': {'web_dev': 8, 'data science': 12, 'java with dsa': 7},\n",
       " 'mentor': ['sudhanshu', 'krish', 'anurag', 'hayder']}"
      ]
     },
     "execution_count": 26,
     "metadata": {},
     "output_type": "execute_result"
    }
   ],
   "source": [
    "d6"
   ]
  },
  {
   "cell_type": "code",
   "execution_count": 27,
   "id": "80526a3b-4501-4f4f-9c78-1e542bb8c364",
   "metadata": {},
   "outputs": [
    {
     "data": {
      "text/plain": [
       "dict_keys(['assignment', 'launch_date', 'class_time', 'mentor'])"
      ]
     },
     "execution_count": 27,
     "metadata": {},
     "output_type": "execute_result"
    }
   ],
   "source": [
    "d6.keys()"
   ]
  },
  {
   "cell_type": "code",
   "execution_count": 28,
   "id": "e6e6b0de-431f-42cb-8678-d184a2a3359b",
   "metadata": {},
   "outputs": [
    {
     "data": {
      "text/plain": [
       "dict_values([(1, 2, 3, 4, 5, 6), {28, 12, 14}, {'web_dev': 8, 'data science': 12, 'java with dsa': 7}, ['sudhanshu', 'krish', 'anurag', 'hayder']])"
      ]
     },
     "execution_count": 28,
     "metadata": {},
     "output_type": "execute_result"
    }
   ],
   "source": [
    "d6.values()"
   ]
  },
  {
   "cell_type": "code",
   "execution_count": 29,
   "id": "019bc916-ff56-4ed3-8f60-929620385a67",
   "metadata": {},
   "outputs": [
    {
     "data": {
      "text/plain": [
       "[('assignment', (1, 2, 3, 4, 5, 6)),\n",
       " ('launch_date', {12, 14, 28}),\n",
       " ('class_time', {'web_dev': 8, 'data science': 12, 'java with dsa': 7}),\n",
       " ('mentor', ['sudhanshu', 'krish', 'anurag', 'hayder'])]"
      ]
     },
     "execution_count": 29,
     "metadata": {},
     "output_type": "execute_result"
    }
   ],
   "source": [
    "list(d6.items())"
   ]
  },
  {
   "cell_type": "code",
   "execution_count": 30,
   "id": "96171d8d-cf0d-41bf-9028-2a4c79addb5d",
   "metadata": {},
   "outputs": [
    {
     "data": {
      "text/plain": [
       "{12, 14, 28}"
      ]
     },
     "execution_count": 30,
     "metadata": {},
     "output_type": "execute_result"
    }
   ],
   "source": [
    "d6.pop('launch_date')"
   ]
  },
  {
   "cell_type": "code",
   "execution_count": 31,
   "id": "8e9c3f6c-05c1-4bfd-9be5-92eb9c637f85",
   "metadata": {},
   "outputs": [
    {
     "data": {
      "text/plain": [
       "{'assignment': (1, 2, 3, 4, 5, 6),\n",
       " 'class_time': {'web_dev': 8, 'data science': 12, 'java with dsa': 7},\n",
       " 'mentor': ['sudhanshu', 'krish', 'anurag', 'hayder']}"
      ]
     },
     "execution_count": 31,
     "metadata": {},
     "output_type": "execute_result"
    }
   ],
   "source": [
    "d6"
   ]
  },
  {
   "cell_type": "markdown",
   "id": "e1e63a6c-88a8-496f-a1b4-f2eb4b73f4c8",
   "metadata": {},
   "source": [
    "# Control Flow"
   ]
  },
  {
   "cell_type": "markdown",
   "id": "d52d1e52-3674-4c00-a258-4af17bc66836",
   "metadata": {},
   "source": [
    "## Important contrl Flow \n",
    "### 1.If\n",
    "### 2.While\n",
    "### 3.For"
   ]
  },
  {
   "cell_type": "code",
   "execution_count": 8,
   "id": "36d4de4c-6df6-4a85-8212-51f23d8ca88d",
   "metadata": {},
   "outputs": [
    {
     "name": "stdout",
     "output_type": "stream",
     "text": [
      "You will be a part of A-1 Batch\n"
     ]
    }
   ],
   "source": [
    "mark=60\n",
    "if mark>=80:\n",
    "    print('You will be a paer of A-0 Batch')\n",
    "elif mark>=60 and mark<80:\n",
    "    print('You will be a part of A-1 Batch')\n",
    "elif mark>=40 and mark<60:\n",
    "          print('You will be part of A-2 Batch')\n",
    "else:\n",
    "    print('You will be a part of A-3 Batch')"
   ]
  },
  {
   "cell_type": "code",
   "execution_count": 7,
   "id": "fe9236ef-9ecd-4cbb-ab36-136a0bea140e",
   "metadata": {},
   "outputs": [
    {
     "name": "stdin",
     "output_type": "stream",
     "text": [
      "Enter your Mark 40\n"
     ]
    },
    {
     "name": "stdout",
     "output_type": "stream",
     "text": [
      "You will be part of A-2 Batch\n"
     ]
    }
   ],
   "source": [
    "mark=int(input(\"Enter your Mark\"))\n",
    "if mark>=80:\n",
    "    print('You will be a paer of A-0 Batch')\n",
    "elif mark>=60 and mark<80:\n",
    "    print('You will be a part of A-1 Batch')\n",
    "elif mark>=40 and mark<60:\n",
    "          print('You will be part of A-2 Batch')\n",
    "else:\n",
    "    print('You will be a part of A-3 Batch')"
   ]
  },
  {
   "cell_type": "code",
   "execution_count": 9,
   "id": "f31c4420-a023-420d-92ee-124e90789af1",
   "metadata": {},
   "outputs": [
    {
     "name": "stdin",
     "output_type": "stream",
     "text": [
      "ZEnter You Name gautrad\n"
     ]
    }
   ],
   "source": [
    "marks=input(\"ZEnter You Name\")"
   ]
  },
  {
   "cell_type": "code",
   "execution_count": 10,
   "id": "a53b25cc-bc39-4b6a-bae5-84830d4aa62a",
   "metadata": {},
   "outputs": [
    {
     "data": {
      "text/plain": [
       "str"
      ]
     },
     "execution_count": 10,
     "metadata": {},
     "output_type": "execute_result"
    }
   ],
   "source": [
    "type(marks)"
   ]
  },
  {
   "cell_type": "code",
   "execution_count": 11,
   "id": "3493f50c-b911-49d0-ae79-4ea0cb3b90f4",
   "metadata": {},
   "outputs": [
    {
     "name": "stdin",
     "output_type": "stream",
     "text": [
      "Enter Number 12\n"
     ]
    }
   ],
   "source": [
    "marks=float(input(\"Enter Number\"))"
   ]
  },
  {
   "cell_type": "code",
   "execution_count": 12,
   "id": "b4db6bb1-af27-4612-bcd4-3d697e66db65",
   "metadata": {},
   "outputs": [
    {
     "name": "stdin",
     "output_type": "stream",
     "text": [
      "Enter Price : 500\n"
     ]
    },
    {
     "name": "stdout",
     "output_type": "stream",
     "text": [
      "I will purchase\n"
     ]
    }
   ],
   "source": [
    "price=int(input(\"Enter Price :\"))\n",
    "if price  >1000:\n",
    "    print(\"I will not purchase\")\n",
    "else:\n",
    "    print(\"I will purchase\")"
   ]
  },
  {
   "cell_type": "code",
   "execution_count": 14,
   "id": "398606a5-bceb-4230-8a80-9c8bb0a9f80f",
   "metadata": {},
   "outputs": [
    {
     "name": "stdin",
     "output_type": "stream",
     "text": [
      "Enter Price : 5000\n"
     ]
    },
    {
     "name": "stdout",
     "output_type": "stream",
     "text": [
      "I will not purchase\n"
     ]
    }
   ],
   "source": [
    "price=int(input(\"Enter Price :\"))\n",
    "if price  >1000:\n",
    "    print(\"I will not purchase\")"
   ]
  },
  {
   "cell_type": "code",
   "execution_count": 16,
   "id": "e5d36b50-2779-4dab-8a4a-df07748bc114",
   "metadata": {},
   "outputs": [
    {
     "name": "stdin",
     "output_type": "stream",
     "text": [
      "Enter Price : 799\n"
     ]
    },
    {
     "name": "stdout",
     "output_type": "stream",
     "text": [
      "I will purchase\n"
     ]
    }
   ],
   "source": [
    "price=int(input(\"Enter Price :\"))\n",
    "if price  >1000:\n",
    "    print(\"I will not purchase\")\n",
    "    if price>5000:\n",
    "        print(\"This is too much\")\n",
    "    elif price<2000:\n",
    "        print(\"Its Ok\")\n",
    "elif price <1000:\n",
    "    print(\"I will purchase\")\n",
    "else:\n",
    "    print(\"Not interseted\")\n",
    "        \n"
   ]
  },
  {
   "cell_type": "code",
   "execution_count": 1,
   "id": "908fdc26-7659-4ca9-b580-a15ee538e67d",
   "metadata": {},
   "outputs": [],
   "source": [
    "l=[1,2,3,3,4,5,6,7,8]"
   ]
  },
  {
   "cell_type": "code",
   "execution_count": 5,
   "id": "6e678dc1-bb89-4be7-9aa1-dd650edb7e25",
   "metadata": {},
   "outputs": [
    {
     "name": "stdout",
     "output_type": "stream",
     "text": [
      "2\n",
      "3\n",
      "4\n",
      "4\n",
      "5\n",
      "6\n",
      "7\n",
      "8\n",
      "9\n"
     ]
    },
    {
     "data": {
      "text/plain": [
       "[2, 3, 4, 4, 5, 6, 7, 8, 9]"
      ]
     },
     "execution_count": 5,
     "metadata": {},
     "output_type": "execute_result"
    }
   ],
   "source": [
    "l1=[]\n",
    "for i in l:\n",
    "    print(i+1)\n",
    "    l1.append(i+1)\n",
    "l1"
   ]
  },
  {
   "cell_type": "code",
   "execution_count": 9,
   "id": "c6b71cec-8bc4-47b0-870a-bd2407ceec7f",
   "metadata": {},
   "outputs": [
    {
     "name": "stdout",
     "output_type": "stream",
     "text": [
      "gaurav\n",
      "singh\n",
      "pwskisll\n",
      "course\n"
     ]
    }
   ],
   "source": [
    "l=[\"gaurav\",\"singh\",\"pwskisll\",\"course\"]\n",
    "l1=[]\n",
    "for i in l:\n",
    "    print(i)\n",
    "    l1.append(i.upper())"
   ]
  },
  {
   "cell_type": "code",
   "execution_count": 10,
   "id": "5dcc4387-181e-4cc0-b9bb-59cc8a801198",
   "metadata": {},
   "outputs": [
    {
     "data": {
      "text/plain": [
       "['GAURAV', 'SINGH', 'PWSKISLL', 'COURSE']"
      ]
     },
     "execution_count": 10,
     "metadata": {},
     "output_type": "execute_result"
    }
   ],
   "source": [
    "l1"
   ]
  },
  {
   "cell_type": "code",
   "execution_count": 11,
   "id": "243317ac-8772-4d95-88a9-78af486dca58",
   "metadata": {},
   "outputs": [],
   "source": [
    "l=[1,2,3,4,5,'gaurav','singh',324,34.56,'abc']"
   ]
  },
  {
   "cell_type": "code",
   "execution_count": 22,
   "id": "8beb1823-11b3-4722-8e5c-d426a6226895",
   "metadata": {},
   "outputs": [],
   "source": [
    "l1_numeric=[]\n",
    "l2_str=[]\n",
    "for i in l:\n",
    "    if type(i)==int or type(i)==float:\n",
    "        l1_numeric.append(i)\n",
    "else:\n",
    "    l2_str.append(i)"
   ]
  },
  {
   "cell_type": "code",
   "execution_count": 25,
   "id": "e8a51cdc-df48-4582-9f10-52ee8c6a45ff",
   "metadata": {},
   "outputs": [
    {
     "data": {
      "text/plain": [
       "[1, 2, 3, 4, 5, 324, 34.56]"
      ]
     },
     "execution_count": 25,
     "metadata": {},
     "output_type": "execute_result"
    }
   ],
   "source": [
    "l1_numeric"
   ]
  },
  {
   "cell_type": "code",
   "execution_count": 26,
   "id": "e262a06b-22df-4655-849e-c900b7288697",
   "metadata": {},
   "outputs": [
    {
     "data": {
      "text/plain": [
       "['abc']"
      ]
     },
     "execution_count": 26,
     "metadata": {},
     "output_type": "execute_result"
    }
   ],
   "source": [
    "l2_str"
   ]
  },
  {
   "cell_type": "code",
   "execution_count": null,
   "id": "e5910309-4a09-47ca-b7c4-5900e83b5746",
   "metadata": {},
   "outputs": [],
   "source": []
  },
  {
   "cell_type": "code",
   "execution_count": null,
   "id": "e42067c8-ff22-4475-89d2-dd44a2d99581",
   "metadata": {},
   "outputs": [],
   "source": []
  },
  {
   "cell_type": "code",
   "execution_count": null,
   "id": "56f0cda9-40fe-4722-a4cd-e327a32250fd",
   "metadata": {},
   "outputs": [],
   "source": []
  },
  {
   "cell_type": "code",
   "execution_count": null,
   "id": "cb6516b7-d6f8-4f07-96eb-040b75726bbc",
   "metadata": {},
   "outputs": [],
   "source": []
  },
  {
   "cell_type": "code",
   "execution_count": null,
   "id": "415dc99a-f3bd-4f54-ae28-8a127d8c5a37",
   "metadata": {},
   "outputs": [],
   "source": []
  },
  {
   "cell_type": "code",
   "execution_count": null,
   "id": "538bde01-cf84-40a6-b98d-2360b571d8ce",
   "metadata": {},
   "outputs": [],
   "source": []
  }
 ],
 "metadata": {
  "kernelspec": {
   "display_name": "Python 3 (ipykernel)",
   "language": "python",
   "name": "python3"
  },
  "language_info": {
   "codemirror_mode": {
    "name": "ipython",
    "version": 3
   },
   "file_extension": ".py",
   "mimetype": "text/x-python",
   "name": "python",
   "nbconvert_exporter": "python",
   "pygments_lexer": "ipython3",
   "version": "3.10.8"
  }
 },
 "nbformat": 4,
 "nbformat_minor": 5
}
