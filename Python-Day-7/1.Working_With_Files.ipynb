{
 "cells": [
  {
   "cell_type": "markdown",
   "id": "2828f80e-5038-4e4e-8091-87f1ff798aa0",
   "metadata": {},
   "source": [
    "# File open in Write mode"
   ]
  },
  {
   "cell_type": "code",
   "execution_count": 18,
   "id": "9f7908cb-949b-4185-b705-421e2c7998f1",
   "metadata": {},
   "outputs": [],
   "source": [
    "f=open(\"test.txt\",'w')"
   ]
  },
  {
   "cell_type": "markdown",
   "id": "daf2f4a7-b14e-45ac-86ae-73531702c81d",
   "metadata": {},
   "source": [
    "# Present work Directory"
   ]
  },
  {
   "cell_type": "code",
   "execution_count": 19,
   "id": "453e8297-50fb-4fc3-9c5f-2fede1f64f02",
   "metadata": {},
   "outputs": [
    {
     "data": {
      "text/plain": [
       "'/home/jovyan/work/Python-Day_7'"
      ]
     },
     "execution_count": 19,
     "metadata": {},
     "output_type": "execute_result"
    }
   ],
   "source": [
    "pwd"
   ]
  },
  {
   "cell_type": "code",
   "execution_count": 20,
   "id": "ddedecc8-a3f7-4b1b-bf6c-bfa77d22f5bf",
   "metadata": {},
   "outputs": [
    {
     "name": "stdout",
     "output_type": "stream",
     "text": [
      " test.txt  'Working With Files.ipynb'\n"
     ]
    }
   ],
   "source": [
    "ls"
   ]
  },
  {
   "cell_type": "code",
   "execution_count": 21,
   "id": "7dd5f8a3-d168-4d12-9ab0-500152cac7b7",
   "metadata": {},
   "outputs": [
    {
     "name": "stdout",
     "output_type": "stream",
     "text": [
      " test.txt  'Working With Files.ipynb'\n"
     ]
    }
   ],
   "source": [
    "ls"
   ]
  },
  {
   "cell_type": "markdown",
   "id": "91518138-0a8e-4def-8288-c42ccb8e5c8e",
   "metadata": {},
   "source": [
    "# Change Directory "
   ]
  },
  {
   "cell_type": "code",
   "execution_count": 22,
   "id": "09d9268d-ca06-4702-8383-e7f78507aaea",
   "metadata": {},
   "outputs": [
    {
     "name": "stdout",
     "output_type": "stream",
     "text": [
      "[Errno 2] No such file or directory: 'work'\n",
      "/home/jovyan/work/Python-Day_7\n"
     ]
    }
   ],
   "source": [
    "cd work"
   ]
  },
  {
   "cell_type": "code",
   "execution_count": 23,
   "id": "7652bebd-4028-4fdc-81f2-613e8b1018f0",
   "metadata": {},
   "outputs": [
    {
     "name": "stdout",
     "output_type": "stream",
     "text": [
      " test.txt  'Working With Files.ipynb'\n"
     ]
    }
   ],
   "source": [
    "ls"
   ]
  },
  {
   "cell_type": "markdown",
   "id": "27835ee1-87d2-4f90-86b5-c878f67adb6b",
   "metadata": {},
   "source": [
    "# Write something in test"
   ]
  },
  {
   "cell_type": "code",
   "execution_count": 24,
   "id": "7d3eecaa-1e9b-4f62-90f9-e2e16ca775b1",
   "metadata": {},
   "outputs": [
    {
     "data": {
      "text/plain": [
       "30"
      ]
     },
     "execution_count": 24,
     "metadata": {},
     "output_type": "execute_result"
    }
   ],
   "source": [
    "f.write(\"THis is my first file to write\")"
   ]
  },
  {
   "cell_type": "code",
   "execution_count": 25,
   "id": "0ffdb216-d876-4b6b-b215-ce9c86aaa0fe",
   "metadata": {},
   "outputs": [],
   "source": [
    "f.close()"
   ]
  },
  {
   "cell_type": "markdown",
   "id": "a92750c0-6532-4598-909d-c7dd836a1583",
   "metadata": {},
   "source": [
    "# File open in Write Mode"
   ]
  },
  {
   "cell_type": "code",
   "execution_count": 26,
   "id": "578a4fb1-085c-441d-acb2-f07068ebe680",
   "metadata": {},
   "outputs": [],
   "source": [
    "f=open(\"test.txt\",'w')"
   ]
  },
  {
   "cell_type": "code",
   "execution_count": 27,
   "id": "feeb65f7-a596-441f-8066-cbea97b7d4cf",
   "metadata": {},
   "outputs": [
    {
     "data": {
      "text/plain": [
       "15"
      ]
     },
     "execution_count": 27,
     "metadata": {},
     "output_type": "execute_result"
    }
   ],
   "source": [
    "f.write(\"This is my file\")"
   ]
  },
  {
   "cell_type": "code",
   "execution_count": 28,
   "id": "e9a40c12-e2e5-45c5-8652-1b34f4716f65",
   "metadata": {},
   "outputs": [],
   "source": [
    "f.close()"
   ]
  },
  {
   "cell_type": "markdown",
   "id": "b8047ac4-e27d-43f9-a3fa-a01efb6ce3d1",
   "metadata": {},
   "source": [
    "# File open in Append Mode"
   ]
  },
  {
   "cell_type": "code",
   "execution_count": 36,
   "id": "275bc889-955c-4afb-b010-ce33e28b4f49",
   "metadata": {},
   "outputs": [],
   "source": [
    "f=open(\"test.txt\",'a')"
   ]
  },
  {
   "cell_type": "code",
   "execution_count": 37,
   "id": "5ff2f5b6-f519-4c58-86a7-a52f3db064bd",
   "metadata": {},
   "outputs": [
    {
     "data": {
      "text/plain": [
       "765"
      ]
     },
     "execution_count": 37,
     "metadata": {},
     "output_type": "execute_result"
    }
   ],
   "source": [
    "f.write(\"Data Science Masters course is highly curated and uniquely designed according to the latest industry standards. This program instills students the skills essential to knowledge discovery efforts to identify standard, novel, and truly differentiated solutions and decision-making, including skills in managing, querying, analyzing, visualizing, and extracting meaning from extremely large data sets. This trending program provides students with the statistical, mathematical and computational skills needed to meet the large-scale data science challenges of today's professional world. You will learn all the stack required to work in data science industry including cloud infrastructure and real-time industry projects. This course will be taught in Hindi language.\")"
   ]
  },
  {
   "cell_type": "code",
   "execution_count": 38,
   "id": "684cee2b-b049-4e26-bca7-2169d65ca08e",
   "metadata": {},
   "outputs": [],
   "source": [
    "f.close()"
   ]
  },
  {
   "cell_type": "markdown",
   "id": "bcd13719-36bc-4b91-868d-c8397ca8fea8",
   "metadata": {},
   "source": [
    "# File open in read mode"
   ]
  },
  {
   "cell_type": "code",
   "execution_count": 43,
   "id": "0b250a30-1d8f-4ee1-ba27-647078b308ba",
   "metadata": {},
   "outputs": [],
   "source": [
    "data=open(\"test.txt\",'r')"
   ]
  },
  {
   "cell_type": "code",
   "execution_count": 44,
   "id": "21a9917d-df79-4e8b-a83b-ded7e251dc47",
   "metadata": {},
   "outputs": [
    {
     "data": {
      "text/plain": [
       "\"This is my fileGauyra shissdssbhgsnbnddhgscbshhgcnncmhganshhgdcmnmsbcmhvxmdchvbgsmdcmjhhjgchjkbData Science Masters course is highly curated and uniquely designed according to the latest industry standards. This program instills students the skills essential to knowledge discovery efforts to identify standard, novel, and truly differentiated solutions and decision-making, including skills in managing, querying, analyzing, visualizing, and extracting meaning from extremely large data sets. This trending program provides students with the statistical, mathematical and computational skills needed to meet the large-scale data science challenges of today's professional world. You will learn all the stack required to work in data science industry including cloud infrastructure and real-time industry projects. This course will be taught in Hindi language.\""
      ]
     },
     "execution_count": 44,
     "metadata": {},
     "output_type": "execute_result"
    }
   ],
   "source": [
    "data.read()"
   ]
  },
  {
   "cell_type": "code",
   "execution_count": 45,
   "id": "7040e951-b6d2-4a4c-a704-127756c603f7",
   "metadata": {},
   "outputs": [
    {
     "data": {
      "text/plain": [
       "<_io.TextIOWrapper name='test.txt' mode='r' encoding='UTF-8'>"
      ]
     },
     "execution_count": 45,
     "metadata": {},
     "output_type": "execute_result"
    }
   ],
   "source": [
    "data"
   ]
  },
  {
   "cell_type": "markdown",
   "id": "2c84f4e9-a96d-4013-9906-46565c30b459",
   "metadata": {},
   "source": [
    "# Read file line by line"
   ]
  },
  {
   "cell_type": "code",
   "execution_count": 48,
   "id": "94ce82ec-797f-48c2-a730-d3d8ebc755d9",
   "metadata": {},
   "outputs": [
    {
     "data": {
      "text/plain": [
       "\"This is my fileGauyra shissdssbhgsnbnddhgscbshhgcnncmhganshhgdcmnmsbcmhvxmdchvbgsmdcmjhhjgchjkbData Science Masters course is highly curated and uniquely designed according to the latest industry standards. This program instills students the skills essential to knowledge discovery efforts to identify standard, novel, and truly differentiated solutions and decision-making, including skills in managing, querying, analyzing, visualizing, and extracting meaning from extremely large data sets. This trending program provides students with the statistical, mathematical and computational skills needed to meet the large-scale data science challenges of today's professional world. You will learn all the stack required to work in data science industry including cloud infrastructure and real-time industry projects. This course will be taught in Hindi language.\""
      ]
     },
     "execution_count": 48,
     "metadata": {},
     "output_type": "execute_result"
    }
   ],
   "source": [
    "data.readline()"
   ]
  },
  {
   "cell_type": "code",
   "execution_count": 47,
   "id": "f51ccdfe-907b-42de-b538-b75fbd8199d8",
   "metadata": {},
   "outputs": [
    {
     "data": {
      "text/plain": [
       "0"
      ]
     },
     "execution_count": 47,
     "metadata": {},
     "output_type": "execute_result"
    }
   ],
   "source": [
    "data.seek(0)"
   ]
  },
  {
   "cell_type": "code",
   "execution_count": 49,
   "id": "1e07d5bb-6e55-437a-a01b-1c415d281e3c",
   "metadata": {},
   "outputs": [],
   "source": [
    "data1=open(\"test.txt\",'r')"
   ]
  },
  {
   "cell_type": "code",
   "execution_count": 50,
   "id": "7731201b-96fe-4f0c-bb1f-7f0700d48e5d",
   "metadata": {},
   "outputs": [
    {
     "name": "stdout",
     "output_type": "stream",
     "text": [
      "This is my fileGauyra shissdssbhgsnbnddhgscbshhgcnncmhganshhgdcmnmsbcmhvxmdchvbgsmdcmjhhjgchjkbData Science Masters course is highly curated and uniquely designed according to the latest industry standards. This program instills students the skills essential to knowledge discovery efforts to identify standard, novel, and truly differentiated solutions and decision-making, including skills in managing, querying, analyzing, visualizing, and extracting meaning from extremely large data sets. This trending program provides students with the statistical, mathematical and computational skills needed to meet the large-scale data science challenges of today's professional world. You will learn all the stack required to work in data science industry including cloud infrastructure and real-time industry projects. This course will be taught in Hindi language.\n"
     ]
    }
   ],
   "source": [
    "for i in data1:\n",
    "    print(i)"
   ]
  },
  {
   "cell_type": "markdown",
   "id": "085effc2-04c1-4645-99bf-ab52e165aecc",
   "metadata": {},
   "source": [
    "# Get Size Of File"
   ]
  },
  {
   "cell_type": "code",
   "execution_count": 51,
   "id": "46db5846-89ef-484c-9cd0-15f0a2e8a8fa",
   "metadata": {},
   "outputs": [],
   "source": [
    "import os"
   ]
  },
  {
   "cell_type": "code",
   "execution_count": 52,
   "id": "db8f9813-94c0-42c6-b90c-20176c16d5de",
   "metadata": {},
   "outputs": [
    {
     "data": {
      "text/plain": [
       "860"
      ]
     },
     "execution_count": 52,
     "metadata": {},
     "output_type": "execute_result"
    }
   ],
   "source": [
    "os.path.getsize(\"test.txt\")"
   ]
  },
  {
   "cell_type": "code",
   "execution_count": 54,
   "id": "2d105c08-cedf-4e64-81bc-fa7ab559d009",
   "metadata": {},
   "outputs": [],
   "source": [
    "f=open(\"test1.txt\",\"w\")"
   ]
  },
  {
   "cell_type": "code",
   "execution_count": 55,
   "id": "a9a47a5d-a8ee-44b3-aa06-423a52da6b8e",
   "metadata": {},
   "outputs": [
    {
     "data": {
      "text/plain": [
       "765"
      ]
     },
     "execution_count": 55,
     "metadata": {},
     "output_type": "execute_result"
    }
   ],
   "source": [
    "f.write(\"Data Science Masters course is highly curated and uniquely designed according to the latest industry standards. This program instills students the skills essential to knowledge discovery efforts to identify standard, novel, and truly differentiated solutions and decision-making, including skills in managing, querying, analyzing, visualizing, and extracting meaning from extremely large data sets. This trending program provides students with the statistical, mathematical and computational skills needed to meet the large-scale data science challenges of today's professional world. You will learn all the stack required to work in data science industry including cloud infrastructure and real-time industry projects. This course will be taught in Hindi language.\")"
   ]
  },
  {
   "cell_type": "code",
   "execution_count": 56,
   "id": "dc6722ce-5433-4f22-b534-2710b3a736da",
   "metadata": {},
   "outputs": [],
   "source": [
    "f.close()"
   ]
  },
  {
   "cell_type": "code",
   "execution_count": 57,
   "id": "511f1384-0186-462a-8ec0-26da1a2678c6",
   "metadata": {},
   "outputs": [],
   "source": [
    "os.rename(\"test1.txt\",\"New_test.txt\")"
   ]
  },
  {
   "cell_type": "markdown",
   "id": "810fb86a-56c9-4abc-91d0-5e6079138cd7",
   "metadata": {},
   "source": [
    "# Create copy or multiple copy"
   ]
  },
  {
   "cell_type": "code",
   "execution_count": 58,
   "id": "8e6894f6-1e7d-4dd2-8ad8-c1d7c67a6bcc",
   "metadata": {},
   "outputs": [],
   "source": [
    "import shutil"
   ]
  },
  {
   "cell_type": "code",
   "execution_count": 59,
   "id": "a5aa2773-bf64-4654-8258-fc95348c57aa",
   "metadata": {},
   "outputs": [
    {
     "data": {
      "text/plain": [
       "'Cope_New.txt'"
      ]
     },
     "execution_count": 59,
     "metadata": {},
     "output_type": "execute_result"
    }
   ],
   "source": [
    "shutil.copy(\"New_test.txt\",\"Cope_New.txt\")"
   ]
  },
  {
   "cell_type": "markdown",
   "id": "78e17807-b623-4c37-b9ed-db7475c5b936",
   "metadata": {},
   "source": [
    "# Another method"
   ]
  },
  {
   "cell_type": "code",
   "execution_count": 62,
   "id": "1f80cfee-b5c9-4ada-886b-8d17ee2b1ce2",
   "metadata": {},
   "outputs": [
    {
     "name": "stdout",
     "output_type": "stream",
     "text": [
      "Data Science Masters course is highly curated and uniquely designed according to the latest industry standards. This program instills students the skills essential to knowledge discovery efforts to identify standard, novel, and truly differentiated solutions and decision-making, including skills in managing, querying, analyzing, visualizing, and extracting meaning from extremely large data sets. This trending program provides students with the statistical, mathematical and computational skills needed to meet the large-scale data science challenges of today's professional world. You will learn all the stack required to work in data science industry including cloud infrastructure and real-time industry projects. This course will be taught in Hindi language.\n"
     ]
    }
   ],
   "source": [
    "with open(\"New_test.txt\",\"r\") as f:\n",
    "    print(f.read())"
   ]
  },
  {
   "cell_type": "code",
   "execution_count": null,
   "id": "cafbef04-cafd-4b06-ac03-415afdf2e748",
   "metadata": {},
   "outputs": [],
   "source": []
  }
 ],
 "metadata": {
  "kernelspec": {
   "display_name": "Python 3 (ipykernel)",
   "language": "python",
   "name": "python3"
  },
  "language_info": {
   "codemirror_mode": {
    "name": "ipython",
    "version": 3
   },
   "file_extension": ".py",
   "mimetype": "text/x-python",
   "name": "python",
   "nbconvert_exporter": "python",
   "pygments_lexer": "ipython3",
   "version": "3.10.8"
  }
 },
 "nbformat": 4,
 "nbformat_minor": 5
}
