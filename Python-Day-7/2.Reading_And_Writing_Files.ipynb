{
 "cells": [
  {
   "cell_type": "markdown",
   "id": "af31f913-e45e-440a-8a61-d59d3743b8c0",
   "metadata": {},
   "source": [
    "# JSON"
   ]
  },
  {
   "cell_type": "code",
   "execution_count": 1,
   "id": "4d687d98-b565-4d73-853e-f7f5d3e18fc0",
   "metadata": {},
   "outputs": [],
   "source": [
    "data={\n",
    "    \"Name\" : \"Gaurav\",\n",
    "    \"mail_id\" : \"Gaurav@gmail.com\",\n",
    "    \"phone number\" : 7800234457,\n",
    "    \"subject\" : [\"data science\",\"big data\",\"data analytic\"]\n",
    "\n",
    "}"
   ]
  },
  {
   "cell_type": "code",
   "execution_count": 2,
   "id": "e53e407c-bde0-470e-80c6-4daf3ed572b1",
   "metadata": {},
   "outputs": [],
   "source": [
    "import json"
   ]
  },
  {
   "cell_type": "code",
   "execution_count": 3,
   "id": "07297330-cf03-4563-aea9-5c48d70f6b5d",
   "metadata": {},
   "outputs": [],
   "source": [
    "with open(\"data.json\",\"w\") as f:\n",
    "    json.dump(data,f)"
   ]
  },
  {
   "cell_type": "code",
   "execution_count": 4,
   "id": "73ef75d3-00e2-4215-b12c-5e2cec128516",
   "metadata": {},
   "outputs": [],
   "source": [
    "with open(\"data.json\",\"r\") as f:\n",
    "    data1=json.load(f)"
   ]
  },
  {
   "cell_type": "code",
   "execution_count": 5,
   "id": "597e01e8-8053-45f3-93b8-a1293a31663e",
   "metadata": {},
   "outputs": [
    {
     "data": {
      "text/plain": [
       "{'Name': 'Gaurav',\n",
       " 'mail_id': 'Gaurav@gmail.com',\n",
       " 'phone number': 7800234457,\n",
       " 'subject': ['data science', 'big data', 'data analytic']}"
      ]
     },
     "execution_count": 5,
     "metadata": {},
     "output_type": "execute_result"
    }
   ],
   "source": [
    "data1"
   ]
  },
  {
   "cell_type": "code",
   "execution_count": 6,
   "id": "dd096509-65ff-4cc8-be76-bcef2a817958",
   "metadata": {},
   "outputs": [
    {
     "data": {
      "text/plain": [
       "'big data'"
      ]
     },
     "execution_count": 6,
     "metadata": {},
     "output_type": "execute_result"
    }
   ],
   "source": [
    "data1['subject'][1]"
   ]
  },
  {
   "cell_type": "markdown",
   "id": "6ccca74d-4c98-436f-ae91-8b2e1c58604c",
   "metadata": {},
   "source": [
    "# Comma separated Value(CSv)"
   ]
  },
  {
   "cell_type": "code",
   "execution_count": 8,
   "id": "bd040e42-ccbd-467f-81c6-e842c59d877d",
   "metadata": {},
   "outputs": [],
   "source": [
    "import csv"
   ]
  },
  {
   "cell_type": "code",
   "execution_count": 9,
   "id": "eb74d8cb-4d3d-4d2f-b226-d95786cc9284",
   "metadata": {},
   "outputs": [],
   "source": [
    "data=[[\"name\",\"email_id\",\"phone_number\"],\n",
    "      [\"Gaurav\",\"Gaurav@gmail.com\",78003232432],\n",
    "      [\"Mannu\",\"Mannu@gmail.com\",96757463743]\n",
    "]"
   ]
  },
  {
   "cell_type": "code",
   "execution_count": 11,
   "id": "dd65de06-f8ec-413b-8e68-ac36555bf85b",
   "metadata": {},
   "outputs": [],
   "source": [
    "with open(\"data.csv\",\"w\") as f :\n",
    "    writer=csv.writer(f)\n",
    "    \n",
    "    for i in data :\n",
    "        writer.writerow(i)"
   ]
  },
  {
   "cell_type": "code",
   "execution_count": 12,
   "id": "5c33a7e1-44b7-49e5-8eee-191a554437aa",
   "metadata": {},
   "outputs": [
    {
     "name": "stdout",
     "output_type": "stream",
     "text": [
      "['name', 'email_id', 'phone_number']\n",
      "['Gaurav', 'Gaurav@gmail.com', '78003232432']\n",
      "['Mannu', 'Mannu@gmail.com', '96757463743']\n"
     ]
    }
   ],
   "source": [
    "with open(\"data.csv\",\"r\") as f :\n",
    "    read_data=csv.reader(f)\n",
    "    \n",
    "    for i in read_data :\n",
    "        print(i)"
   ]
  },
  {
   "cell_type": "markdown",
   "id": "21c570a8-b7ac-4645-8210-3deaa2a32212",
   "metadata": {},
   "source": [
    "# Binary Data(Image,Vedio)"
   ]
  },
  {
   "cell_type": "code",
   "execution_count": 16,
   "id": "478e0155-ece7-4691-bfd4-0deed19244ea",
   "metadata": {},
   "outputs": [],
   "source": [
    "with open(\"test4.bin\",\"wb\") as f :\n",
    "    f.write(b\"\\x01\\x02\\x03\\x23456677\")"
   ]
  },
  {
   "cell_type": "code",
   "execution_count": 17,
   "id": "4cfb07e9-d11a-4c81-b7d2-0ee83c1c7941",
   "metadata": {},
   "outputs": [
    {
     "name": "stdout",
     "output_type": "stream",
     "text": [
      "b'\\x01\\x02\\x03#456677'\n"
     ]
    }
   ],
   "source": [
    "with open(\"test4.bin\",\"rb\") as f :\n",
    "    print(f.read())"
   ]
  },
  {
   "cell_type": "code",
   "execution_count": null,
   "id": "508a0b6d-2a4e-4566-9dad-ca014e56f85e",
   "metadata": {},
   "outputs": [],
   "source": []
  }
 ],
 "metadata": {
  "kernelspec": {
   "display_name": "Python 3 (ipykernel)",
   "language": "python",
   "name": "python3"
  },
  "language_info": {
   "codemirror_mode": {
    "name": "ipython",
    "version": 3
   },
   "file_extension": ".py",
   "mimetype": "text/x-python",
   "name": "python",
   "nbconvert_exporter": "python",
   "pygments_lexer": "ipython3",
   "version": "3.10.8"
  }
 },
 "nbformat": 4,
 "nbformat_minor": 5
}
