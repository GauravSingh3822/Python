{
 "cells": [
  {
   "cell_type": "markdown",
   "id": "a90b5dda-9cd5-4b24-a751-fa6d8d522a4d",
   "metadata": {},
   "source": [
    " # Arthimetic Operator"
   ]
  },
  {
   "cell_type": "code",
   "execution_count": 1,
   "id": "17315fa8-28c2-40ba-b8ff-6bf94c389415",
   "metadata": {},
   "outputs": [
    {
     "data": {
      "text/plain": [
       "3"
      ]
     },
     "execution_count": 1,
     "metadata": {},
     "output_type": "execute_result"
    }
   ],
   "source": [
    "1+2 ## Addition Operator"
   ]
  },
  {
   "cell_type": "code",
   "execution_count": 2,
   "id": "5d774517-3b2a-43a4-9a55-9e2208ac17d4",
   "metadata": {},
   "outputs": [
    {
     "data": {
      "text/plain": [
       "-1"
      ]
     },
     "execution_count": 2,
     "metadata": {},
     "output_type": "execute_result"
    }
   ],
   "source": [
    "1-2 ## Substraction Operator"
   ]
  },
  {
   "cell_type": "code",
   "execution_count": 3,
   "id": "593eefc1-6518-46b5-b6db-f65e25aba220",
   "metadata": {},
   "outputs": [
    {
     "data": {
      "text/plain": [
       "6"
      ]
     },
     "execution_count": 3,
     "metadata": {},
     "output_type": "execute_result"
    }
   ],
   "source": [
    "2*3 ## Multiplication Operator"
   ]
  },
  {
   "cell_type": "code",
   "execution_count": 4,
   "id": "56a23cc0-9d6f-4b51-b33c-09056cf8a3b5",
   "metadata": {},
   "outputs": [
    {
     "data": {
      "text/plain": [
       "0.6666666666666666"
      ]
     },
     "execution_count": 4,
     "metadata": {},
     "output_type": "execute_result"
    }
   ],
   "source": [
    "2/3 ## Division Operator"
   ]
  },
  {
   "cell_type": "code",
   "execution_count": 5,
   "id": "a3f6177b-831a-4333-9baf-e44c428165af",
   "metadata": {},
   "outputs": [
    {
     "data": {
      "text/plain": [
       "1"
      ]
     },
     "execution_count": 5,
     "metadata": {},
     "output_type": "execute_result"
    }
   ],
   "source": [
    "3%2 ## Modulo Operator"
   ]
  },
  {
   "cell_type": "code",
   "execution_count": 6,
   "id": "a2ae7a40-9a8a-4479-9243-803982f257ef",
   "metadata": {},
   "outputs": [
    {
     "data": {
      "text/plain": [
       "1"
      ]
     },
     "execution_count": 6,
     "metadata": {},
     "output_type": "execute_result"
    }
   ],
   "source": [
    "3//2 ## Floar Operator"
   ]
  },
  {
   "cell_type": "code",
   "execution_count": 7,
   "id": "65497460-df22-4570-bcf3-ec75e08e90e0",
   "metadata": {},
   "outputs": [
    {
     "data": {
      "text/plain": [
       "16"
      ]
     },
     "execution_count": 7,
     "metadata": {},
     "output_type": "execute_result"
    }
   ],
   "source": [
    "2**4 ## Exponent Operator"
   ]
  },
  {
   "cell_type": "markdown",
   "id": "e83c391d-fc91-40e4-a7d7-3d5d92e4650f",
   "metadata": {},
   "source": [
    "# Comparison Operator"
   ]
  },
  {
   "cell_type": "code",
   "execution_count": 8,
   "id": "17978085-fe7f-46ce-a55f-bfa21bd81731",
   "metadata": {},
   "outputs": [
    {
     "data": {
      "text/plain": [
       "False"
      ]
     },
     "execution_count": 8,
     "metadata": {},
     "output_type": "execute_result"
    }
   ],
   "source": [
    "1>2"
   ]
  },
  {
   "cell_type": "code",
   "execution_count": 9,
   "id": "2839adef-d19f-465b-914d-7f0db8b7d1f5",
   "metadata": {},
   "outputs": [
    {
     "data": {
      "text/plain": [
       "True"
      ]
     },
     "execution_count": 9,
     "metadata": {},
     "output_type": "execute_result"
    }
   ],
   "source": [
    "1<2"
   ]
  },
  {
   "cell_type": "code",
   "execution_count": 10,
   "id": "d6957924-8d64-4e82-8baf-d41c2b07882c",
   "metadata": {},
   "outputs": [
    {
     "data": {
      "text/plain": [
       "False"
      ]
     },
     "execution_count": 10,
     "metadata": {},
     "output_type": "execute_result"
    }
   ],
   "source": [
    "1==2"
   ]
  },
  {
   "cell_type": "code",
   "execution_count": 12,
   "id": "0d02df11-87bd-431b-8e2f-e00e6b016edb",
   "metadata": {},
   "outputs": [
    {
     "data": {
      "text/plain": [
       "True"
      ]
     },
     "execution_count": 12,
     "metadata": {},
     "output_type": "execute_result"
    }
   ],
   "source": [
    "1!=2"
   ]
  },
  {
   "cell_type": "code",
   "execution_count": 13,
   "id": "b1029c72-916f-451f-9949-d641817ebf5b",
   "metadata": {},
   "outputs": [
    {
     "data": {
      "text/plain": [
       "True"
      ]
     },
     "execution_count": 13,
     "metadata": {},
     "output_type": "execute_result"
    }
   ],
   "source": [
    "2>=1"
   ]
  },
  {
   "cell_type": "code",
   "execution_count": 14,
   "id": "e6c57ec9-a38f-431b-a844-83532ee024e7",
   "metadata": {},
   "outputs": [
    {
     "data": {
      "text/plain": [
       "False"
      ]
     },
     "execution_count": 14,
     "metadata": {},
     "output_type": "execute_result"
    }
   ],
   "source": [
    "2>2"
   ]
  },
  {
   "cell_type": "code",
   "execution_count": 15,
   "id": "49c21c81-8acc-48d4-b507-091876c9daaf",
   "metadata": {},
   "outputs": [
    {
     "data": {
      "text/plain": [
       "True"
      ]
     },
     "execution_count": 15,
     "metadata": {},
     "output_type": "execute_result"
    }
   ],
   "source": [
    "2>=2"
   ]
  },
  {
   "cell_type": "code",
   "execution_count": 16,
   "id": "dc6d22cf-6e02-4f0c-ae88-4195f55086a1",
   "metadata": {},
   "outputs": [
    {
     "data": {
      "text/plain": [
       "False"
      ]
     },
     "execution_count": 16,
     "metadata": {},
     "output_type": "execute_result"
    }
   ],
   "source": [
    "2<2"
   ]
  },
  {
   "cell_type": "code",
   "execution_count": 17,
   "id": "5d8a5ea3-4d19-4f04-ab1d-5a2fcc2a5bfd",
   "metadata": {},
   "outputs": [
    {
     "data": {
      "text/plain": [
       "True"
      ]
     },
     "execution_count": 17,
     "metadata": {},
     "output_type": "execute_result"
    }
   ],
   "source": [
    "2<=2"
   ]
  },
  {
   "cell_type": "markdown",
   "id": "172add58-0246-45cb-8481-ba0207b4496f",
   "metadata": {},
   "source": [
    "# Logical Operator"
   ]
  },
  {
   "cell_type": "markdown",
   "id": "113061f4-5e7c-441e-9eae-8eb6cd8d28b1",
   "metadata": {},
   "source": [
    "## And Operator"
   ]
  },
  {
   "cell_type": "code",
   "execution_count": 19,
   "id": "02e503ff-04f8-4f0a-9182-89dfddaf464c",
   "metadata": {},
   "outputs": [
    {
     "data": {
      "text/plain": [
       "True"
      ]
     },
     "execution_count": 19,
     "metadata": {},
     "output_type": "execute_result"
    }
   ],
   "source": [
    "True and True"
   ]
  },
  {
   "cell_type": "code",
   "execution_count": 20,
   "id": "c41717b0-6586-4d31-b0b0-13a623297fb9",
   "metadata": {},
   "outputs": [
    {
     "data": {
      "text/plain": [
       "False"
      ]
     },
     "execution_count": 20,
     "metadata": {},
     "output_type": "execute_result"
    }
   ],
   "source": [
    "True and False"
   ]
  },
  {
   "cell_type": "code",
   "execution_count": 21,
   "id": "95bb7b7c-9e6c-4606-b4a5-1720c7319f8b",
   "metadata": {},
   "outputs": [
    {
     "data": {
      "text/plain": [
       "False"
      ]
     },
     "execution_count": 21,
     "metadata": {},
     "output_type": "execute_result"
    }
   ],
   "source": [
    "False and False"
   ]
  },
  {
   "cell_type": "code",
   "execution_count": 24,
   "id": "d07980e6-3338-46a4-8d2e-68a1542631ce",
   "metadata": {},
   "outputs": [
    {
     "data": {
      "text/plain": [
       "0"
      ]
     },
     "execution_count": 24,
     "metadata": {},
     "output_type": "execute_result"
    }
   ],
   "source": [
    "1 and 0"
   ]
  },
  {
   "cell_type": "markdown",
   "id": "00d0e297-4d4f-4d3c-93f5-1a1bc28a443d",
   "metadata": {},
   "source": [
    "## OR operator"
   ]
  },
  {
   "cell_type": "code",
   "execution_count": 22,
   "id": "63ccf3c5-05e2-481e-a6f0-28ab517f7b22",
   "metadata": {},
   "outputs": [
    {
     "data": {
      "text/plain": [
       "True"
      ]
     },
     "execution_count": 22,
     "metadata": {},
     "output_type": "execute_result"
    }
   ],
   "source": [
    "True or False"
   ]
  },
  {
   "cell_type": "code",
   "execution_count": 23,
   "id": "a3b3472c-c529-4c1a-bb5c-16390740dea7",
   "metadata": {},
   "outputs": [
    {
     "data": {
      "text/plain": [
       "1"
      ]
     },
     "execution_count": 23,
     "metadata": {},
     "output_type": "execute_result"
    }
   ],
   "source": [
    "1 or 0"
   ]
  },
  {
   "cell_type": "markdown",
   "id": "41ee5b83-6198-4fde-8fac-9c5c12073fce",
   "metadata": {},
   "source": [
    "## Not Operator"
   ]
  },
  {
   "cell_type": "code",
   "execution_count": 25,
   "id": "c435b597-3939-447a-8fdc-35ce2b5c2e6a",
   "metadata": {},
   "outputs": [
    {
     "data": {
      "text/plain": [
       "False"
      ]
     },
     "execution_count": 25,
     "metadata": {},
     "output_type": "execute_result"
    }
   ],
   "source": [
    "not True"
   ]
  },
  {
   "cell_type": "markdown",
   "id": "ef433044-7769-4f4c-b590-1ae4647640c2",
   "metadata": {},
   "source": [
    "## Bitwise Operator"
   ]
  },
  {
   "cell_type": "markdown",
   "id": "94c13c4d-7cbb-404b-86be-9605daebb644",
   "metadata": {},
   "source": [
    "## And Bitwise Operator"
   ]
  },
  {
   "cell_type": "code",
   "execution_count": 1,
   "id": "a668d541-9786-411f-9e2d-5bdd78dad15d",
   "metadata": {},
   "outputs": [
    {
     "data": {
      "text/plain": [
       "0"
      ]
     },
     "execution_count": 1,
     "metadata": {},
     "output_type": "execute_result"
    }
   ],
   "source": [
    "10 & 4 "
   ]
  },
  {
   "cell_type": "code",
   "execution_count": 2,
   "id": "c241cb5b-5559-478c-9138-3e814e56fc0f",
   "metadata": {},
   "outputs": [
    {
     "data": {
      "text/plain": [
       "'0b1010'"
      ]
     },
     "execution_count": 2,
     "metadata": {},
     "output_type": "execute_result"
    }
   ],
   "source": [
    "bin(10) ## bin function convert digit to Binary "
   ]
  },
  {
   "cell_type": "code",
   "execution_count": 3,
   "id": "8d241cfd-13e8-415e-a073-b9ae8d7e052f",
   "metadata": {},
   "outputs": [
    {
     "data": {
      "text/plain": [
       "'0b100'"
      ]
     },
     "execution_count": 3,
     "metadata": {},
     "output_type": "execute_result"
    }
   ],
   "source": [
    "bin(4)"
   ]
  },
  {
   "cell_type": "code",
   "execution_count": 4,
   "id": "9878f9c5-b826-406e-8be4-386c20db6ebd",
   "metadata": {},
   "outputs": [
    {
     "data": {
      "text/plain": [
       "20"
      ]
     },
     "execution_count": 4,
     "metadata": {},
     "output_type": "execute_result"
    }
   ],
   "source": [
    " 23 & 20"
   ]
  },
  {
   "cell_type": "code",
   "execution_count": 5,
   "id": "8ef6c0ee-1254-4c93-8224-1f2e7c147191",
   "metadata": {},
   "outputs": [
    {
     "data": {
      "text/plain": [
       "'0b10111'"
      ]
     },
     "execution_count": 5,
     "metadata": {},
     "output_type": "execute_result"
    }
   ],
   "source": [
    "bin(23)"
   ]
  },
  {
   "cell_type": "code",
   "execution_count": 6,
   "id": "c46bd8c3-ac64-4a2e-a859-446cbea79afa",
   "metadata": {},
   "outputs": [
    {
     "data": {
      "text/plain": [
       "'0b10100'"
      ]
     },
     "execution_count": 6,
     "metadata": {},
     "output_type": "execute_result"
    }
   ],
   "source": [
    "bin(20)"
   ]
  },
  {
   "cell_type": "markdown",
   "id": "3a700c6b-3abf-4e73-bf69-16cf1bed0854",
   "metadata": {},
   "source": [
    "## OR Bitwise Operator"
   ]
  },
  {
   "cell_type": "code",
   "execution_count": 8,
   "id": "cfab70c9-024b-401a-bfa4-7366eab9198c",
   "metadata": {},
   "outputs": [
    {
     "data": {
      "text/plain": [
       "14"
      ]
     },
     "execution_count": 8,
     "metadata": {},
     "output_type": "execute_result"
    }
   ],
   "source": [
    "10|4"
   ]
  },
  {
   "cell_type": "code",
   "execution_count": 9,
   "id": "6fb040c9-d67f-4273-b675-c8a645558967",
   "metadata": {},
   "outputs": [
    {
     "data": {
      "text/plain": [
       "15"
      ]
     },
     "execution_count": 9,
     "metadata": {},
     "output_type": "execute_result"
    }
   ],
   "source": [
    "10|5"
   ]
  },
  {
   "cell_type": "markdown",
   "id": "f281ad2d-6371-48d5-bc9c-13876f7af52f",
   "metadata": {},
   "source": [
    "## Bitwise Not Operator"
   ]
  },
  {
   "cell_type": "code",
   "execution_count": 12,
   "id": "b2703923-5666-4dc0-9f68-62485e56dd21",
   "metadata": {},
   "outputs": [
    {
     "data": {
      "text/plain": [
       "-13"
      ]
     },
     "execution_count": 12,
     "metadata": {},
     "output_type": "execute_result"
    }
   ],
   "source": [
    "~12"
   ]
  },
  {
   "cell_type": "markdown",
   "id": "66754230-eef3-4e33-a46e-3164a253f56a",
   "metadata": {},
   "source": [
    "## Right shift Operator"
   ]
  },
  {
   "cell_type": "code",
   "execution_count": 14,
   "id": "989946c8-149a-4330-b0f3-5aad77a0b2e7",
   "metadata": {},
   "outputs": [],
   "source": [
    "a=8"
   ]
  },
  {
   "cell_type": "code",
   "execution_count": 15,
   "id": "e458dcbd-4054-4386-97cd-995ff323ab7e",
   "metadata": {},
   "outputs": [
    {
     "data": {
      "text/plain": [
       "2"
      ]
     },
     "execution_count": 15,
     "metadata": {},
     "output_type": "execute_result"
    }
   ],
   "source": [
    "a>>2"
   ]
  },
  {
   "cell_type": "code",
   "execution_count": 16,
   "id": "9c472ffc-8cae-4ed0-94d9-aba8e4a01d70",
   "metadata": {},
   "outputs": [
    {
     "data": {
      "text/plain": [
       "'0b1000'"
      ]
     },
     "execution_count": 16,
     "metadata": {},
     "output_type": "execute_result"
    }
   ],
   "source": [
    "bin(a)"
   ]
  },
  {
   "cell_type": "code",
   "execution_count": null,
   "id": "8b781f4f-ccba-4c95-b262-c0b7a937ef80",
   "metadata": {},
   "outputs": [],
   "source": [
    "a>>3"
   ]
  },
  {
   "cell_type": "code",
   "execution_count": 18,
   "id": "eb7650c7-33a0-4161-b1d8-fffd2c7b7100",
   "metadata": {},
   "outputs": [
    {
     "data": {
      "text/plain": [
       "0"
      ]
     },
     "execution_count": 18,
     "metadata": {},
     "output_type": "execute_result"
    }
   ],
   "source": [
    "a>>4"
   ]
  },
  {
   "cell_type": "markdown",
   "id": "06130c27-f612-4122-a90d-6cc89fda42ac",
   "metadata": {},
   "source": [
    "## Left shit operator"
   ]
  },
  {
   "cell_type": "code",
   "execution_count": 20,
   "id": "e0e1537a-9b2f-4245-86c5-1871a0b1b8fa",
   "metadata": {},
   "outputs": [],
   "source": [
    "a=8"
   ]
  },
  {
   "cell_type": "code",
   "execution_count": 21,
   "id": "53b4a877-af67-4757-9f4e-825395c89064",
   "metadata": {},
   "outputs": [
    {
     "data": {
      "text/plain": [
       "32"
      ]
     },
     "execution_count": 21,
     "metadata": {},
     "output_type": "execute_result"
    }
   ],
   "source": [
    "a<<2"
   ]
  },
  {
   "cell_type": "code",
   "execution_count": 22,
   "id": "d2f2f549-57cc-4977-ad06-17ef93858c48",
   "metadata": {},
   "outputs": [
    {
     "data": {
      "text/plain": [
       "64"
      ]
     },
     "execution_count": 22,
     "metadata": {},
     "output_type": "execute_result"
    }
   ],
   "source": [
    "a<<3"
   ]
  },
  {
   "cell_type": "code",
   "execution_count": 23,
   "id": "d5584e46-94e5-4490-9440-8997ed44c0aa",
   "metadata": {},
   "outputs": [
    {
     "data": {
      "text/plain": [
       "128"
      ]
     },
     "execution_count": 23,
     "metadata": {},
     "output_type": "execute_result"
    }
   ],
   "source": [
    "a<<4"
   ]
  },
  {
   "cell_type": "code",
   "execution_count": 24,
   "id": "a0f93481-886b-469f-bfc6-905d6ff7878c",
   "metadata": {},
   "outputs": [],
   "source": [
    "a=10"
   ]
  },
  {
   "cell_type": "code",
   "execution_count": 25,
   "id": "6ea723a9-01b4-47f8-8e1d-6bd459d54ae1",
   "metadata": {},
   "outputs": [],
   "source": [
    "a+=1 ## which is equal to a=a+1"
   ]
  },
  {
   "cell_type": "code",
   "execution_count": 26,
   "id": "c5c1dc02-e025-4e1a-918b-b8100c2d8e31",
   "metadata": {},
   "outputs": [
    {
     "data": {
      "text/plain": [
       "11"
      ]
     },
     "execution_count": 26,
     "metadata": {},
     "output_type": "execute_result"
    }
   ],
   "source": [
    "a"
   ]
  },
  {
   "cell_type": "code",
   "execution_count": 27,
   "id": "e8638286-98bf-49b3-ae06-126f97a468e3",
   "metadata": {},
   "outputs": [],
   "source": [
    "a-=1 ## which is equal to a=a-1"
   ]
  },
  {
   "cell_type": "code",
   "execution_count": 28,
   "id": "2c9e0363-be7b-4fd7-9e24-b88c370313ef",
   "metadata": {},
   "outputs": [
    {
     "data": {
      "text/plain": [
       "10"
      ]
     },
     "execution_count": 28,
     "metadata": {},
     "output_type": "execute_result"
    }
   ],
   "source": [
    "a"
   ]
  },
  {
   "cell_type": "markdown",
   "id": "2dc75ec0-a8ac-4c20-97ba-35c0f28d974f",
   "metadata": {},
   "source": [
    "### same as a multiplication,divison,modulo etc"
   ]
  }
 ],
 "metadata": {
  "kernelspec": {
   "display_name": "Python 3 (ipykernel)",
   "language": "python",
   "name": "python3"
  },
  "language_info": {
   "codemirror_mode": {
    "name": "ipython",
    "version": 3
   },
   "file_extension": ".py",
   "mimetype": "text/x-python",
   "name": "python",
   "nbconvert_exporter": "python",
   "pygments_lexer": "ipython3",
   "version": "3.10.8"
  }
 },
 "nbformat": 4,
 "nbformat_minor": 5
}
