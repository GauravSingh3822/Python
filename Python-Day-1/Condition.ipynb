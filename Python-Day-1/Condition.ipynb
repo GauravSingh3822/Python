{
 "cells": [
  {
   "cell_type": "markdown",
   "id": "352177e5-8e61-4f95-a2a8-d2334a7238b4",
   "metadata": {},
   "source": [
    "# If Condition"
   ]
  },
  {
   "cell_type": "markdown",
   "id": "f89eb22f-896c-4b3b-b381-c204fe2caba5",
   "metadata": {},
   "source": [
    "## Indentation error"
   ]
  },
  {
   "cell_type": "code",
   "execution_count": 2,
   "id": "1b7960c7-1f86-4d0c-996c-a67c63754010",
   "metadata": {},
   "outputs": [
    {
     "ename": "IndentationError",
     "evalue": "expected an indented block after 'if' statement on line 2 (2210438265.py, line 3)",
     "output_type": "error",
     "traceback": [
      "\u001b[0;36m  Cell \u001b[0;32mIn[2], line 3\u001b[0;36m\u001b[0m\n\u001b[0;31m    print(\"Yes a is greater than 10\")\u001b[0m\n\u001b[0m    ^\u001b[0m\n\u001b[0;31mIndentationError\u001b[0m\u001b[0;31m:\u001b[0m expected an indented block after 'if' statement on line 2\n"
     ]
    }
   ],
   "source": [
    "a=10\n",
    "if a>10:\n",
    "print(\"Yes a is greater than 10\")"
   ]
  },
  {
   "cell_type": "code",
   "execution_count": 3,
   "id": "c8935321-33ce-4a8c-84cb-a57bb295594b",
   "metadata": {},
   "outputs": [],
   "source": [
    "a=10\n",
    "if a>10:\n",
    "    print(\"Yes a is greater than 10\")"
   ]
  },
  {
   "cell_type": "code",
   "execution_count": 4,
   "id": "8dc2c28c-ef7b-4132-ad3b-51b749790622",
   "metadata": {},
   "outputs": [
    {
     "data": {
      "text/plain": [
       "False"
      ]
     },
     "execution_count": 4,
     "metadata": {},
     "output_type": "execute_result"
    }
   ],
   "source": [
    "a>10"
   ]
  },
  {
   "cell_type": "code",
   "execution_count": 5,
   "id": "160a08d5-8e8d-4d02-8ab3-59abfd2b3ae2",
   "metadata": {},
   "outputs": [
    {
     "name": "stdout",
     "output_type": "stream",
     "text": [
      "Yes a is greater than 10\n"
     ]
    }
   ],
   "source": [
    "a=10\n",
    "if a>=10:\n",
    "    print(\"Yes a is greater than 10\")"
   ]
  },
  {
   "cell_type": "code",
   "execution_count": 6,
   "id": "472137f5-549c-442a-9038-bc1aaff7448b",
   "metadata": {},
   "outputs": [
    {
     "data": {
      "text/plain": [
       "True"
      ]
     },
     "execution_count": 6,
     "metadata": {},
     "output_type": "execute_result"
    }
   ],
   "source": [
    "a>=10"
   ]
  },
  {
   "cell_type": "markdown",
   "id": "869f1fdd-7a46-4931-b92c-1bf874f5b6a2",
   "metadata": {},
   "source": [
    "## Multiple IF condition"
   ]
  },
  {
   "cell_type": "code",
   "execution_count": 12,
   "id": "4abdb366-933d-40cc-8a6a-937b96e919c3",
   "metadata": {},
   "outputs": [
    {
     "name": "stdout",
     "output_type": "stream",
     "text": [
      "Yes b is smaller than 40\n"
     ]
    }
   ],
   "source": [
    "b=20\n",
    "if b>30:\n",
    "    print(\"Yes b is greater than 30\")\n",
    "elif b<40:\n",
    "    print(\"Yes b is smaller than 40\")\n",
    "elif b>100:\n",
    "    print(\"Yes b is greater than 100\")\n",
    "else:\n",
    "    print(\"This is  my Default\")"
   ]
  },
  {
   "cell_type": "code",
   "execution_count": 13,
   "id": "95b30537-7354-4721-b494-1528dc3e3553",
   "metadata": {},
   "outputs": [
    {
     "name": "stdin",
     "output_type": "stream",
     "text": [
      " 2345\n"
     ]
    },
    {
     "data": {
      "text/plain": [
       "'2345'"
      ]
     },
     "execution_count": 13,
     "metadata": {},
     "output_type": "execute_result"
    }
   ],
   "source": [
    "input()"
   ]
  },
  {
   "cell_type": "code",
   "execution_count": 14,
   "id": "d654f66c-84ae-4f38-b3e4-49891c563415",
   "metadata": {},
   "outputs": [
    {
     "name": "stdin",
     "output_type": "stream",
     "text": [
      " 234\n"
     ]
    },
    {
     "data": {
      "text/plain": [
       "str"
      ]
     },
     "execution_count": 14,
     "metadata": {},
     "output_type": "execute_result"
    }
   ],
   "source": [
    "type(input())"
   ]
  },
  {
   "cell_type": "code",
   "execution_count": 15,
   "id": "99edcd1f-147d-46e9-a14c-094cac2a8dc3",
   "metadata": {},
   "outputs": [
    {
     "name": "stdin",
     "output_type": "stream",
     "text": [
      " 234\n"
     ]
    }
   ],
   "source": [
    "b=int(input())"
   ]
  },
  {
   "cell_type": "code",
   "execution_count": 16,
   "id": "2f206f2e-6744-4797-9aee-38ced0beffd7",
   "metadata": {},
   "outputs": [
    {
     "data": {
      "text/plain": [
       "int"
      ]
     },
     "execution_count": 16,
     "metadata": {},
     "output_type": "execute_result"
    }
   ],
   "source": [
    "type(b)"
   ]
  },
  {
   "cell_type": "code",
   "execution_count": 19,
   "id": "28966295-f1b2-4932-81dc-6798d62898da",
   "metadata": {},
   "outputs": [
    {
     "name": "stdin",
     "output_type": "stream",
     "text": [
      " 120 \n"
     ]
    },
    {
     "name": "stdout",
     "output_type": "stream",
     "text": [
      "Yes b is greater than 30\n"
     ]
    }
   ],
   "source": [
    "b = int(input())\n",
    "if b>30:\n",
    "    print(\"Yes b is greater than 30\")\n",
    "elif b<40:\n",
    "    print(\"Yes b is smaller than 40\")\n",
    "elif b>100:\n",
    "    print(\"Yes b is greater than 100\")\n",
    "else:\n",
    "    print(\"This is  my Default\")"
   ]
  },
  {
   "cell_type": "markdown",
   "id": "6255c8ab-eed5-4e28-8595-a310a4b48f42",
   "metadata": {},
   "source": [
    "## Loop condition"
   ]
  },
  {
   "cell_type": "code",
   "execution_count": 21,
   "id": "a9b140eb-9acf-487b-b875-36d357b87c1b",
   "metadata": {},
   "outputs": [
    {
     "name": "stdout",
     "output_type": "stream",
     "text": [
      "1\n",
      "2\n",
      "3\n"
     ]
    }
   ],
   "source": [
    "## While Loop\n",
    "n=4\n",
    "i=1\n",
    "while i<n:\n",
    "    print(i)\n",
    "    i=i+1"
   ]
  },
  {
   "cell_type": "markdown",
   "id": "2910ddad-1f30-468e-b192-d2bf2a3695a2",
   "metadata": {},
   "source": [
    "## While Loop + Else : When while loop is successfullly completed itself then else condition executes"
   ]
  },
  {
   "cell_type": "code",
   "execution_count": 22,
   "id": "ed7ef202-28d9-4618-b799-eb3b99dcd844",
   "metadata": {},
   "outputs": [
    {
     "name": "stdout",
     "output_type": "stream",
     "text": [
      "1\n",
      "2\n",
      "3\n",
      "This is my else\n"
     ]
    }
   ],
   "source": [
    "n=4\n",
    "i=1\n",
    "while i<n:\n",
    "    print(i)\n",
    "    i=i+1\n",
    "else:\n",
    "    print(\"This is my else\")"
   ]
  },
  {
   "cell_type": "code",
   "execution_count": 23,
   "id": "c36cd032-70b1-4f7d-bdce-c7938137983f",
   "metadata": {},
   "outputs": [
    {
     "name": "stdout",
     "output_type": "stream",
     "text": [
      "1\n",
      "2\n"
     ]
    }
   ],
   "source": [
    "## While Loop + Else \n",
    "n=4\n",
    "i=1\n",
    "while i<n:\n",
    "    print(i)\n",
    "    i=i+1\n",
    "    if i==3:\n",
    "        break\n",
    "else:\n",
    "    print(\"This is my else\")"
   ]
  },
  {
   "cell_type": "markdown",
   "id": "579766a4-4152-4dd7-b1ee-d95854a3047d",
   "metadata": {},
   "source": [
    "## For-Loop "
   ]
  },
  {
   "cell_type": "code",
   "execution_count": 24,
   "id": "faf326b8-c7ac-4ea0-a350-e29b4dc37bb3",
   "metadata": {},
   "outputs": [
    {
     "name": "stdout",
     "output_type": "stream",
     "text": [
      "G\n",
      "a\n",
      "u\n",
      "r\n",
      "a\n",
      "v\n"
     ]
    }
   ],
   "source": [
    "s=\"Gaurav\"\n",
    "for i in s:\n",
    "    print(i)"
   ]
  },
  {
   "cell_type": "code",
   "execution_count": 1,
   "id": "3b70cb37-73ed-4b3a-91d7-ab9577124191",
   "metadata": {},
   "outputs": [
    {
     "name": "stdout",
     "output_type": "stream",
     "text": [
      "<class 'int'>\n",
      "<class 'int'>\n",
      "<class 'int'>\n",
      "<class 'int'>\n",
      "<class 'int'>\n",
      "<class 'str'>\n",
      "<class 'str'>\n",
      "<class 'int'>\n",
      "<class 'int'>\n",
      "<class 'int'>\n"
     ]
    }
   ],
   "source": [
    "list=[2,3,4,5,6,\"Gaurav\",\"PWskills\",23,34,45]"
   ]
  },
  {
   "cell_type": "code",
   "execution_count": 4,
   "id": "75cbf99c-d261-4657-99e5-3f56c7a36d8c",
   "metadata": {},
   "outputs": [
    {
     "name": "stdout",
     "output_type": "stream",
     "text": [
      "2 : <class 'int'>\n",
      "3 : <class 'int'>\n",
      "4 : <class 'int'>\n",
      "5 : <class 'int'>\n",
      "6 : <class 'int'>\n",
      "Gaurav : <class 'str'>\n",
      "PWskills : <class 'str'>\n",
      "23 : <class 'int'>\n",
      "34 : <class 'int'>\n",
      "45 : <class 'int'>\n"
     ]
    }
   ],
   "source": [
    "for i in list:\n",
    "    print(i,\":\",type(i))"
   ]
  },
  {
   "cell_type": "markdown",
   "id": "6d28ab7a-1e08-4878-81b2-6daa9d187da0",
   "metadata": {},
   "source": [
    "## For + Else : when for loop sucessfully complete itself then else condition excutes"
   ]
  },
  {
   "cell_type": "code",
   "execution_count": 7,
   "id": "5b1eb5fa-d07a-4989-b24c-8aa2f0858b80",
   "metadata": {},
   "outputs": [
    {
     "name": "stdout",
     "output_type": "stream",
     "text": [
      "2 : <class 'int'>\n",
      "3 : <class 'int'>\n",
      "4 : <class 'int'>\n",
      "5 : <class 'int'>\n"
     ]
    }
   ],
   "source": [
    "\n",
    "for i in list:\n",
    "    print(i,\":\",type(i))\n",
    "    if i==5:\n",
    "        break\n",
    "else:\n",
    "    print(\"This will be excutes once foe loop will completes itself successfully\")"
   ]
  },
  {
   "cell_type": "code",
   "execution_count": 10,
   "id": "cad1c24a-43ce-4eb3-9ec0-c14ad616c617",
   "metadata": {},
   "outputs": [
    {
     "data": {
      "text/plain": [
       "range(0, 10)"
      ]
     },
     "execution_count": 10,
     "metadata": {},
     "output_type": "execute_result"
    }
   ],
   "source": [
    "range(10)"
   ]
  },
  {
   "cell_type": "code",
   "execution_count": null,
   "id": "9e36c64e-5714-4d0d-b822-f728fea4aa79",
   "metadata": {},
   "outputs": [],
   "source": []
  },
  {
   "cell_type": "code",
   "execution_count": null,
   "id": "54b52a01-71d6-451b-ac1c-5ec4209b62a1",
   "metadata": {},
   "outputs": [],
   "source": []
  }
 ],
 "metadata": {
  "kernelspec": {
   "display_name": "Python 3 (ipykernel)",
   "language": "python",
   "name": "python3"
  },
  "language_info": {
   "codemirror_mode": {
    "name": "ipython",
    "version": 3
   },
   "file_extension": ".py",
   "mimetype": "text/x-python",
   "name": "python",
   "nbconvert_exporter": "python",
   "pygments_lexer": "ipython3",
   "version": "3.10.8"
  }
 },
 "nbformat": 4,
 "nbformat_minor": 5
}
