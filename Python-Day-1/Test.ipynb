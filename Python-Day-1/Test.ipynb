{
 "cells": [
  {
   "cell_type": "markdown",
   "id": "e7b501f2-e25e-49bb-8782-96f10405e9ef",
   "metadata": {},
   "source": [
    "## Variable IN Python"
   ]
  },
  {
   "cell_type": "code",
   "execution_count": 2,
   "id": "63f274bc-03b7-4386-bd23-acab0c74fd83",
   "metadata": {},
   "outputs": [],
   "source": [
    "a=1 ## Where a is a variable in Python which mean we store 1 in a "
   ]
  },
  {
   "cell_type": "code",
   "execution_count": 3,
   "id": "33190ed3-5e8c-405e-8428-bed3f85767dc",
   "metadata": {},
   "outputs": [
    {
     "data": {
      "text/plain": [
       "1"
      ]
     },
     "execution_count": 3,
     "metadata": {},
     "output_type": "execute_result"
    }
   ],
   "source": [
    "a"
   ]
  },
  {
   "cell_type": "code",
   "execution_count": 4,
   "id": "7a7abb13-5994-42e0-bcd1-fabc74d476b9",
   "metadata": {},
   "outputs": [
    {
     "data": {
      "text/plain": [
       "int"
      ]
     },
     "execution_count": 4,
     "metadata": {},
     "output_type": "execute_result"
    }
   ],
   "source": [
    "type(a)"
   ]
  },
  {
   "cell_type": "code",
   "execution_count": 5,
   "id": "29f68188-1b9b-4f7b-b313-e048c51e0195",
   "metadata": {},
   "outputs": [],
   "source": [
    "b=\"Gaurav\""
   ]
  },
  {
   "cell_type": "code",
   "execution_count": 6,
   "id": "9e00deba-673f-4fd3-b63a-020d07dec06c",
   "metadata": {},
   "outputs": [
    {
     "data": {
      "text/plain": [
       "str"
      ]
     },
     "execution_count": 6,
     "metadata": {},
     "output_type": "execute_result"
    }
   ],
   "source": [
    "type(b)"
   ]
  },
  {
   "cell_type": "code",
   "execution_count": 7,
   "id": "15811fe3-cc78-464b-9c56-bbfcdd592c21",
   "metadata": {},
   "outputs": [],
   "source": [
    "c=45.112"
   ]
  },
  {
   "cell_type": "code",
   "execution_count": 8,
   "id": "78e2a7e5-728d-401d-98fb-8afd696b7606",
   "metadata": {},
   "outputs": [
    {
     "data": {
      "text/plain": [
       "float"
      ]
     },
     "execution_count": 8,
     "metadata": {},
     "output_type": "execute_result"
    }
   ],
   "source": [
    "type(c)"
   ]
  },
  {
   "cell_type": "code",
   "execution_count": 9,
   "id": "bfee407d-6e25-4ce6-87bc-810c4c21a486",
   "metadata": {},
   "outputs": [],
   "source": [
    "Gaurav=456789"
   ]
  },
  {
   "cell_type": "code",
   "execution_count": 10,
   "id": "513df2c4-3a40-4fa8-8b43-f34d15ea3e6a",
   "metadata": {},
   "outputs": [
    {
     "data": {
      "text/plain": [
       "int"
      ]
     },
     "execution_count": 10,
     "metadata": {},
     "output_type": "execute_result"
    }
   ],
   "source": [
    "type(Gaurav)"
   ]
  },
  {
   "cell_type": "code",
   "execution_count": 11,
   "id": "7cf5108b-4012-473a-bdac-de3825d5c1e1",
   "metadata": {},
   "outputs": [],
   "source": [
    "d=True"
   ]
  },
  {
   "cell_type": "code",
   "execution_count": 12,
   "id": "9f173fb0-b1aa-4c22-b60a-793fe32b9f89",
   "metadata": {},
   "outputs": [
    {
     "data": {
      "text/plain": [
       "bool"
      ]
     },
     "execution_count": 12,
     "metadata": {},
     "output_type": "execute_result"
    }
   ],
   "source": [
    "type(d)"
   ]
  },
  {
   "cell_type": "code",
   "execution_count": 13,
   "id": "0a732163-2cdd-4085-b53f-f43caff094c0",
   "metadata": {},
   "outputs": [],
   "source": [
    "e=False"
   ]
  },
  {
   "cell_type": "code",
   "execution_count": 14,
   "id": "90a9242c-5955-4a34-a2d8-3448b15b989c",
   "metadata": {},
   "outputs": [
    {
     "data": {
      "text/plain": [
       "bool"
      ]
     },
     "execution_count": 14,
     "metadata": {},
     "output_type": "execute_result"
    }
   ],
   "source": [
    "type(e)"
   ]
  },
  {
   "cell_type": "code",
   "execution_count": 15,
   "id": "cd215bd7-91ad-4ff9-b43c-4974dc209876",
   "metadata": {},
   "outputs": [
    {
     "data": {
      "text/plain": [
       "1"
      ]
     },
     "execution_count": 15,
     "metadata": {},
     "output_type": "execute_result"
    }
   ],
   "source": [
    "True-False"
   ]
  },
  {
   "cell_type": "code",
   "execution_count": 16,
   "id": "5e291ef0-0643-4372-945b-ced9ebd5bde5",
   "metadata": {},
   "outputs": [
    {
     "data": {
      "text/plain": [
       "0"
      ]
     },
     "execution_count": 16,
     "metadata": {},
     "output_type": "execute_result"
    }
   ],
   "source": [
    "True*False"
   ]
  },
  {
   "cell_type": "code",
   "execution_count": 17,
   "id": "e2d100db-5636-4c38-9bcc-9822a42ded86",
   "metadata": {},
   "outputs": [
    {
     "ename": "ZeroDivisionError",
     "evalue": "division by zero",
     "output_type": "error",
     "traceback": [
      "\u001b[0;31m---------------------------------------------------------------------------\u001b[0m",
      "\u001b[0;31mZeroDivisionError\u001b[0m                         Traceback (most recent call last)",
      "Cell \u001b[0;32mIn[17], line 1\u001b[0m\n\u001b[0;32m----> 1\u001b[0m \u001b[38;5;28;43;01mTrue\u001b[39;49;00m\u001b[38;5;241;43m/\u001b[39;49m\u001b[38;5;28;43;01mFalse\u001b[39;49;00m\n",
      "\u001b[0;31mZeroDivisionError\u001b[0m: division by zero"
     ]
    }
   ],
   "source": [
    "True/False"
   ]
  },
  {
   "cell_type": "code",
   "execution_count": 18,
   "id": "914bfc50-fac6-403d-b216-eead9d7000c9",
   "metadata": {},
   "outputs": [],
   "source": [
    "f=5+4j"
   ]
  },
  {
   "cell_type": "code",
   "execution_count": 19,
   "id": "de09e219-7bc6-4b5b-9117-00da95879d35",
   "metadata": {},
   "outputs": [
    {
     "data": {
      "text/plain": [
       "complex"
      ]
     },
     "execution_count": 19,
     "metadata": {},
     "output_type": "execute_result"
    }
   ],
   "source": [
    "type(f)"
   ]
  },
  {
   "cell_type": "code",
   "execution_count": 20,
   "id": "6f60ec72-a057-48f2-8fd1-376dac4c6e0f",
   "metadata": {},
   "outputs": [
    {
     "ename": "SyntaxError",
     "evalue": "invalid decimal literal (418945026.py, line 1)",
     "output_type": "error",
     "traceback": [
      "\u001b[0;36m  Cell \u001b[0;32mIn[20], line 1\u001b[0;36m\u001b[0m\n\u001b[0;31m    e=6+7i\u001b[0m\n\u001b[0m        ^\u001b[0m\n\u001b[0;31mSyntaxError\u001b[0m\u001b[0;31m:\u001b[0m invalid decimal literal\n"
     ]
    }
   ],
   "source": [
    "e=6+7i"
   ]
  },
  {
   "cell_type": "code",
   "execution_count": 21,
   "id": "b7214f3d-a80c-4cbd-9c36-e0b869447173",
   "metadata": {},
   "outputs": [],
   "source": [
    "g=7j"
   ]
  },
  {
   "cell_type": "code",
   "execution_count": 22,
   "id": "0a1adfa2-6296-4056-b8db-6304b55f938d",
   "metadata": {},
   "outputs": [
    {
     "data": {
      "text/plain": [
       "complex"
      ]
     },
     "execution_count": 22,
     "metadata": {},
     "output_type": "execute_result"
    }
   ],
   "source": [
    "type(g)"
   ]
  },
  {
   "cell_type": "markdown",
   "id": "5e1ec6da-af02-4470-a001-84abd14d2dc4",
   "metadata": {},
   "source": [
    "## Variable name can't be numeric and also alpha-numeric and Special Symbol"
   ]
  },
  {
   "cell_type": "code",
   "execution_count": 23,
   "id": "4e072fd7-4914-4ecd-9811-27b1aca4f4e8",
   "metadata": {},
   "outputs": [
    {
     "data": {
      "text/plain": [
       "5.0"
      ]
     },
     "execution_count": 23,
     "metadata": {},
     "output_type": "execute_result"
    }
   ],
   "source": [
    "f.real"
   ]
  },
  {
   "cell_type": "code",
   "execution_count": 24,
   "id": "4d1e0b46-7ac1-43ca-99d8-709a02bf0ff8",
   "metadata": {},
   "outputs": [
    {
     "data": {
      "text/plain": [
       "4.0"
      ]
     },
     "execution_count": 24,
     "metadata": {},
     "output_type": "execute_result"
    }
   ],
   "source": [
    "f.imag"
   ]
  }
 ],
 "metadata": {
  "kernelspec": {
   "display_name": "Python 3 (ipykernel)",
   "language": "python",
   "name": "python3"
  },
  "language_info": {
   "codemirror_mode": {
    "name": "ipython",
    "version": 3
   },
   "file_extension": ".py",
   "mimetype": "text/x-python",
   "name": "python",
   "nbconvert_exporter": "python",
   "pygments_lexer": "ipython3",
   "version": "3.10.8"
  }
 },
 "nbformat": 4,
 "nbformat_minor": 5
}
