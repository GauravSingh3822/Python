{
 "cells": [
  {
   "cell_type": "code",
   "execution_count": 1,
   "id": "fbcf71aa-8161-4166-bacc-1d3ebf9702ae",
   "metadata": {},
   "outputs": [],
   "source": [
    "s=\"Gaurav\""
   ]
  },
  {
   "cell_type": "code",
   "execution_count": 2,
   "id": "8821589d-59da-4704-82e9-4cffcdf03726",
   "metadata": {},
   "outputs": [],
   "source": [
    "s1=\"Singh\""
   ]
  },
  {
   "cell_type": "code",
   "execution_count": 3,
   "id": "e7b9a08a-54f2-41ad-9224-2edf371ac5f4",
   "metadata": {},
   "outputs": [
    {
     "data": {
      "text/plain": [
       "(str, str)"
      ]
     },
     "execution_count": 3,
     "metadata": {},
     "output_type": "execute_result"
    }
   ],
   "source": [
    "type(s),type(s1)"
   ]
  },
  {
   "cell_type": "code",
   "execution_count": 4,
   "id": "267b80e7-cbfe-49f0-b34e-157069f94a0f",
   "metadata": {},
   "outputs": [],
   "source": [
    "List=[1,2,3,4,5,\"Gaurav\",3+7j,True,45.56]"
   ]
  },
  {
   "cell_type": "code",
   "execution_count": 5,
   "id": "fbdd4008-c3c0-4d63-b20a-d1efe8b26a30",
   "metadata": {},
   "outputs": [
    {
     "data": {
      "text/plain": [
       "list"
      ]
     },
     "execution_count": 5,
     "metadata": {},
     "output_type": "execute_result"
    }
   ],
   "source": [
    "type(List)"
   ]
  },
  {
   "cell_type": "code",
   "execution_count": 6,
   "id": "47424129-1f57-4529-9fd4-dda09720ecfc",
   "metadata": {},
   "outputs": [
    {
     "data": {
      "text/plain": [
       "'G'"
      ]
     },
     "execution_count": 6,
     "metadata": {},
     "output_type": "execute_result"
    }
   ],
   "source": [
    "s[0]"
   ]
  },
  {
   "cell_type": "code",
   "execution_count": 8,
   "id": "bc1fe49d-dcb1-49e7-8ea7-5b35410c9272",
   "metadata": {},
   "outputs": [
    {
     "data": {
      "text/plain": [
       "'a'"
      ]
     },
     "execution_count": 8,
     "metadata": {},
     "output_type": "execute_result"
    }
   ],
   "source": [
    "s[1]"
   ]
  },
  {
   "cell_type": "code",
   "execution_count": 9,
   "id": "c51eda33-172e-466b-aac1-a644d085d018",
   "metadata": {},
   "outputs": [
    {
     "data": {
      "text/plain": [
       "'u'"
      ]
     },
     "execution_count": 9,
     "metadata": {},
     "output_type": "execute_result"
    }
   ],
   "source": [
    "s[2]"
   ]
  },
  {
   "cell_type": "code",
   "execution_count": 10,
   "id": "b89f7170-a2f7-49cf-bb5e-fb89acd85ef2",
   "metadata": {},
   "outputs": [
    {
     "data": {
      "text/plain": [
       "[1, 2, 3, 4, 5, 'Gaurav', (3+7j), True, 45.56]"
      ]
     },
     "execution_count": 10,
     "metadata": {},
     "output_type": "execute_result"
    }
   ],
   "source": [
    "List"
   ]
  },
  {
   "cell_type": "code",
   "execution_count": 11,
   "id": "3578a83b-c239-4812-bdf2-089c400f0d6e",
   "metadata": {},
   "outputs": [
    {
     "data": {
      "text/plain": [
       "45.56"
      ]
     },
     "execution_count": 11,
     "metadata": {},
     "output_type": "execute_result"
    }
   ],
   "source": [
    "List[-1]"
   ]
  },
  {
   "cell_type": "code",
   "execution_count": 12,
   "id": "cec0eb0e-e41f-4736-a414-2fe68ac89eb8",
   "metadata": {},
   "outputs": [],
   "source": [
    "List[2]=300"
   ]
  },
  {
   "cell_type": "code",
   "execution_count": 13,
   "id": "2f2bb594-5c40-409a-a1ca-192d9f3b2da0",
   "metadata": {},
   "outputs": [
    {
     "data": {
      "text/plain": [
       "[1, 2, 300, 4, 5, 'Gaurav', (3+7j), True, 45.56]"
      ]
     },
     "execution_count": 13,
     "metadata": {},
     "output_type": "execute_result"
    }
   ],
   "source": [
    "List"
   ]
  },
  {
   "cell_type": "code",
   "execution_count": 15,
   "id": "3220f4bf-548f-444b-acf3-bc7d3110169c",
   "metadata": {},
   "outputs": [],
   "source": [
    "List[5]=\"Singh\""
   ]
  },
  {
   "cell_type": "code",
   "execution_count": 16,
   "id": "38295d22-7225-4934-8962-c60ca07556e9",
   "metadata": {},
   "outputs": [
    {
     "data": {
      "text/plain": [
       "[1, 2, 300, 4, 5, 'Singh', (3+7j), True, 45.56]"
      ]
     },
     "execution_count": 16,
     "metadata": {},
     "output_type": "execute_result"
    }
   ],
   "source": [
    "List ## HEnce list(list) is a Mutable"
   ]
  },
  {
   "cell_type": "code",
   "execution_count": 17,
   "id": "e200d705-d0e5-4bda-9891-715dde23d0a5",
   "metadata": {},
   "outputs": [
    {
     "ename": "NameError",
     "evalue": "name 'c' is not defined",
     "output_type": "error",
     "traceback": [
      "\u001b[0;31m---------------------------------------------------------------------------\u001b[0m",
      "\u001b[0;31mNameError\u001b[0m                                 Traceback (most recent call last)",
      "Cell \u001b[0;32mIn[17], line 1\u001b[0m\n\u001b[0;32m----> 1\u001b[0m s[\u001b[38;5;241m1\u001b[39m]\u001b[38;5;241m=\u001b[39m\u001b[43mc\u001b[49m\n",
      "\u001b[0;31mNameError\u001b[0m: name 'c' is not defined"
     ]
    }
   ],
   "source": [
    "s[1]=c ## Hence String(s) is a Immutable"
   ]
  }
 ],
 "metadata": {
  "kernelspec": {
   "display_name": "Python 3 (ipykernel)",
   "language": "python",
   "name": "python3"
  },
  "language_info": {
   "codemirror_mode": {
    "name": "ipython",
    "version": 3
   },
   "file_extension": ".py",
   "mimetype": "text/x-python",
   "name": "python",
   "nbconvert_exporter": "python",
   "pygments_lexer": "ipython3",
   "version": "3.10.8"
  }
 },
 "nbformat": 4,
 "nbformat_minor": 5
}
