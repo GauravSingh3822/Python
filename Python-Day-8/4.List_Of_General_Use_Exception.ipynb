{
 "cells": [
  {
   "cell_type": "code",
   "execution_count": 2,
   "id": "84458e52-8a84-4a61-8a1d-f24eab97c967",
   "metadata": {},
   "outputs": [
    {
     "name": "stdout",
     "output_type": "stream",
     "text": [
      "division by zero\n"
     ]
    }
   ],
   "source": [
    "try :\n",
    "    a=10/0\n",
    "except ZeroDivisionError as e:\n",
    "    print(e)"
   ]
  },
  {
   "cell_type": "code",
   "execution_count": 5,
   "id": "8cb93562-65ad-4862-9bd8-813f944479f2",
   "metadata": {},
   "outputs": [
    {
     "name": "stdout",
     "output_type": "stream",
     "text": [
      "invalid literal for int() with base 10: 'Gaurav'\n"
     ]
    }
   ],
   "source": [
    "try :\n",
    "    int(\"Gaurav\")\n",
    "except (ValueError,TypeError) as e:\n",
    "    print(e)"
   ]
  },
  {
   "cell_type": "code",
   "execution_count": 6,
   "id": "45d3e8f7-8b96-4b5c-b8c9-ed766b9a000f",
   "metadata": {},
   "outputs": [
    {
     "name": "stdout",
     "output_type": "stream",
     "text": [
      "This will catch an error\n"
     ]
    }
   ],
   "source": [
    "try :\n",
    "    int(\"Gaurav\")\n",
    "except :\n",
    "    print(\"This will catch an error\")"
   ]
  },
  {
   "cell_type": "code",
   "execution_count": 7,
   "id": "452c3829-5457-47c7-9a6b-beb5e99f1f53",
   "metadata": {},
   "outputs": [
    {
     "name": "stdout",
     "output_type": "stream",
     "text": [
      "No module named 'gaurav'\n"
     ]
    },
    {
     "data": {
      "text/plain": [
       "2.0"
      ]
     },
     "execution_count": 7,
     "metadata": {},
     "output_type": "execute_result"
    }
   ],
   "source": [
    "try :\n",
    "    import gaurav\n",
    "except ImportError as e :\n",
    "    print(e)\n",
    "10/5"
   ]
  },
  {
   "cell_type": "code",
   "execution_count": 8,
   "id": "97649edd-2b6a-41de-ba93-728b3a31d9ad",
   "metadata": {},
   "outputs": [
    {
     "name": "stdout",
     "output_type": "stream",
     "text": [
      "'key2'\n"
     ]
    }
   ],
   "source": [
    "try :\n",
    "    d={\"Key\":\"gaurav\",1:[2,3,4]}\n",
    "    print(d[\"key2\"])\n",
    "except KeyError as e :\n",
    "    print(e)"
   ]
  },
  {
   "cell_type": "code",
   "execution_count": 9,
   "id": "be5f3275-18b3-4d0c-b4de-03c46b8aac34",
   "metadata": {},
   "outputs": [
    {
     "name": "stdout",
     "output_type": "stream",
     "text": [
      "'str' object has no attribute 'test'\n"
     ]
    }
   ],
   "source": [
    "try :\n",
    "    \"Gaurav\".test()\n",
    "except AttributeError as e :\n",
    "    print(e)"
   ]
  },
  {
   "cell_type": "code",
   "execution_count": 10,
   "id": "cacabbd7-0f45-4e57-9889-22db352268a3",
   "metadata": {},
   "outputs": [
    {
     "name": "stdout",
     "output_type": "stream",
     "text": [
      "list index out of range\n"
     ]
    }
   ],
   "source": [
    "try :\n",
    "    l=[2,3,4,5]\n",
    "    print(l[6])\n",
    "except IndexError as e :\n",
    "    print(e)"
   ]
  },
  {
   "cell_type": "code",
   "execution_count": 11,
   "id": "2940a0f4-677e-4c6f-9dbb-a77c05ac60b6",
   "metadata": {},
   "outputs": [
    {
     "name": "stdout",
     "output_type": "stream",
     "text": [
      "unsupported operand type(s) for +: 'int' and 'str'\n"
     ]
    }
   ],
   "source": [
    "try :\n",
    "    123 + \"Gaurav\"\n",
    "    \n",
    "except TypeError as e :\n",
    "    print(e)"
   ]
  },
  {
   "cell_type": "code",
   "execution_count": 15,
   "id": "484b72ab-7ca6-450d-b6f5-92a4b6caf23d",
   "metadata": {},
   "outputs": [
    {
     "name": "stdout",
     "output_type": "stream",
     "text": [
      "[Errno 2] No such file or directory: 'test3.txt'\n"
     ]
    }
   ],
   "source": [
    "try :\n",
    "    with open(\"test3.txt\",\"r\") as f:\n",
    "        test=f.read()\n",
    "except FileNotFoundError as e :\n",
    "    print(e)\n",
    "    "
   ]
  },
  {
   "cell_type": "code",
   "execution_count": 17,
   "id": "2bf25984-5a43-4749-bb68-c490ceb5af34",
   "metadata": {},
   "outputs": [
    {
     "data": {
      "text/plain": [
       "['__cause__',\n",
       " '__class__',\n",
       " '__context__',\n",
       " '__delattr__',\n",
       " '__dict__',\n",
       " '__dir__',\n",
       " '__doc__',\n",
       " '__eq__',\n",
       " '__format__',\n",
       " '__ge__',\n",
       " '__getattribute__',\n",
       " '__gt__',\n",
       " '__hash__',\n",
       " '__init__',\n",
       " '__init_subclass__',\n",
       " '__le__',\n",
       " '__lt__',\n",
       " '__ne__',\n",
       " '__new__',\n",
       " '__reduce__',\n",
       " '__reduce_ex__',\n",
       " '__repr__',\n",
       " '__setattr__',\n",
       " '__setstate__',\n",
       " '__sizeof__',\n",
       " '__str__',\n",
       " '__subclasshook__',\n",
       " '__suppress_context__',\n",
       " '__traceback__',\n",
       " 'args',\n",
       " 'with_traceback']"
      ]
     },
     "execution_count": 17,
     "metadata": {},
     "output_type": "execute_result"
    }
   ],
   "source": [
    "dir(Exception)"
   ]
  },
  {
   "cell_type": "code",
   "execution_count": 19,
   "id": "de1a7827-5130-4cde-8ea9-c008ab2a8026",
   "metadata": {},
   "outputs": [
    {
     "name": "stdout",
     "output_type": "stream",
     "text": [
      "[Errno 2] No such file or directory: 'test3.txt'\n"
     ]
    }
   ],
   "source": [
    "try :\n",
    "    with open(\"test3.txt\",\"r\") as f:\n",
    "        test=f.read()\n",
    "except Exception as e : ## Bad practice of exception\n",
    "    print(e)\n",
    "except FileNotFoundError as e :\n",
    "    print(\"test\",e)"
   ]
  },
  {
   "cell_type": "code",
   "execution_count": 21,
   "id": "b245fb84-2a6f-48f3-8bdb-3b04cab78445",
   "metadata": {},
   "outputs": [],
   "source": [
    "def test(file):\n",
    "    try :\n",
    "        with open(\"test3.txt\",\"r\") as f:\n",
    "            test=f.read()\n",
    "    except Exception as e : ## Bad practice of exception\n",
    "        print(e)\n",
    "    except FileNotFoundError as e :\n",
    "        print(\"test\",e)\n",
    "    \n"
   ]
  },
  {
   "cell_type": "code",
   "execution_count": null,
   "id": "0b9c011c-bcc5-4871-be3f-d9558a748dbe",
   "metadata": {},
   "outputs": [],
   "source": []
  }
 ],
 "metadata": {
  "kernelspec": {
   "display_name": "Python 3 (ipykernel)",
   "language": "python",
   "name": "python3"
  },
  "language_info": {
   "codemirror_mode": {
    "name": "ipython",
    "version": 3
   },
   "file_extension": ".py",
   "mimetype": "text/x-python",
   "name": "python",
   "nbconvert_exporter": "python",
   "pygments_lexer": "ipython3",
   "version": "3.10.8"
  }
 },
 "nbformat": 4,
 "nbformat_minor": 5
}
