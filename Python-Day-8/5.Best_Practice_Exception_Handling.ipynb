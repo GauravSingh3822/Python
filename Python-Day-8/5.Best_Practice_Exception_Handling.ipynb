{
 "cells": [
  {
   "cell_type": "markdown",
   "id": "4b92d4b1-1b38-443b-9c23-db4fc46a37c5",
   "metadata": {},
   "source": [
    "# 1.Use always a specific exception"
   ]
  },
  {
   "cell_type": "code",
   "execution_count": 4,
   "id": "8527cb38-1808-4648-b645-2ba2ae31c77b",
   "metadata": {},
   "outputs": [
    {
     "name": "stdout",
     "output_type": "stream",
     "text": [
      "division by zero\n"
     ]
    }
   ],
   "source": [
    "try :\n",
    "    10/0\n",
    "except Exception as e :\n",
    "    print(e)"
   ]
  },
  {
   "cell_type": "code",
   "execution_count": 5,
   "id": "411d4589-f1d7-45f9-982a-766bf795ab0a",
   "metadata": {},
   "outputs": [
    {
     "name": "stdout",
     "output_type": "stream",
     "text": [
      "division by zero\n"
     ]
    }
   ],
   "source": [
    "try :\n",
    "    10/0\n",
    "except ZeroDivisionError as e :\n",
    "    print(e)"
   ]
  },
  {
   "cell_type": "markdown",
   "id": "cdf0005b-5238-4b06-bf6c-d7044cf93d02",
   "metadata": {},
   "source": [
    "# 2.Print always a proper message"
   ]
  },
  {
   "cell_type": "code",
   "execution_count": 6,
   "id": "5ce4a1b5-743d-4585-af9b-e4a80c71caea",
   "metadata": {},
   "outputs": [
    {
     "name": "stdout",
     "output_type": "stream",
     "text": [
      "I am trying to handle a ZeroDivision Error  division by zero\n"
     ]
    }
   ],
   "source": [
    "try :\n",
    "    10/0\n",
    "except ZeroDivisionError as e :\n",
    "    print(\"I am trying to handle a ZeroDivision Error \",e)"
   ]
  },
  {
   "cell_type": "markdown",
   "id": "bd7c76ed-b5ba-4936-855a-863cc8050f87",
   "metadata": {},
   "source": [
    "# 3.Always try to Logging your error"
   ]
  },
  {
   "cell_type": "code",
   "execution_count": 9,
   "id": "1ba81cb4-6490-4631-ae59-cb176d31c6f7",
   "metadata": {},
   "outputs": [],
   "source": [
    "import logging\n",
    "logging.basicConfig(filename=\"Error.log\",level=logging.ERROR)\n",
    "try :\n",
    "    10/0\n",
    "except ZeroDivisionError as e :\n",
    "    logging.error(\"I am trying to handle a ZeroDivision Error {} \".format(e) )"
   ]
  },
  {
   "cell_type": "markdown",
   "id": "bb791128-f57e-484b-8331-5d48fc586222",
   "metadata": {},
   "source": [
    "# 4.Always avoid to write a multiple exception Handling"
   ]
  },
  {
   "cell_type": "code",
   "execution_count": 10,
   "id": "d095c684-2402-4593-89d4-bc281457065f",
   "metadata": {},
   "outputs": [],
   "source": [
    "try :\n",
    "    10/0\n",
    "except FileNotFoundError as e :\n",
    "    logging.error(\"I am handling file not found {}\".format(e))\n",
    "except ZeroDivisionError as e :\n",
    "    logging.error(\"I am trying to handle a ZeroDivision Error {} \".format(e) )\n",
    "except AttributeError as e :\n",
    "    logging.error(\"I am handling Attribute error {}\".format(e))"
   ]
  },
  {
   "cell_type": "markdown",
   "id": "73bf1414-6d90-4070-9463-9f0a46042a0d",
   "metadata": {},
   "source": [
    "# 5.Document all the error\n",
    "# 6.Cleanup all the resource"
   ]
  },
  {
   "cell_type": "code",
   "execution_count": 11,
   "id": "df11de30-8280-4106-98ce-205f4a29fbe8",
   "metadata": {},
   "outputs": [],
   "source": [
    "try :\n",
    "    with open(\"test.txt\",\"w\") as f :\n",
    "        f.write(\"This is my data to file\")\n",
    "except FileNotFoundError as e :\n",
    "    logging.error(\"I am handling file not found {}\".format(e))\n",
    "finally :\n",
    "    f.close()"
   ]
  },
  {
   "cell_type": "code",
   "execution_count": null,
   "id": "9505c2e4-3754-486c-93a0-2e01dd471079",
   "metadata": {},
   "outputs": [],
   "source": []
  }
 ],
 "metadata": {
  "kernelspec": {
   "display_name": "Python 3 (ipykernel)",
   "language": "python",
   "name": "python3"
  },
  "language_info": {
   "codemirror_mode": {
    "name": "ipython",
    "version": 3
   },
   "file_extension": ".py",
   "mimetype": "text/x-python",
   "name": "python",
   "nbconvert_exporter": "python",
   "pygments_lexer": "ipython3",
   "version": "3.10.8"
  }
 },
 "nbformat": 4,
 "nbformat_minor": 5
}
